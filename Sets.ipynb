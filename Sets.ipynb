{
 "cells": [
  {
   "cell_type": "markdown",
   "id": "1fae9b6f-bbfd-49f7-89e5-532158d99598",
   "metadata": {},
   "source": [
    "# SETS :"
   ]
  },
  {
   "cell_type": "markdown",
   "id": "b829842d-d71b-49f0-b58c-e9d784e3bb40",
   "metadata": {},
   "source": [
    "SETS IS A COLLECTION OF UNIQUE VALUES\n",
    "\n",
    "SET IS UNORDER\n",
    "\n",
    "SET IS MUTABLE\n",
    "\n",
    "SET DOES NOT ALLOW DUPLICATES\n",
    "\n",
    "IT CAN BE REPRESENTED IN {}\n",
    "\n",
    "EVERY ELEMENT IS DIVIDED BY ' , '"
   ]
  },
  {
   "cell_type": "markdown",
   "id": "22bf6eb4-8670-49bd-81a1-a213a43b1291",
   "metadata": {},
   "source": [
    "EXAMPLE :"
   ]
  },
  {
   "cell_type": "code",
   "execution_count": 52,
   "id": "daf41e7c-96ba-4517-9d4e-3f4b2683b006",
   "metadata": {},
   "outputs": [
    {
     "data": {
      "text/plain": [
       "set"
      ]
     },
     "execution_count": 52,
     "metadata": {},
     "output_type": "execute_result"
    }
   ],
   "source": [
    "a = {1,2,3,4,5,6}\n",
    "type(a)"
   ]
  },
  {
   "cell_type": "code",
   "execution_count": 55,
   "id": "bb45d387-097f-4543-bcba-e143352a7ba5",
   "metadata": {},
   "outputs": [
    {
     "data": {
      "text/plain": [
       "set"
      ]
     },
     "execution_count": 55,
     "metadata": {},
     "output_type": "execute_result"
    }
   ],
   "source": [
    "b = {\"apple\",\"banana\",\"cherry\"}\n",
    "type(b)"
   ]
  },
  {
   "cell_type": "markdown",
   "id": "f62be35c-f1bf-4d24-98e5-afbaa58e529d",
   "metadata": {},
   "source": [
    "TO CONVERT THE LIST INTO SET:"
   ]
  },
  {
   "cell_type": "code",
   "execution_count": 4,
   "id": "fdf671a3-4d01-47ad-b1c4-8cd532b65482",
   "metadata": {},
   "outputs": [
    {
     "name": "stdout",
     "output_type": "stream",
     "text": [
      "{1, 2, 3, 4, 5}\n"
     ]
    }
   ],
   "source": [
    "a = set([1,2,3,4,5])\n",
    "print(a)"
   ]
  },
  {
   "cell_type": "markdown",
   "id": "66bbdad0-4e47-424c-9b96-e15e1ea4bfe6",
   "metadata": {},
   "source": [
    "WHEN WE GIVE DUPLICATES AS INPUT:"
   ]
  },
  {
   "cell_type": "code",
   "execution_count": 62,
   "id": "212b254c-f96c-4291-861e-961b38bad7f7",
   "metadata": {},
   "outputs": [
    {
     "name": "stdout",
     "output_type": "stream",
     "text": [
      "{1, 2, 3, 4, 5, 6, 7}\n"
     ]
    }
   ],
   "source": [
    "X = {1,2,2,3,4,5,2,3,7,7,4,3,5,6,7}\n",
    "print(X)"
   ]
  },
  {
   "cell_type": "markdown",
   "id": "2533a8f5-2c2a-4b9c-a3e8-63817e0005c3",
   "metadata": {},
   "source": [
    "# SET FUNCTIONS OR INPUTS"
   ]
  },
  {
   "cell_type": "markdown",
   "id": "b8ef5a2f-9cf3-4a59-943b-47ec93d18223",
   "metadata": {},
   "source": [
    "# 1)ADD :"
   ]
  },
  {
   "cell_type": "code",
   "execution_count": 99,
   "id": "1963e7c7-97ec-4068-9b70-b32d4f7a46e6",
   "metadata": {},
   "outputs": [],
   "source": [
    "word = {'apple','banana','cherry'}\n",
    "word.add('pineapple')"
   ]
  },
  {
   "cell_type": "code",
   "execution_count": 101,
   "id": "cee7b8a0-592f-4009-ac32-52a66ce3136f",
   "metadata": {},
   "outputs": [
    {
     "data": {
      "text/plain": [
       "{'apple', 'banana', 'cherry', 'pineapple'}"
      ]
     },
     "execution_count": 101,
     "metadata": {},
     "output_type": "execute_result"
    }
   ],
   "source": [
    "word"
   ]
  },
  {
   "cell_type": "markdown",
   "id": "d7cca497-e420-4ba9-8bcb-823145bdbeba",
   "metadata": {},
   "source": [
    "# 2) REMOVE:"
   ]
  },
  {
   "cell_type": "code",
   "execution_count": 95,
   "id": "8537d9b4-52c5-40d0-bcaf-abc69a300280",
   "metadata": {},
   "outputs": [],
   "source": [
    "word = {'apple','banana','cherry'}\n",
    "word.remove('apple')"
   ]
  },
  {
   "cell_type": "code",
   "execution_count": 97,
   "id": "6bfd675e-4262-4404-b9e8-4ed3ce720df9",
   "metadata": {},
   "outputs": [
    {
     "data": {
      "text/plain": [
       "{'banana', 'cherry'}"
      ]
     },
     "execution_count": 97,
     "metadata": {},
     "output_type": "execute_result"
    }
   ],
   "source": [
    "word"
   ]
  },
  {
   "cell_type": "markdown",
   "id": "4ae5d2cd-5c0c-4a9f-83ab-403af847bbde",
   "metadata": {},
   "source": [
    "# 3) POP:"
   ]
  },
  {
   "cell_type": "code",
   "execution_count": 113,
   "id": "19de3306-6092-4a80-94fb-cfcb7843bf7f",
   "metadata": {},
   "outputs": [
    {
     "data": {
      "text/plain": [
       "1"
      ]
     },
     "execution_count": 113,
     "metadata": {},
     "output_type": "execute_result"
    }
   ],
   "source": [
    "x = {1,2,3,4,5,6}\n",
    "x.pop()"
   ]
  },
  {
   "cell_type": "markdown",
   "id": "8b70d98e-6591-46d2-85d4-5c4cf68db95a",
   "metadata": {},
   "source": [
    "# 4) LENGTH:"
   ]
  },
  {
   "cell_type": "code",
   "execution_count": 115,
   "id": "47488d90-7351-4d8e-880f-8391ab5368e3",
   "metadata": {},
   "outputs": [
    {
     "data": {
      "text/plain": [
       "8"
      ]
     },
     "execution_count": 115,
     "metadata": {},
     "output_type": "execute_result"
    }
   ],
   "source": [
    "x = {1,2,34,5,6,3,5,8,8,5,4}\n",
    "len(x)"
   ]
  },
  {
   "cell_type": "markdown",
   "id": "1a74bad4-e941-4ef5-b3c1-66430b651b5f",
   "metadata": {},
   "source": [
    "# UNION"
   ]
  },
  {
   "cell_type": "code",
   "execution_count": 22,
   "id": "eb75b207-4dc6-4bb5-b1f0-25d36664e3e6",
   "metadata": {},
   "outputs": [],
   "source": [
    "a = {1,2,3,4}\n",
    "b  = {6,4,8,9}\n",
    "c = a|b"
   ]
  },
  {
   "cell_type": "code",
   "execution_count": 24,
   "id": "d1fa92a7-1285-4b62-bb87-1c3de7696578",
   "metadata": {},
   "outputs": [
    {
     "data": {
      "text/plain": [
       "{1, 2, 3, 4, 6, 8, 9}"
      ]
     },
     "execution_count": 24,
     "metadata": {},
     "output_type": "execute_result"
    }
   ],
   "source": [
    "c"
   ]
  },
  {
   "cell_type": "code",
   "execution_count": 26,
   "id": "bd097ee0-ac4b-4781-9681-54fe95d22dc8",
   "metadata": {},
   "outputs": [
    {
     "data": {
      "text/plain": [
       "{1, 2, 3, 4, 6, 8, 9}"
      ]
     },
     "execution_count": 26,
     "metadata": {},
     "output_type": "execute_result"
    }
   ],
   "source": [
    "a.union(b)"
   ]
  },
  {
   "cell_type": "markdown",
   "id": "773ae741-c81d-4416-97a9-92036427d8cb",
   "metadata": {},
   "source": [
    "# INTERSECTION"
   ]
  },
  {
   "cell_type": "code",
   "execution_count": 28,
   "id": "f2c56dc7-9a37-433b-8d7d-0c9da8f1a3ea",
   "metadata": {},
   "outputs": [
    {
     "data": {
      "text/plain": [
       "{4}"
      ]
     },
     "execution_count": 28,
     "metadata": {},
     "output_type": "execute_result"
    }
   ],
   "source": [
    "a & b"
   ]
  },
  {
   "cell_type": "code",
   "execution_count": 123,
   "id": "cc452868-c674-4b80-a56d-a2ba6ee92b67",
   "metadata": {},
   "outputs": [
    {
     "data": {
      "text/plain": [
       "{'apple', 'banana', 'cherry'}"
      ]
     },
     "execution_count": 123,
     "metadata": {},
     "output_type": "execute_result"
    }
   ],
   "source": [
    "a.intersection(b)"
   ]
  },
  {
   "cell_type": "markdown",
   "id": "0a748db4-e2d7-4e06-bf1d-51e9f3f8f25f",
   "metadata": {},
   "source": [
    "# SYMMETRIC DIFFERENCE"
   ]
  },
  {
   "cell_type": "code",
   "execution_count": 30,
   "id": "a01e312e-a19a-44b0-ae69-55ffa7924d1f",
   "metadata": {},
   "outputs": [
    {
     "data": {
      "text/plain": [
       "{1, 2, 3, 6, 8, 9}"
      ]
     },
     "execution_count": 30,
     "metadata": {},
     "output_type": "execute_result"
    }
   ],
   "source": [
    "a.symmetric_difference(b)"
   ]
  },
  {
   "cell_type": "code",
   "execution_count": 32,
   "id": "09f89627-2632-4422-9063-5965d3ebb381",
   "metadata": {},
   "outputs": [
    {
     "data": {
      "text/plain": [
       "{1, 2, 3, 6, 8, 9}"
      ]
     },
     "execution_count": 32,
     "metadata": {},
     "output_type": "execute_result"
    }
   ],
   "source": [
    "a^b"
   ]
  },
  {
   "cell_type": "markdown",
   "id": "ee48c8bb-946d-4baf-b900-212b51bcda7c",
   "metadata": {},
   "source": [
    "# DIFFERENCE"
   ]
  },
  {
   "cell_type": "code",
   "execution_count": 131,
   "id": "019b62c1-7df3-421f-9e4a-36c08ca48586",
   "metadata": {},
   "outputs": [
    {
     "data": {
      "text/plain": [
       "{'pineapple'}"
      ]
     },
     "execution_count": 131,
     "metadata": {},
     "output_type": "execute_result"
    }
   ],
   "source": [
    "a-b "
   ]
  },
  {
   "cell_type": "code",
   "execution_count": 38,
   "id": "6b0b166f-bcdc-4ce1-8c3f-0fbbb91cca51",
   "metadata": {},
   "outputs": [
    {
     "data": {
      "text/plain": [
       "{6, 8, 9}"
      ]
     },
     "execution_count": 38,
     "metadata": {},
     "output_type": "execute_result"
    }
   ],
   "source": [
    "b-a"
   ]
  },
  {
   "cell_type": "markdown",
   "id": "0ca27a93-bd52-4a9b-83a6-15083ec2a225",
   "metadata": {},
   "source": [
    "# .CLEAR"
   ]
  },
  {
   "cell_type": "code",
   "execution_count": 40,
   "id": "f0ca0927-231a-41de-b450-11f5bafe7c6c",
   "metadata": {},
   "outputs": [],
   "source": [
    "a.clear()"
   ]
  },
  {
   "cell_type": "code",
   "execution_count": 42,
   "id": "6185ec95-466e-46de-bec4-64e785991310",
   "metadata": {},
   "outputs": [
    {
     "name": "stdout",
     "output_type": "stream",
     "text": [
      "set()\n"
     ]
    }
   ],
   "source": [
    "print(a)"
   ]
  },
  {
   "cell_type": "code",
   "execution_count": 138,
   "id": "9db4d6d2-1f0e-4bc2-b9e1-5ccf2d442442",
   "metadata": {},
   "outputs": [
    {
     "name": "stdout",
     "output_type": "stream",
     "text": [
      "set()\n"
     ]
    }
   ],
   "source": [
    "b.clear()\n",
    "print(b)"
   ]
  }
 ],
 "metadata": {
  "kernelspec": {
   "display_name": "Python [conda env:base] *",
   "language": "python",
   "name": "conda-base-py"
  },
  "language_info": {
   "codemirror_mode": {
    "name": "ipython",
    "version": 3
   },
   "file_extension": ".py",
   "mimetype": "text/x-python",
   "name": "python",
   "nbconvert_exporter": "python",
   "pygments_lexer": "ipython3",
   "version": "3.12.7"
  }
 },
 "nbformat": 4,
 "nbformat_minor": 5
}

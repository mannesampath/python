{
 "cells": [
  {
   "cell_type": "markdown",
   "id": "9999cde6-e32f-49bc-8455-c46230703dd4",
   "metadata": {},
   "source": [
    "# PYTHON OPERATORRS"
   ]
  },
  {
   "cell_type": "markdown",
   "id": "b6860562-aa4f-42fe-a5f5-72611a9295b0",
   "metadata": {},
   "source": [
    "# 1) ARITHEMATIC OPERATORS"
   ]
  },
  {
   "cell_type": "markdown",
   "id": "edefa7ab-438c-44f6-af73-5cd2dddf997f",
   "metadata": {},
   "source": [
    "Arithmetic operators in Python are used for mathematical operations: + (addition), - (subtraction), * (multiplication), / (division), // (floor division), % (modulus), and ** (exponentiation). These operators perform calculations on numeric values.\n",
    "\n",
    "\n",
    "\n",
    "\n",
    "\n",
    "\n",
    "\n"
   ]
  },
  {
   "cell_type": "code",
   "execution_count": 4,
   "id": "d2583539-c7f9-4d35-b26c-70c3e45c2991",
   "metadata": {},
   "outputs": [],
   "source": [
    "a = 5\n",
    "b = 7"
   ]
  },
  {
   "cell_type": "code",
   "execution_count": 6,
   "id": "ecba34b7-419f-4b04-9967-b70abe384a0b",
   "metadata": {},
   "outputs": [],
   "source": [
    "c = a+b"
   ]
  },
  {
   "cell_type": "code",
   "execution_count": 16,
   "id": "a3949655-0eb1-477d-bd9b-beaa5e4a3c4e",
   "metadata": {},
   "outputs": [
    {
     "data": {
      "text/plain": [
       "12"
      ]
     },
     "execution_count": 16,
     "metadata": {},
     "output_type": "execute_result"
    }
   ],
   "source": [
    "c"
   ]
  },
  {
   "cell_type": "code",
   "execution_count": 20,
   "id": "e6cb09c9-1270-4594-a739-818bd9b65603",
   "metadata": {},
   "outputs": [],
   "source": [
    "d = a-b"
   ]
  },
  {
   "cell_type": "code",
   "execution_count": 22,
   "id": "1feac2c8-49b4-4f6e-868f-497cd8a4967c",
   "metadata": {},
   "outputs": [
    {
     "data": {
      "text/plain": [
       "-2"
      ]
     },
     "execution_count": 22,
     "metadata": {},
     "output_type": "execute_result"
    }
   ],
   "source": [
    "d"
   ]
  },
  {
   "cell_type": "code",
   "execution_count": 24,
   "id": "918ed0a8-9f98-42ec-9622-69a18d450646",
   "metadata": {},
   "outputs": [],
   "source": [
    "e = a*b"
   ]
  },
  {
   "cell_type": "code",
   "execution_count": 26,
   "id": "d5548358-d293-4317-be1e-03858a0753d8",
   "metadata": {},
   "outputs": [
    {
     "data": {
      "text/plain": [
       "35"
      ]
     },
     "execution_count": 26,
     "metadata": {},
     "output_type": "execute_result"
    }
   ],
   "source": [
    "e"
   ]
  },
  {
   "cell_type": "code",
   "execution_count": 28,
   "id": "3c2665ee-5eeb-4eaa-8b58-49c0caed6c3b",
   "metadata": {},
   "outputs": [],
   "source": [
    "f = a/b"
   ]
  },
  {
   "cell_type": "code",
   "execution_count": 30,
   "id": "a0bd07e3-4a7f-40a7-baae-29a10768911b",
   "metadata": {},
   "outputs": [
    {
     "data": {
      "text/plain": [
       "0.7142857142857143"
      ]
     },
     "execution_count": 30,
     "metadata": {},
     "output_type": "execute_result"
    }
   ],
   "source": [
    "f"
   ]
  },
  {
   "cell_type": "code",
   "execution_count": 32,
   "id": "afc52f84-3e36-4b4d-8ab7-2d81129a63f7",
   "metadata": {},
   "outputs": [],
   "source": [
    "g = a//b"
   ]
  },
  {
   "cell_type": "code",
   "execution_count": 34,
   "id": "b4f64ed2-d7e6-4c12-8299-5a25d4c42d27",
   "metadata": {},
   "outputs": [
    {
     "data": {
      "text/plain": [
       "0"
      ]
     },
     "execution_count": 34,
     "metadata": {},
     "output_type": "execute_result"
    }
   ],
   "source": [
    "g"
   ]
  },
  {
   "cell_type": "code",
   "execution_count": 36,
   "id": "2943bbbe-9ffb-4861-a7bc-6018f6a493f1",
   "metadata": {},
   "outputs": [],
   "source": [
    "h = a%b"
   ]
  },
  {
   "cell_type": "code",
   "execution_count": 38,
   "id": "f761accc-6b47-457d-826f-b7d5f11f39b7",
   "metadata": {},
   "outputs": [
    {
     "data": {
      "text/plain": [
       "5"
      ]
     },
     "execution_count": 38,
     "metadata": {},
     "output_type": "execute_result"
    }
   ],
   "source": [
    "h"
   ]
  },
  {
   "cell_type": "code",
   "execution_count": 40,
   "id": "8a9df9c3-4ab5-46d4-9b39-2439c968c074",
   "metadata": {},
   "outputs": [],
   "source": [
    "i = a**b"
   ]
  },
  {
   "cell_type": "code",
   "execution_count": 42,
   "id": "4f1681ad-8b01-49c3-8a5e-fe9059ea9ddd",
   "metadata": {},
   "outputs": [
    {
     "data": {
      "text/plain": [
       "78125"
      ]
     },
     "execution_count": 42,
     "metadata": {},
     "output_type": "execute_result"
    }
   ],
   "source": [
    "i"
   ]
  },
  {
   "cell_type": "markdown",
   "id": "f9066508-c434-49a0-83c5-014219922e8b",
   "metadata": {},
   "source": [
    "# 2) COMPARISON OPERATORS"
   ]
  },
  {
   "cell_type": "markdown",
   "id": "116cd238-bc72-40a5-9413-2a176dd380a5",
   "metadata": {},
   "source": [
    "Comparison operators in Python are used to compare two values and return a Boolean result (True or False). The six comparison operators are: == (equal), != (not equal), > (greater than), < (less than), >= (greater than or equal to), and <= (less than or equal to)."
   ]
  },
  {
   "cell_type": "code",
   "execution_count": 70,
   "id": "071c99f8-8650-4f51-bf8b-e961cd1ff8e9",
   "metadata": {},
   "outputs": [
    {
     "name": "stdout",
     "output_type": "stream",
     "text": [
      "True\n"
     ]
    }
   ],
   "source": [
    "print(15 == 15)"
   ]
  },
  {
   "cell_type": "code",
   "execution_count": 65,
   "id": "4232ad8b-aa2b-46c6-97d2-777a12fd932b",
   "metadata": {},
   "outputs": [
    {
     "name": "stdout",
     "output_type": "stream",
     "text": [
      "False\n"
     ]
    }
   ],
   "source": [
    "print(18!= 18)"
   ]
  },
  {
   "cell_type": "code",
   "execution_count": 53,
   "id": "ae3db3b9-315b-4bf1-99fe-d11ae08765ad",
   "metadata": {},
   "outputs": [
    {
     "name": "stdout",
     "output_type": "stream",
     "text": [
      "True\n"
     ]
    }
   ],
   "source": [
    "print(2>1)"
   ]
  },
  {
   "cell_type": "code",
   "execution_count": 63,
   "id": "1c193378-fc28-4e32-8a5c-b3dae6fba9c4",
   "metadata": {},
   "outputs": [
    {
     "name": "stdout",
     "output_type": "stream",
     "text": [
      "False\n"
     ]
    }
   ],
   "source": [
    "print(10<2)"
   ]
  },
  {
   "cell_type": "code",
   "execution_count": 57,
   "id": "c9060178-e32a-4c0e-9333-bb94f4acff05",
   "metadata": {},
   "outputs": [
    {
     "name": "stdout",
     "output_type": "stream",
     "text": [
      "True\n"
     ]
    }
   ],
   "source": [
    "print(15>=12)"
   ]
  },
  {
   "cell_type": "code",
   "execution_count": 61,
   "id": "a604e0b3-2f0a-47bf-9475-54e7bdb47b9d",
   "metadata": {},
   "outputs": [
    {
     "name": "stdout",
     "output_type": "stream",
     "text": [
      "False\n"
     ]
    }
   ],
   "source": [
    "print(19<=15)"
   ]
  },
  {
   "cell_type": "markdown",
   "id": "b20f1577-65c3-4df6-bda8-a68aacc0d081",
   "metadata": {},
   "source": [
    "# 3) ASSIGNMENT OPERATORS"
   ]
  },
  {
   "cell_type": "markdown",
   "id": "e82cbe22-d3a0-4922-ba3b-05428e42c42a",
   "metadata": {},
   "source": [
    "Assignment operators in Python are used to assign values to variables, such as = (simple assignment) and +=, -=, *=, etc., which modify and update the variable's value.\n",
    "\n",
    "COMBINATION OF BOTH = AND ARITHEMATIC OPERATORS"
   ]
  },
  {
   "cell_type": "code",
   "execution_count": 101,
   "id": "e603f17f-8336-454f-9493-4fb0e4e8ccec",
   "metadata": {},
   "outputs": [
    {
     "name": "stdout",
     "output_type": "stream",
     "text": [
      "10\n"
     ]
    }
   ],
   "source": [
    "a = 7\n",
    "b = 3\n",
    "a += b\n",
    "print(a)"
   ]
  },
  {
   "cell_type": "code",
   "execution_count": 103,
   "id": "100d14de-c61b-42b8-9062-10b95781e795",
   "metadata": {},
   "outputs": [
    {
     "name": "stdout",
     "output_type": "stream",
     "text": [
      "7\n"
     ]
    }
   ],
   "source": [
    "a -= b\n",
    "print(a)"
   ]
  },
  {
   "cell_type": "code",
   "execution_count": 105,
   "id": "c4458eb1-8ecb-48ac-a28e-d40f2108c340",
   "metadata": {},
   "outputs": [
    {
     "name": "stdout",
     "output_type": "stream",
     "text": [
      "21\n"
     ]
    }
   ],
   "source": [
    "a *= b\n",
    "print(a)"
   ]
  },
  {
   "cell_type": "code",
   "execution_count": 109,
   "id": "70758410-a71c-44cd-8079-a3f545c6dd79",
   "metadata": {},
   "outputs": [
    {
     "name": "stdout",
     "output_type": "stream",
     "text": [
      "12.5\n"
     ]
    }
   ],
   "source": [
    "a = 25\n",
    "b = 2\n",
    "a/=b\n",
    "print(a)"
   ]
  },
  {
   "cell_type": "markdown",
   "id": "be4e018c-259b-4017-b58e-49eeb9226f7a",
   "metadata": {},
   "source": [
    "# 4) LOGICAL OPERATORS"
   ]
  },
  {
   "cell_type": "markdown",
   "id": "1c9d531e-d6f1-4372-9c5f-346de6f6954c",
   "metadata": {},
   "source": [
    "Logical operators in Python (and, or, not) are used to combine conditional statements.\n",
    "and returns True if both conditions are True, or returns True if at least one condition is True,\n",
    "not  Reverses the result (not(x > 5), returns False if x > 5)."
   ]
  },
  {
   "cell_type": "markdown",
   "id": "f1787857-1218-4964-8573-06ad2c9c6d4e",
   "metadata": {},
   "source": [
    "# and"
   ]
  },
  {
   "cell_type": "code",
   "execution_count": 121,
   "id": "08f3b459-4c5d-4a05-80de-90e18187cc42",
   "metadata": {},
   "outputs": [
    {
     "name": "stdout",
     "output_type": "stream",
     "text": [
      "True\n"
     ]
    }
   ],
   "source": [
    "print(2>1 & 7<9)"
   ]
  },
  {
   "cell_type": "markdown",
   "id": "9ce43c91-716b-402a-837a-75460442d79b",
   "metadata": {},
   "source": [
    "# or"
   ]
  },
  {
   "cell_type": "code",
   "execution_count": 240,
   "id": "429f3aa6-3889-4b58-bc2f-00a7c11daa7a",
   "metadata": {},
   "outputs": [
    {
     "name": "stdout",
     "output_type": "stream",
     "text": [
      "True\n"
     ]
    }
   ],
   "source": [
    "print(2>=2 or 7>9)"
   ]
  },
  {
   "cell_type": "markdown",
   "id": "42c473d3-665e-46ef-beb1-cec600d78c51",
   "metadata": {},
   "source": [
    "# not"
   ]
  },
  {
   "cell_type": "code",
   "execution_count": 127,
   "id": "319c0350-a1f9-49de-9880-0bc25a56956a",
   "metadata": {},
   "outputs": [
    {
     "name": "stdout",
     "output_type": "stream",
     "text": [
      "False\n"
     ]
    }
   ],
   "source": [
    "print (not(25>2 & 19<25))"
   ]
  },
  {
   "cell_type": "markdown",
   "id": "19e70696-5798-4a9d-9f82-c36e3f9ef444",
   "metadata": {},
   "source": [
    "# 5) IDENTITY OPERATORS"
   ]
  },
  {
   "cell_type": "markdown",
   "id": "b80fa53e-1703-4209-9fea-ea7ae6371b48",
   "metadata": {},
   "source": [
    "Identity operators in Python (is and is not) compare memory locations of objects. is returns True if two variables reference the same object, while is not returns True if they reference different objects."
   ]
  },
  {
   "cell_type": "code",
   "execution_count": 238,
   "id": "fdb018d8-741f-4f7b-9a0f-3b2ab07acaf0",
   "metadata": {},
   "outputs": [
    {
     "name": "stdout",
     "output_type": "stream",
     "text": [
      "True\n"
     ]
    }
   ],
   "source": [
    "a = 7\n",
    "b= 7\n",
    "print(b is a)"
   ]
  },
  {
   "cell_type": "code",
   "execution_count": 137,
   "id": "e58436cc-20e9-431f-90f0-1b635111fc90",
   "metadata": {},
   "outputs": [
    {
     "name": "stdout",
     "output_type": "stream",
     "text": [
      "False\n"
     ]
    }
   ],
   "source": [
    "a = 2\n",
    "b = 2\n",
    "print (b is not a)"
   ]
  },
  {
   "cell_type": "code",
   "execution_count": 139,
   "id": "919fb464-736e-405f-aa03-a955c8b234e2",
   "metadata": {},
   "outputs": [
    {
     "name": "stdout",
     "output_type": "stream",
     "text": [
      "False\n"
     ]
    }
   ],
   "source": [
    "a = 7\n",
    "b= 2\n",
    "print( a is b)"
   ]
  },
  {
   "cell_type": "markdown",
   "id": "fcdb5416-f674-470f-923e-ed659231393e",
   "metadata": {},
   "source": [
    "# 6) MEMBERSHIP OPERATORS"
   ]
  },
  {
   "cell_type": "markdown",
   "id": "a7de6f0a-60fd-4486-af8d-0f00be928758",
   "metadata": {},
   "source": [
    "Membership operators in Python are in and not in, used to check if a value exists in a sequence (like lists, tuples, or strings)."
   ]
  },
  {
   "cell_type": "code",
   "execution_count": 143,
   "id": "94cbae22-600d-445d-b5e8-7ffd12bdfb7f",
   "metadata": {},
   "outputs": [],
   "source": [
    "a = [1,2,3,4,5,6]"
   ]
  },
  {
   "cell_type": "code",
   "execution_count": 145,
   "id": "1064ea39-d588-4d74-afff-db6d52ccc790",
   "metadata": {},
   "outputs": [
    {
     "name": "stdout",
     "output_type": "stream",
     "text": [
      "True\n"
     ]
    }
   ],
   "source": [
    "print(2 in a)"
   ]
  },
  {
   "cell_type": "code",
   "execution_count": 147,
   "id": "e6e375d9-96ce-49e1-bb94-27bf09c2c6ce",
   "metadata": {},
   "outputs": [
    {
     "name": "stdout",
     "output_type": "stream",
     "text": [
      "False\n"
     ]
    }
   ],
   "source": [
    "print(7 in a)"
   ]
  },
  {
   "cell_type": "code",
   "execution_count": 149,
   "id": "728b327c-40e6-42ba-8822-644f9fe301c7",
   "metadata": {},
   "outputs": [
    {
     "name": "stdout",
     "output_type": "stream",
     "text": [
      "False\n"
     ]
    }
   ],
   "source": [
    "print(6 not in a )"
   ]
  },
  {
   "cell_type": "code",
   "execution_count": 153,
   "id": "62f6e9b0-feb9-455f-bbbe-161b00bc1768",
   "metadata": {},
   "outputs": [
    {
     "name": "stdout",
     "output_type": "stream",
     "text": [
      "True\n"
     ]
    }
   ],
   "source": [
    "print( 1 in a)"
   ]
  },
  {
   "cell_type": "markdown",
   "id": "522b3448-dbff-44c2-a4b4-22b7e1cf468b",
   "metadata": {},
   "source": [
    "# 7)BITWISE OPERATORS"
   ]
  },
  {
   "cell_type": "markdown",
   "id": "a265f980-d9c4-4145-86f7-c4ec66103349",
   "metadata": {},
   "source": [
    "Bitwise operators in Python perform operations on binary representations of integers. \n",
    "\n",
    "They include AND (&), OR (|), XOR (^), NOT (~), left shift (<<), and right shift (>>)."
   ]
  },
  {
   "cell_type": "markdown",
   "id": "39fae5ad-c22d-4ff4-ae16-a2c0f2849b4c",
   "metadata": {},
   "source": [
    "# &(AND)= both conditions should satified"
   ]
  },
  {
   "cell_type": "code",
   "execution_count": 214,
   "id": "6fc23d04-f474-4d58-8370-aed9cde2321f",
   "metadata": {},
   "outputs": [
    {
     "name": "stdout",
     "output_type": "stream",
     "text": [
      "3\n"
     ]
    }
   ],
   "source": [
    "print(7 & 3)"
   ]
  },
  {
   "cell_type": "code",
   "execution_count": 162,
   "id": "615af119-d41b-4f1b-843a-680b846b46f3",
   "metadata": {},
   "outputs": [
    {
     "name": "stdout",
     "output_type": "stream",
     "text": [
      "17\n"
     ]
    }
   ],
   "source": [
    "print(27 & 21)"
   ]
  },
  {
   "cell_type": "markdown",
   "id": "745c0b73-546f-4c28-b5ca-9eae22e61645",
   "metadata": {},
   "source": [
    "# |(OR) = either 1 of the condition should satisfy"
   ]
  },
  {
   "cell_type": "code",
   "execution_count": 164,
   "id": "0f6f1036-c577-4ecc-98c0-1ef6c53d8b5d",
   "metadata": {},
   "outputs": [
    {
     "name": "stdout",
     "output_type": "stream",
     "text": [
      "31\n"
     ]
    }
   ],
   "source": [
    "print(27 | 21)"
   ]
  },
  {
   "cell_type": "markdown",
   "id": "b4969a95-9048-4888-8d42-1fd7a8145aa1",
   "metadata": {},
   "source": [
    "# ^(XOR) = both should not satisfy and both should not dissatisfy"
   ]
  },
  {
   "cell_type": "code",
   "execution_count": 171,
   "id": "80047d8c-4f47-4566-8d17-aa927eba96b7",
   "metadata": {},
   "outputs": [
    {
     "name": "stdout",
     "output_type": "stream",
     "text": [
      "4\n"
     ]
    }
   ],
   "source": [
    "print(7 ^ 3)"
   ]
  },
  {
   "cell_type": "markdown",
   "id": "9f07be32-cc02-4cf8-8d97-d7275715fef2",
   "metadata": {},
   "source": [
    "# ~(NOT) = we calculate this as -(n+1)"
   ]
  },
  {
   "cell_type": "code",
   "execution_count": 184,
   "id": "75386139-e5b9-4f11-96a2-a7aa9cb15b80",
   "metadata": {},
   "outputs": [
    {
     "name": "stdout",
     "output_type": "stream",
     "text": [
      "-8\n"
     ]
    }
   ],
   "source": [
    "print(~7)"
   ]
  },
  {
   "cell_type": "code",
   "execution_count": 187,
   "id": "59731266-7fcc-4ba9-ad83-08315d617a2d",
   "metadata": {},
   "outputs": [
    {
     "name": "stdout",
     "output_type": "stream",
     "text": [
      "-251\n"
     ]
    }
   ],
   "source": [
    "print(~250)"
   ]
  },
  {
   "cell_type": "markdown",
   "id": "635e4a9e-528f-4f8c-86a4-b0fd2bed7638",
   "metadata": {},
   "source": [
    "# <<(LEFT SHIFT) = no. of zeros we add into the binary code"
   ]
  },
  {
   "cell_type": "code",
   "execution_count": 194,
   "id": "0ba4a647-4e1b-45e1-a033-e3a714b236d5",
   "metadata": {},
   "outputs": [
    {
     "name": "stdout",
     "output_type": "stream",
     "text": [
      "56\n"
     ]
    }
   ],
   "source": [
    "print(7<<3)"
   ]
  },
  {
   "cell_type": "code",
   "execution_count": 196,
   "id": "ea067c97-adca-4916-a922-11aaa2173b4c",
   "metadata": {},
   "outputs": [
    {
     "name": "stdout",
     "output_type": "stream",
     "text": [
      "108\n"
     ]
    }
   ],
   "source": [
    "print(27<<2)"
   ]
  },
  {
   "cell_type": "markdown",
   "id": "4d6dd4ad-c20d-4788-9a9d-3c2d18b14e3b",
   "metadata": {},
   "source": [
    "# >>(RIGHT SHIFT) = no. of places we need to remove"
   ]
  },
  {
   "cell_type": "code",
   "execution_count": 205,
   "id": "f100e824-a6ea-4c7c-b019-54f2dc2b2c5c",
   "metadata": {},
   "outputs": [
    {
     "name": "stdout",
     "output_type": "stream",
     "text": [
      "6\n"
     ]
    }
   ],
   "source": [
    "print(27>>2)"
   ]
  },
  {
   "cell_type": "code",
   "execution_count": 207,
   "id": "4a389ee9-9d82-400f-9d0f-e3671ccc94e0",
   "metadata": {},
   "outputs": [
    {
     "name": "stdout",
     "output_type": "stream",
     "text": [
      "13\n"
     ]
    }
   ],
   "source": [
    "print(108>> 3)"
   ]
  },
  {
   "cell_type": "code",
   "execution_count": null,
   "id": "74caa9cb-0543-4462-9a26-ee73b43838c4",
   "metadata": {},
   "outputs": [],
   "source": []
  },
  {
   "cell_type": "code",
   "execution_count": null,
   "id": "4d2f6b84-b489-4ec5-9f78-2ec953b69063",
   "metadata": {},
   "outputs": [],
   "source": []
  },
  {
   "cell_type": "markdown",
   "id": "23f9354e-6b51-4dfb-9f60-996bb9dcef5e",
   "metadata": {},
   "source": [
    "# TASK:"
   ]
  },
  {
   "cell_type": "code",
   "execution_count": 212,
   "id": "9e0e28b0-6d64-42e4-b4d1-81584010099e",
   "metadata": {},
   "outputs": [
    {
     "name": "stdout",
     "output_type": "stream",
     "text": [
      "1\n"
     ]
    }
   ],
   "source": [
    "print(77&33)"
   ]
  },
  {
   "cell_type": "code",
   "execution_count": 216,
   "id": "d28e1e6b-3923-4f42-82fb-5b09721c1b73",
   "metadata": {},
   "outputs": [
    {
     "name": "stdout",
     "output_type": "stream",
     "text": [
      "23\n"
     ]
    }
   ],
   "source": [
    "print(87&23)"
   ]
  },
  {
   "cell_type": "code",
   "execution_count": 218,
   "id": "f7ab2ef3-d1b8-435a-b8ca-17e17ea871c6",
   "metadata": {},
   "outputs": [
    {
     "name": "stdout",
     "output_type": "stream",
     "text": [
      "119\n"
     ]
    }
   ],
   "source": [
    "print(37|87)"
   ]
  },
  {
   "cell_type": "code",
   "execution_count": 220,
   "id": "71243bb6-761f-40df-a765-1355f8a8d458",
   "metadata": {},
   "outputs": [
    {
     "name": "stdout",
     "output_type": "stream",
     "text": [
      "107\n"
     ]
    }
   ],
   "source": [
    "print(73|99)"
   ]
  },
  {
   "cell_type": "code",
   "execution_count": 222,
   "id": "3b2ff0a1-91ed-4174-a7b3-835ad07ebb6f",
   "metadata": {},
   "outputs": [
    {
     "name": "stdout",
     "output_type": "stream",
     "text": [
      "296\n"
     ]
    }
   ],
   "source": [
    "print(37<<3)"
   ]
  },
  {
   "cell_type": "code",
   "execution_count": 226,
   "id": "2aa6a1cd-f25f-435d-9c5c-d96da35d9d4b",
   "metadata": {},
   "outputs": [
    {
     "name": "stdout",
     "output_type": "stream",
     "text": [
      "308\n"
     ]
    }
   ],
   "source": [
    "print(77<<2)"
   ]
  },
  {
   "cell_type": "code",
   "execution_count": 228,
   "id": "aa9fd92e-ea4f-4b87-8bc1-751c8b36ebe9",
   "metadata": {},
   "outputs": [
    {
     "name": "stdout",
     "output_type": "stream",
     "text": [
      "86\n"
     ]
    }
   ],
   "source": [
    "print(347>>2)"
   ]
  },
  {
   "cell_type": "code",
   "execution_count": 230,
   "id": "5fd910d4-011c-4149-98b6-2f22b31167a7",
   "metadata": {},
   "outputs": [
    {
     "name": "stdout",
     "output_type": "stream",
     "text": [
      "124\n"
     ]
    }
   ],
   "source": [
    "print(999>>3)"
   ]
  },
  {
   "cell_type": "code",
   "execution_count": 232,
   "id": "eee5927e-f76e-41da-8f4f-b5c812113e66",
   "metadata": {},
   "outputs": [
    {
     "name": "stdout",
     "output_type": "stream",
     "text": [
      "0\n"
     ]
    }
   ],
   "source": [
    "print(7>>3)"
   ]
  },
  {
   "cell_type": "code",
   "execution_count": 234,
   "id": "6e274a89-bb74-4adb-a7d4-1381ad7d1fb6",
   "metadata": {},
   "outputs": [
    {
     "name": "stdout",
     "output_type": "stream",
     "text": [
      "10\n"
     ]
    }
   ],
   "source": [
    "print(9^3)"
   ]
  },
  {
   "cell_type": "code",
   "execution_count": 245,
   "id": "fdcb437e-9d70-49ad-baf6-6f4adca78ee2",
   "metadata": {},
   "outputs": [
    {
     "name": "stdout",
     "output_type": "stream",
     "text": [
      "105\n"
     ]
    }
   ],
   "source": [
    "print(73^32)"
   ]
  },
  {
   "cell_type": "markdown",
   "id": "452d5a9a-e8cd-48c2-a9c5-6da97e7e9c95",
   "metadata": {},
   "source": [
    "# CONDITIONAL STATEMENT "
   ]
  },
  {
   "cell_type": "markdown",
   "id": "21723b36-aa50-44b5-b517-7da4bf934af4",
   "metadata": {},
   "source": [
    "A CONDITIONAL STATEMENT EVALUATES WHEATHER A CONDITION IS TRUE OR FALSE AND EXECUTES CODE ACCORDINGLY.\n",
    "IT TYPICALLY USES 'if,elif,else\"."
   ]
  },
  {
   "cell_type": "markdown",
   "id": "6fdb2969-fc3b-40d5-85e4-4b92f28360d0",
   "metadata": {},
   "source": [
    "# 1) IF STATEMENT :"
   ]
  },
  {
   "cell_type": "code",
   "execution_count": 34,
   "id": "d07231bc-8509-439b-bce3-e18af9f2314d",
   "metadata": {},
   "outputs": [
    {
     "name": "stdout",
     "output_type": "stream",
     "text": [
      "given number is positive\n"
     ]
    }
   ],
   "source": [
    "num = 7\n",
    "if num> 0:\n",
    "    print(\"given number is positive\")"
   ]
  },
  {
   "cell_type": "markdown",
   "id": "99a1980d-a4b1-4541-acc3-eb053d9e6a3b",
   "metadata": {},
   "source": [
    "# 2) ELSE STATEMENT :"
   ]
  },
  {
   "cell_type": "code",
   "execution_count": 36,
   "id": "04d1fc9c-16ce-46f6-82ea-f583289c55ea",
   "metadata": {},
   "outputs": [
    {
     "name": "stdout",
     "output_type": "stream",
     "text": [
      "given number is negative\n"
     ]
    }
   ],
   "source": [
    "num = -7\n",
    "if num> 0:\n",
    "    print(\"given number is positive\")\n",
    "else:\n",
    "    print(\"given number is negative\")"
   ]
  },
  {
   "cell_type": "markdown",
   "id": "d5d8ba19-2bc3-455a-b623-3ae1d9551534",
   "metadata": {},
   "source": [
    "# 3) ELIF STATEMENT"
   ]
  },
  {
   "cell_type": "code",
   "execution_count": 42,
   "id": "fc2e1ec1-00f0-4e5f-878d-41fdecb4cf83",
   "metadata": {},
   "outputs": [
    {
     "name": "stdin",
     "output_type": "stream",
     "text": [
      "enter a number 0\n"
     ]
    },
    {
     "name": "stdout",
     "output_type": "stream",
     "text": [
      "given number is zero\n"
     ]
    }
   ],
   "source": [
    "num = int(input(\"enter a number\"))\n",
    "if num>0:\n",
    "    print(\"given number is positive\")\n",
    "elif num==0:\n",
    "    print(\"given number is zero\")\n",
    "else:\n",
    "    print(\"given number is negative\")"
   ]
  },
  {
   "cell_type": "markdown",
   "id": "5d82da50-1481-4daa-8fa6-8610556e8621",
   "metadata": {},
   "source": [
    "# EX : 1"
   ]
  },
  {
   "cell_type": "code",
   "execution_count": 51,
   "id": "44b74c52-771a-40ee-bf7e-57978041cca9",
   "metadata": {},
   "outputs": [
    {
     "name": "stdin",
     "output_type": "stream",
     "text": [
      "enter your age 55\n"
     ]
    },
    {
     "name": "stdout",
     "output_type": "stream",
     "text": [
      "retire\n"
     ]
    }
   ],
   "source": [
    "age = int(input(\"enter your age\"))\n",
    "if age <=18:\n",
    "    print(\"go to college\")\n",
    "elif age>19 and age<=50:\n",
    "    print(\"go to work\")\n",
    "else:\n",
    "    print(\"retire\")"
   ]
  },
  {
   "cell_type": "markdown",
   "id": "75dd4373-9255-4198-8a85-042d60bb66db",
   "metadata": {},
   "source": [
    "# EX : 2"
   ]
  },
  {
   "cell_type": "code",
   "execution_count": 54,
   "id": "8b31ae8f-4d95-4cb9-9a46-11438517fa54",
   "metadata": {},
   "outputs": [
    {
     "name": "stdin",
     "output_type": "stream",
     "text": [
      "enter your age 18\n"
     ]
    },
    {
     "name": "stdout",
     "output_type": "stream",
     "text": [
      "you are eligible to vote\n"
     ]
    }
   ],
   "source": [
    "age = int(input(\"enter your age\"))\n",
    "if age>=18:\n",
    "    print(\"you are eligible to vote\")\n",
    "else:\n",
    "    print(\"you are not eligible to vote\")\n",
    "    "
   ]
  },
  {
   "cell_type": "markdown",
   "id": "093c3518-f5b4-4ecd-bb64-de818e190942",
   "metadata": {},
   "source": [
    "# PRACTICE QUESTIONS"
   ]
  },
  {
   "cell_type": "markdown",
   "id": "383bf308-e048-4b2f-b921-adaee28cb2ad",
   "metadata": {},
   "source": [
    "# EVEN NUMBER OR ODD NUMBER"
   ]
  },
  {
   "cell_type": "code",
   "execution_count": 37,
   "id": "c95b94cb-cb3b-4b10-8885-347299757d41",
   "metadata": {},
   "outputs": [
    {
     "name": "stdin",
     "output_type": "stream",
     "text": [
      "enter a number 8\n"
     ]
    },
    {
     "name": "stdout",
     "output_type": "stream",
     "text": [
      "given number is even number: 8\n"
     ]
    }
   ],
   "source": [
    "x = int(input(\"enter a number\"))\n",
    "if x%2 == 0:\n",
    "    print(\"given number is even number:\",x)\n",
    "else :\n",
    "    print(\"given number is odd number:\",x)"
   ]
  },
  {
   "cell_type": "markdown",
   "id": "b640af07-82a2-470b-9668-a8373ae07fc4",
   "metadata": {},
   "source": [
    "# FINDING SMALLEST NUMBER"
   ]
  },
  {
   "cell_type": "code",
   "execution_count": 55,
   "id": "6027e7f5-df4b-4229-8270-a54ffa6f240b",
   "metadata": {},
   "outputs": [
    {
     "name": "stdout",
     "output_type": "stream",
     "text": [
      "the smallest number among 10,15,and 20 is :10\n"
     ]
    }
   ],
   "source": [
    "num1 = 10\n",
    "num2 = 15\n",
    "num3 = 20\n",
    "smallest = find_smallest(num1,num2,num3)\n",
    "print(f\"the smallest number among {num1},{num2},and {num3} is :{smallest}\")                         "
   ]
  },
  {
   "cell_type": "markdown",
   "id": "d19f4733-859f-4d37-a162-9d0db5b0a0b6",
   "metadata": {},
   "source": [
    "# FINDING MAXIMUM NUMBER"
   ]
  },
  {
   "cell_type": "code",
   "execution_count": 43,
   "id": "f3ecc4c3-6e9c-478e-9ba8-a299983d13fd",
   "metadata": {},
   "outputs": [
    {
     "name": "stdout",
     "output_type": "stream",
     "text": [
      "Y is large\n"
     ]
    }
   ],
   "source": [
    "X,Y,Z=23,45,34\n",
    "if X>Y and X>Z:\n",
    "  print(\"X is large\")\n",
    "elif Y>X and Y>Z:\n",
    "  print(\"Y is large\")\n",
    "else:\n",
    "  print(\"Z is large\")"
   ]
  },
  {
   "cell_type": "markdown",
   "id": "2b9cf29a-4d8d-4607-b94d-de169eff987e",
   "metadata": {},
   "source": [
    "# GRADING"
   ]
  },
  {
   "cell_type": "code",
   "execution_count": 48,
   "id": "2368ecee-3c41-4e9e-8cb5-da632126ef8f",
   "metadata": {},
   "outputs": [
    {
     "name": "stdin",
     "output_type": "stream",
     "text": [
      "enter your marks 67\n"
     ]
    },
    {
     "name": "stdout",
     "output_type": "stream",
     "text": [
      "B+\n"
     ]
    }
   ],
   "source": [
    "marks = int(input(\"enter your marks\"))\n",
    "if marks>=90 and marks>=80:\n",
    "  print(\"A+\")\n",
    "elif marks<=80 and marks>=70:\n",
    "  print(\"A\")\n",
    "elif marks<=70 and marks>=60:\n",
    "  print(\"B+\")\n",
    "elif marks<=60 and marks>=50:\n",
    "  print(\"B\")\n",
    "else:\n",
    "  print(\"fail\")"
   ]
  },
  {
   "cell_type": "markdown",
   "id": "020bd62e-e14f-4c86-9960-32d26a26784d",
   "metadata": {},
   "source": [
    "# FINDING VOWELS"
   ]
  },
  {
   "cell_type": "code",
   "execution_count": 52,
   "id": "595ce473-0d75-4b92-884c-c46493dcbb20",
   "metadata": {},
   "outputs": [
    {
     "name": "stdin",
     "output_type": "stream",
     "text": [
      "enter your character U\n"
     ]
    },
    {
     "name": "stdout",
     "output_type": "stream",
     "text": [
      "this is vowel: U\n"
     ]
    }
   ],
   "source": [
    "vol = ['a','e','i','o','u']\n",
    "user = input(\"enter your character\")\n",
    "if user.lower() in vol:\n",
    "    print(\"this is vowel:\",user)\n",
    "else:\n",
    "    print(\"this is not a vowel:\",user)"
   ]
  },
  {
   "cell_type": "markdown",
   "id": "7a6c573c-88a8-4fef-b1ed-f4e79779275b",
   "metadata": {},
   "source": [
    "# SWAP"
   ]
  },
  {
   "cell_type": "code",
   "execution_count": 54,
   "id": "3c11561b-782e-4aa2-b4cf-9da84262d099",
   "metadata": {},
   "outputs": [
    {
     "name": "stdout",
     "output_type": "stream",
     "text": [
      "before swapping 9 10\n",
      "after swapping 10 9\n"
     ]
    }
   ],
   "source": [
    "a=9\n",
    "b=10\n",
    "print(\"before swapping\",a,b)\n",
    "if True:\n",
    "  a,b = b,a\n",
    "print(\"after swapping\",a,b)"
   ]
  }
 ],
 "metadata": {
  "kernelspec": {
   "display_name": "Python [conda env:base] *",
   "language": "python",
   "name": "conda-base-py"
  },
  "language_info": {
   "codemirror_mode": {
    "name": "ipython",
    "version": 3
   },
   "file_extension": ".py",
   "mimetype": "text/x-python",
   "name": "python",
   "nbconvert_exporter": "python",
   "pygments_lexer": "ipython3",
   "version": "3.12.7"
  }
 },
 "nbformat": 4,
 "nbformat_minor": 5
}

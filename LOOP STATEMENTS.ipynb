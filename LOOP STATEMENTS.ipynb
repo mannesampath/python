{
 "cells": [
  {
   "cell_type": "markdown",
   "id": "fcdfadf6-dcf8-4cda-b38e-4f3a87a6a3a1",
   "metadata": {},
   "source": [
    "# LOOP STATEMENTS "
   ]
  },
  {
   "cell_type": "markdown",
   "id": "0bc5ea75-b9a2-4d24-8962-5fe7de1d2c81",
   "metadata": {},
   "source": [
    "a loop statement is a control structure that allows you to repeat a block of code multiple times, either for a specified number of \n",
    "\n",
    "iterations or until a certain condition is met."
   ]
  },
  {
   "cell_type": "markdown",
   "id": "b231e64c-8e43-43ee-afa2-27ef1d267d81",
   "metadata": {},
   "source": [
    "# 1)WHILE LOOP:"
   ]
  },
  {
   "cell_type": "markdown",
   "id": "c4b94a12-fad4-4e98-9879-ea71c80475a1",
   "metadata": {},
   "source": [
    "The while loop repeatedly executes a block of code as long as a given condition is True. It stops when the condition becomes False."
   ]
  },
  {
   "cell_type": "code",
   "execution_count": 1,
   "id": "e5ffd78a-c4f7-4c3e-b4d6-ee6c6f692a23",
   "metadata": {},
   "outputs": [
    {
     "name": "stdout",
     "output_type": "stream",
     "text": [
      "0\n",
      "1\n",
      "2\n",
      "3\n",
      "4\n",
      "5\n"
     ]
    }
   ],
   "source": [
    "i = 0\n",
    "while i<=5:\n",
    "    print(i)\n",
    "    i = i+1"
   ]
  },
  {
   "cell_type": "code",
   "execution_count": 5,
   "id": "f7dc9df3-f179-4c2e-9b5e-dabfdfedf9f7",
   "metadata": {},
   "outputs": [
    {
     "name": "stdout",
     "output_type": "stream",
     "text": [
      "15\n",
      "25\n",
      "35\n",
      "45\n",
      "55\n",
      "65\n",
      "75\n",
      "85\n",
      "95\n",
      "105\n",
      "115\n",
      "125\n",
      "135\n",
      "145\n"
     ]
    }
   ],
   "source": [
    "i = 15\n",
    "while i <=150:\n",
    "    print(i)\n",
    "    i = i+10"
   ]
  },
  {
   "cell_type": "markdown",
   "id": "3315ebe9-6427-4a75-93fb-eaf9f2ae4c64",
   "metadata": {},
   "source": [
    "# 2)FOR LOOP:"
   ]
  },
  {
   "cell_type": "markdown",
   "id": "9cf21e04-7433-4c40-bb4d-50ab63938780",
   "metadata": {},
   "source": [
    "The for loop in Python is used to iterate over a sequence (like a list, tuple, string, or range) or any iterable object. It executes the block of code for each item in the sequence."
   ]
  },
  {
   "cell_type": "code",
   "execution_count": 26,
   "id": "4a5d2f31-255a-4c71-960e-3a3e6f93d7e5",
   "metadata": {},
   "outputs": [
    {
     "name": "stdout",
     "output_type": "stream",
     "text": [
      "1\n",
      "2\n",
      "3\n",
      "4\n",
      "5\n"
     ]
    }
   ],
   "source": [
    "a = [1,2,3,4,5]\n",
    "for i in a:\n",
    "    print(i)"
   ]
  },
  {
   "cell_type": "code",
   "execution_count": 28,
   "id": "0792f4f2-8d59-4760-9ee6-755368393485",
   "metadata": {},
   "outputs": [
    {
     "name": "stdout",
     "output_type": "stream",
     "text": [
      "my age is : 24\n",
      "my age is : 35\n",
      "my age is : 62\n",
      "my age is : 34\n",
      "my age is : 18\n",
      "my age is : 20\n"
     ]
    }
   ],
   "source": [
    "age = [24,35,62,34,18,20]\n",
    "for i in age:\n",
    "    print(\"my age is :\",i)"
   ]
  },
  {
   "cell_type": "code",
   "execution_count": 30,
   "id": "542f76d1-014f-4168-8052-dafa06b437bd",
   "metadata": {},
   "outputs": [
    {
     "name": "stdout",
     "output_type": "stream",
     "text": [
      "p\n",
      "y\n",
      "t\n",
      "h\n",
      "o\n",
      "n\n"
     ]
    }
   ],
   "source": [
    "string = \"python\"\n",
    "for i in string:\n",
    "    print(i)"
   ]
  },
  {
   "cell_type": "code",
   "execution_count": 32,
   "id": "1b57eb6c-0f45-4014-b3f5-0cef20b3c4b1",
   "metadata": {},
   "outputs": [
    {
     "name": "stdout",
     "output_type": "stream",
     "text": [
      "apple\n",
      "banana\n",
      "sampath_yadav\n"
     ]
    }
   ],
   "source": [
    "tup = (\"apple\",\"banana\",\"sampath_yadav\")\n",
    "for sampath in tup:\n",
    "    print(sampath)"
   ]
  },
  {
   "cell_type": "code",
   "execution_count": 1,
   "id": "94cdaf69-dbec-4fa4-9ed5-259b56b830a9",
   "metadata": {},
   "outputs": [
    {
     "name": "stdout",
     "output_type": "stream",
     "text": [
      "64\n",
      "1\n",
      "2\n",
      "3\n",
      "34\n",
      "32\n",
      "423\n",
      "75\n",
      "45\n",
      "85\n",
      "534\n",
      "24\n",
      "89\n",
      "90\n"
     ]
    }
   ],
   "source": [
    "st = {1,2,3,423,24,534,64,64,75,34,85,64,89,45,32,75,90}\n",
    "for i in st:\n",
    "    print(i)"
   ]
  },
  {
   "cell_type": "code",
   "execution_count": 52,
   "id": "90629822-7da9-4aa8-b9b2-dd33e196b619",
   "metadata": {},
   "outputs": [
    {
     "name": "stdout",
     "output_type": "stream",
     "text": [
      "my key is name and my value is sam\n",
      "my key is age and my value is 20\n",
      "my key is location and my value is hyd\n"
     ]
    }
   ],
   "source": [
    "dict = {\"name\":\"sam\",\"age\":20,\"location\":\"hyd\"}\n",
    "for key,value in dict.items():\n",
    "    print(f'my key is {key} and my value is {value}')"
   ]
  },
  {
   "cell_type": "code",
   "execution_count": null,
   "id": "fafa7a3f-a96a-406b-9922-8aa5750f4e67",
   "metadata": {},
   "outputs": [],
   "source": []
  },
  {
   "cell_type": "markdown",
   "id": "656c3f06-9396-47d7-ba97-1e8579d6e57d",
   "metadata": {},
   "source": [
    "# CONTROL STATEMENTS"
   ]
  },
  {
   "cell_type": "markdown",
   "id": "a1932443-2708-42f6-bc14-6908b80579b7",
   "metadata": {},
   "source": [
    "used for the flow of the outputs"
   ]
  },
  {
   "cell_type": "markdown",
   "id": "a141aee1-47bb-4693-b1bf-ee375648f2af",
   "metadata": {},
   "source": [
    "1) pass statement:"
   ]
  },
  {
   "cell_type": "code",
   "execution_count": 60,
   "id": "671b0c1e-214e-4367-93ae-c798dc44f4ed",
   "metadata": {},
   "outputs": [
    {
     "name": "stdout",
     "output_type": "stream",
     "text": [
      "0\n",
      "1\n",
      "3\n",
      "4\n"
     ]
    }
   ],
   "source": [
    "for i in range(5):\n",
    "    if i == 2:\n",
    "        pass\n",
    "    else:\n",
    "        print(i)"
   ]
  },
  {
   "cell_type": "markdown",
   "id": "0cccf2af-1acf-4ba8-bebf-c1ff8e3e8323",
   "metadata": {},
   "source": [
    "2) continue statement"
   ]
  },
  {
   "cell_type": "code",
   "execution_count": 67,
   "id": "9e71a90b-0df0-4d7b-9db5-eec6eea98870",
   "metadata": {},
   "outputs": [
    {
     "name": "stdout",
     "output_type": "stream",
     "text": [
      "1\n",
      "2\n",
      "3\n",
      "4\n",
      "5\n",
      "7\n",
      "8\n",
      "9\n"
     ]
    }
   ],
   "source": [
    "for i in range(1,10):\n",
    "    if i == 6:\n",
    "        continue\n",
    "    else:\n",
    "        print(i)"
   ]
  },
  {
   "cell_type": "markdown",
   "id": "bdbd0ab4-20e4-482e-a08c-77b0d561babc",
   "metadata": {},
   "source": [
    "3) break statement"
   ]
  },
  {
   "cell_type": "code",
   "execution_count": 69,
   "id": "1d1e9fa3-df92-40d1-8be2-76c51fcba069",
   "metadata": {},
   "outputs": [
    {
     "name": "stdout",
     "output_type": "stream",
     "text": [
      "1\n",
      "2\n",
      "3\n",
      "4\n",
      "5\n",
      "6\n"
     ]
    }
   ],
   "source": [
    "for i in range(1,9):\n",
    "    if i == 7:\n",
    "        break\n",
    "    else:\n",
    "        print(i)"
   ]
  }
 ],
 "metadata": {
  "kernelspec": {
   "display_name": "Python [conda env:base] *",
   "language": "python",
   "name": "conda-base-py"
  },
  "language_info": {
   "codemirror_mode": {
    "name": "ipython",
    "version": 3
   },
   "file_extension": ".py",
   "mimetype": "text/x-python",
   "name": "python",
   "nbconvert_exporter": "python",
   "pygments_lexer": "ipython3",
   "version": "3.12.7"
  }
 },
 "nbformat": 4,
 "nbformat_minor": 5
}

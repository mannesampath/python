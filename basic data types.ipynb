{
 "cells": [
  {
   "cell_type": "markdown",
   "id": "850b3f1f-78f9-47c0-9a00-355d0c61bbb8",
   "metadata": {},
   "source": [
    "# what is data type?\n",
    "-In computer programming, data types define the type of data a variable can store. They specify how the data is stored in memory and what operations can be performed on it."
   ]
  },
  {
   "cell_type": "markdown",
   "id": "ea257512-5180-42a3-a614-011fa3dad54b",
   "metadata": {},
   "source": [
    "# integer \n",
    "-An integer is a whole number that can be positive, negative, or zero. Integers do not have fractions or decimals.\n",
    "The set of integers is usually written as:\n",
    "{ ..., -3, -2, -1, 0, 1, 2, 3, ... }"
   ]
  },
  {
   "cell_type": "code",
   "execution_count": 40,
   "id": "b23f86d9-c6a3-474f-a5bd-d2a939ead691",
   "metadata": {},
   "outputs": [],
   "source": [
    "# int with 10 examples:"
   ]
  },
  {
   "cell_type": "code",
   "execution_count": 36,
   "id": "31c73533-d446-4e3b-93c4-bdf27994de0d",
   "metadata": {},
   "outputs": [
    {
     "name": "stdout",
     "output_type": "stream",
     "text": [
      "1\n"
     ]
    }
   ],
   "source": [
    "z = 1\n",
    "print(z)\n"
   ]
  },
  {
   "cell_type": "code",
   "execution_count": 28,
   "id": "44acf413-4542-46cf-a382-2832b21515e1",
   "metadata": {},
   "outputs": [
    {
     "name": "stdout",
     "output_type": "stream",
     "text": [
      "123\n"
     ]
    }
   ],
   "source": [
    "y = 123\n",
    "print(y)"
   ]
  },
  {
   "cell_type": "code",
   "execution_count": 32,
   "id": "633bbc72-8596-4111-93ad-44fd4722a08b",
   "metadata": {},
   "outputs": [
    {
     "name": "stdout",
     "output_type": "stream",
     "text": [
      "-9866\n"
     ]
    }
   ],
   "source": [
    "sam = -9866\n",
    "print(sam)"
   ]
  },
  {
   "cell_type": "code",
   "execution_count": 34,
   "id": "eb0e676d-fc97-4abc-bb3a-941f2b6d63b2",
   "metadata": {},
   "outputs": [
    {
     "name": "stdout",
     "output_type": "stream",
     "text": [
      "0\n"
     ]
    }
   ],
   "source": [
    "veena = 0\n",
    "print(veena)"
   ]
  },
  {
   "cell_type": "code",
   "execution_count": 46,
   "id": "dc892101-9d42-4544-9596-e108aedfe3b9",
   "metadata": {},
   "outputs": [
    {
     "name": "stdout",
     "output_type": "stream",
     "text": [
      "8\n"
     ]
    }
   ],
   "source": [
    "manoj = 8\n",
    "print(manoj)"
   ]
  },
  {
   "cell_type": "code",
   "execution_count": 22,
   "id": "7e428a58-2aef-45c2-b79b-6849ce7010ac",
   "metadata": {},
   "outputs": [
    {
     "name": "stdout",
     "output_type": "stream",
     "text": [
      "12\n"
     ]
    }
   ],
   "source": [
    "a = 5\n",
    "b = 7\n",
    "sum_value = a + b\n",
    "print(sum_value)"
   ]
  },
  {
   "cell_type": "code",
   "execution_count": 24,
   "id": "70322bf9-4da4-4290-b4e8-48400a998705",
   "metadata": {},
   "outputs": [
    {
     "name": "stdout",
     "output_type": "stream",
     "text": [
      "12\n"
     ]
    }
   ],
   "source": [
    "x = 20\n",
    "y = 8\n",
    "difference = x - y\n",
    "print(difference) "
   ]
  },
  {
   "cell_type": "code",
   "execution_count": 26,
   "id": "77c6a022-114e-49d4-8c49-d3aa2d653c02",
   "metadata": {},
   "outputs": [
    {
     "name": "stdout",
     "output_type": "stream",
     "text": [
      "24\n"
     ]
    }
   ],
   "source": [
    "num1 = 4\n",
    "num2 = 6\n",
    "product = num1 * num2\n",
    "print(product)"
   ]
  },
  {
   "cell_type": "code",
   "execution_count": 42,
   "id": "f1bde4b7-5a69-4fb1-b69a-6f243dce75c3",
   "metadata": {},
   "outputs": [
    {
     "name": "stdout",
     "output_type": "stream",
     "text": [
      "2\n"
     ]
    }
   ],
   "source": [
    "remainder = 17 % 5\n",
    "print(remainder) "
   ]
  },
  {
   "cell_type": "code",
   "execution_count": 44,
   "id": "3978090e-b192-48c0-9f11-c8a5bae38922",
   "metadata": {},
   "outputs": [
    {
     "name": "stdout",
     "output_type": "stream",
     "text": [
      "9\n"
     ]
    }
   ],
   "source": [
    "float_num = 9.8\n",
    "int_num = int(float_num)\n",
    "print(int_num)"
   ]
  },
  {
   "cell_type": "markdown",
   "id": "f5bab8bd-d8f5-404e-a66c-14ae95b6e71a",
   "metadata": {},
   "source": [
    "# float :\n",
    "-float is udes to represent the floating-point numbers,which are numbers with decimal points.\n"
   ]
  },
  {
   "cell_type": "code",
   "execution_count": 49,
   "id": "e2a6230e-994a-400a-9805-9986ea6b8778",
   "metadata": {},
   "outputs": [],
   "source": [
    "# 7 float examples"
   ]
  },
  {
   "cell_type": "code",
   "execution_count": 65,
   "id": "05386d87-1964-4f83-a0c8-2317884ce080",
   "metadata": {},
   "outputs": [
    {
     "name": "stdout",
     "output_type": "stream",
     "text": [
      "9.3\n"
     ]
    }
   ],
   "source": [
    "x = 9.3\n",
    "print(x)"
   ]
  },
  {
   "cell_type": "code",
   "execution_count": 67,
   "id": "e72f1273-e712-48b6-8577-0278142a2d83",
   "metadata": {},
   "outputs": [
    {
     "name": "stdout",
     "output_type": "stream",
     "text": [
      "9\n"
     ]
    }
   ],
   "source": [
    "y = 9\n",
    "print(y)"
   ]
  },
  {
   "cell_type": "code",
   "execution_count": 69,
   "id": "2ff0698b-7211-43b2-b964-21f6e7a77b07",
   "metadata": {},
   "outputs": [
    {
     "name": "stdout",
     "output_type": "stream",
     "text": [
      "3.333\n"
     ]
    }
   ],
   "source": [
    "nandu = 3.333\n",
    "print(nandu)"
   ]
  },
  {
   "cell_type": "code",
   "execution_count": 73,
   "id": "b6e9d80a-03d1-4d66-9bee-b060dcad7ced",
   "metadata": {},
   "outputs": [
    {
     "name": "stdout",
     "output_type": "stream",
     "text": [
      "5.6\n"
     ]
    }
   ],
   "source": [
    "sai = 5.6\n",
    "print(sai)"
   ]
  },
  {
   "cell_type": "code",
   "execution_count": 75,
   "id": "8ca5c691-2a18-435d-936a-cefff9c382f3",
   "metadata": {},
   "outputs": [
    {
     "name": "stdout",
     "output_type": "stream",
     "text": [
      "5.999\n"
     ]
    }
   ],
   "source": [
    "x= 5.999\n",
    "print(x)"
   ]
  },
  {
   "cell_type": "code",
   "execution_count": 77,
   "id": "8eb310e1-792d-458d-8a56-f68da515fe49",
   "metadata": {},
   "outputs": [
    {
     "name": "stdout",
     "output_type": "stream",
     "text": [
      "0.111\n"
     ]
    }
   ],
   "source": [
    "word = 0.111\n",
    "print(word)"
   ]
  },
  {
   "cell_type": "code",
   "execution_count": 83,
   "id": "cb14c502-e2fd-43fb-be0b-8b541c36155f",
   "metadata": {},
   "outputs": [
    {
     "name": "stdout",
     "output_type": "stream",
     "text": [
      "1.0\n"
     ]
    }
   ],
   "source": [
    "mummy = 1.0\n",
    "print (mummy)"
   ]
  },
  {
   "cell_type": "markdown",
   "id": "4f662478-6462-428d-9ffc-04c4f61e0e22",
   "metadata": {},
   "source": [
    "# complex numbers\n",
    "-combination of both real and imaginay numbers."
   ]
  },
  {
   "cell_type": "code",
   "execution_count": null,
   "id": "aa183b25-decd-4a76-b1e6-a9e03808adcf",
   "metadata": {},
   "outputs": [],
   "source": [
    "# 7 complex examples"
   ]
  },
  {
   "cell_type": "code",
   "execution_count": 88,
   "id": "2da15cdd-b2c7-4a42-97dd-b5bf81d2b603",
   "metadata": {},
   "outputs": [
    {
     "name": "stdout",
     "output_type": "stream",
     "text": [
      "(7+2j)\n"
     ]
    }
   ],
   "source": [
    "i=7+2j\n",
    "print(i)"
   ]
  },
  {
   "cell_type": "code",
   "execution_count": 90,
   "id": "fd719f30-d6a1-4598-8fd2-95d13bef778e",
   "metadata": {},
   "outputs": [
    {
     "name": "stdout",
     "output_type": "stream",
     "text": [
      "(1-2j)\n"
     ]
    }
   ],
   "source": [
    "i= 1-2j\n",
    "print(i)"
   ]
  },
  {
   "cell_type": "code",
   "execution_count": 94,
   "id": "16e89b7e-820d-4a8a-a450-9d01ac824dca",
   "metadata": {},
   "outputs": [
    {
     "name": "stdout",
     "output_type": "stream",
     "text": [
      "(2.2-3j)\n"
     ]
    }
   ],
   "source": [
    "k= 2.2-3j\n",
    "print(k)"
   ]
  },
  {
   "cell_type": "code",
   "execution_count": 96,
   "id": "096fc87c-6978-4ef9-9ffc-40a51c7b25a9",
   "metadata": {},
   "outputs": [
    {
     "name": "stdout",
     "output_type": "stream",
     "text": [
      "(2-2j)\n"
     ]
    }
   ],
   "source": [
    "h= 2-2j\n",
    "print(h)"
   ]
  },
  {
   "cell_type": "code",
   "execution_count": 98,
   "id": "9908c286-8407-4a45-b2d9-b3c9f7472490",
   "metadata": {},
   "outputs": [
    {
     "name": "stdout",
     "output_type": "stream",
     "text": [
      "(3.3+2.2j)\n"
     ]
    }
   ],
   "source": [
    "l= 3.3+2.2j\n",
    "print(l)"
   ]
  },
  {
   "cell_type": "code",
   "execution_count": 100,
   "id": "763884da-7db6-4284-a8ef-30642ad6a292",
   "metadata": {},
   "outputs": [
    {
     "name": "stdout",
     "output_type": "stream",
     "text": [
      "(4.6+2j)\n"
     ]
    }
   ],
   "source": [
    "h= 4.6+2J\n",
    "print(h)"
   ]
  },
  {
   "cell_type": "code",
   "execution_count": 102,
   "id": "0087b5fe-1493-461f-ab43-8f060242d227",
   "metadata": {},
   "outputs": [
    {
     "name": "stdout",
     "output_type": "stream",
     "text": [
      "(1+2j)\n"
     ]
    }
   ],
   "source": [
    "k=1+2j\n",
    "print(k)"
   ]
  },
  {
   "cell_type": "markdown",
   "id": "64e04a8d-ca6e-47f9-b172-a88b017162d8",
   "metadata": {},
   "source": [
    "# boolean\n",
    "- a boolean (bool) is a data type that represents one of two values:\n",
    "True (1)\n",
    "False (0)"
   ]
  },
  {
   "cell_type": "code",
   "execution_count": null,
   "id": "fb054c20-1ee1-4d4f-a9e6-cdb4d55daafd",
   "metadata": {},
   "outputs": [],
   "source": [
    "#7 examples of boolean"
   ]
  },
  {
   "cell_type": "code",
   "execution_count": 117,
   "id": "8cc291f6-e914-4231-9a28-3ba32209b703",
   "metadata": {},
   "outputs": [
    {
     "name": "stdout",
     "output_type": "stream",
     "text": [
      "True\n"
     ]
    }
   ],
   "source": [
    "x = True\n",
    "y = False\n",
    "print(x)"
   ]
  },
  {
   "cell_type": "code",
   "execution_count": 127,
   "id": "13d46b48-ad4a-434c-9879-a2b455dee252",
   "metadata": {},
   "outputs": [
    {
     "name": "stdout",
     "output_type": "stream",
     "text": [
      "False\n"
     ]
    }
   ],
   "source": [
    "x = True\n",
    "y = False\n",
    "print(y)"
   ]
  },
  {
   "cell_type": "code",
   "execution_count": 109,
   "id": "454d21e2-7b4e-4c0f-9449-a4be7f926125",
   "metadata": {},
   "outputs": [
    {
     "name": "stdout",
     "output_type": "stream",
     "text": [
      "False\n"
     ]
    }
   ],
   "source": [
    "a=3\n",
    "b= 5\n",
    "print(a>b)"
   ]
  },
  {
   "cell_type": "code",
   "execution_count": 111,
   "id": "27fffdc3-0ede-4dee-ad90-97aa55613e41",
   "metadata": {},
   "outputs": [
    {
     "name": "stdout",
     "output_type": "stream",
     "text": [
      "True\n"
     ]
    }
   ],
   "source": [
    "sam = 3\n",
    "nandu = 6\n",
    "print(sam<nandu)"
   ]
  },
  {
   "cell_type": "code",
   "execution_count": 115,
   "id": "cebed8d7-12d3-477d-8e7c-ce8108a2a9b6",
   "metadata": {},
   "outputs": [
    {
     "name": "stdout",
     "output_type": "stream",
     "text": [
      "False\n"
     ]
    }
   ],
   "source": [
    "x = 2\n",
    "y = 2\n",
    "print(x<y)"
   ]
  },
  {
   "cell_type": "code",
   "execution_count": 129,
   "id": "b0607e44-ea4a-4d9e-9039-9225e0773ec3",
   "metadata": {},
   "outputs": [
    {
     "name": "stdout",
     "output_type": "stream",
     "text": [
      "False\n"
     ]
    }
   ],
   "source": [
    "x = False\n",
    "y = True\n",
    "print(x)"
   ]
  },
  {
   "cell_type": "code",
   "execution_count": 131,
   "id": "705cf448-5791-4943-b28b-adedc6d3eb1e",
   "metadata": {},
   "outputs": [
    {
     "name": "stdout",
     "output_type": "stream",
     "text": [
      "True\n"
     ]
    }
   ],
   "source": [
    "x = False\n",
    "y = True\n",
    "print(y)"
   ]
  },
  {
   "cell_type": "markdown",
   "id": "45380c61-5772-4583-8088-a3bba52d5f50",
   "metadata": {},
   "source": [
    "# type conersion\n",
    "- int to float\n",
    "- float to int\n",
    "- int to complex\n",
    "- float to complex"
   ]
  },
  {
   "cell_type": "code",
   "execution_count": 134,
   "id": "e3230510-09cb-4b9a-80ba-18c5a0a4f556",
   "metadata": {},
   "outputs": [],
   "source": [
    "#10 examples of type conversion"
   ]
  },
  {
   "cell_type": "code",
   "execution_count": 144,
   "id": "2ee12996-db77-4c09-ae61-ed28677fe367",
   "metadata": {},
   "outputs": [
    {
     "data": {
      "text/plain": [
       "3.0"
      ]
     },
     "execution_count": 144,
     "metadata": {},
     "output_type": "execute_result"
    }
   ],
   "source": [
    "x= 3\n",
    "float(x)"
   ]
  },
  {
   "cell_type": "code",
   "execution_count": 146,
   "id": "19bb3b25-bbad-48fa-a831-66cb6e6b73e3",
   "metadata": {},
   "outputs": [
    {
     "data": {
      "text/plain": [
       "3"
      ]
     },
     "execution_count": 146,
     "metadata": {},
     "output_type": "execute_result"
    }
   ],
   "source": [
    "y = 3.6\n",
    "int(y)"
   ]
  },
  {
   "cell_type": "code",
   "execution_count": 152,
   "id": "9bac0543-d93a-4b57-8b81-39cf0123e55f",
   "metadata": {},
   "outputs": [
    {
     "data": {
      "text/plain": [
       "(410+0j)"
      ]
     },
     "execution_count": 152,
     "metadata": {},
     "output_type": "execute_result"
    }
   ],
   "source": [
    "navadeep= 410\n",
    "complex(navadeep)"
   ]
  },
  {
   "cell_type": "code",
   "execution_count": 154,
   "id": "fd078daf-43da-4028-9ec7-0c56c2da4349",
   "metadata": {},
   "outputs": [
    {
     "data": {
      "text/plain": [
       "2.0"
      ]
     },
     "execution_count": 154,
     "metadata": {},
     "output_type": "execute_result"
    }
   ],
   "source": [
    "x = 2\n",
    "float(x)"
   ]
  },
  {
   "cell_type": "code",
   "execution_count": 156,
   "id": "2cc7d811-b2b3-4e2b-a6e0-9ebe65245fb1",
   "metadata": {},
   "outputs": [
    {
     "data": {
      "text/plain": [
       "(2+0j)"
      ]
     },
     "execution_count": 156,
     "metadata": {},
     "output_type": "execute_result"
    }
   ],
   "source": [
    "y = 2\n",
    "complex(y)"
   ]
  },
  {
   "cell_type": "code",
   "execution_count": 158,
   "id": "b3321c1a-dd0a-4348-beb6-45b042279572",
   "metadata": {},
   "outputs": [
    {
     "data": {
      "text/plain": [
       "2"
      ]
     },
     "execution_count": 158,
     "metadata": {},
     "output_type": "execute_result"
    }
   ],
   "source": [
    "a = 2.24\n",
    "int(a)"
   ]
  },
  {
   "cell_type": "code",
   "execution_count": 160,
   "id": "7a3f3379-0d86-45c1-9b84-e38ae4d7362f",
   "metadata": {},
   "outputs": [
    {
     "data": {
      "text/plain": [
       "(3.56+0j)"
      ]
     },
     "execution_count": 160,
     "metadata": {},
     "output_type": "execute_result"
    }
   ],
   "source": [
    "b = 3.56\n",
    "complex(b)"
   ]
  },
  {
   "cell_type": "code",
   "execution_count": 165,
   "id": "f16ace70-cdd2-48d7-b7fc-efeaf31f1d7c",
   "metadata": {},
   "outputs": [
    {
     "data": {
      "text/plain": [
       "(-1+0j)"
      ]
     },
     "execution_count": 165,
     "metadata": {},
     "output_type": "execute_result"
    }
   ],
   "source": [
    "b= 3-4\n",
    "complex(b)"
   ]
  },
  {
   "cell_type": "code",
   "execution_count": 167,
   "id": "05b71006-2aea-43e0-b003-c172de8d03c8",
   "metadata": {},
   "outputs": [
    {
     "data": {
      "text/plain": [
       "3"
      ]
     },
     "execution_count": 167,
     "metadata": {},
     "output_type": "execute_result"
    }
   ],
   "source": [
    "x = 3.4\n",
    "int(x)"
   ]
  },
  {
   "cell_type": "code",
   "execution_count": 175,
   "id": "03255430-5fee-4ea9-83cb-10ae20f8fcac",
   "metadata": {},
   "outputs": [
    {
     "data": {
      "text/plain": [
       "0.30000000000000004"
      ]
     },
     "execution_count": 175,
     "metadata": {},
     "output_type": "execute_result"
    }
   ],
   "source": [
    "b = 1.3-1\n",
    "float(b)"
   ]
  },
  {
   "cell_type": "markdown",
   "id": "36ae95dd-5d3c-4052-92d8-7c19c3c4c082",
   "metadata": {},
   "source": [
    "# type function\n",
    "-type conversion is used to identify which type of data is stored in a variable"
   ]
  },
  {
   "cell_type": "code",
   "execution_count": null,
   "id": "c88f36d1-9d41-427e-a3ab-da24f157dee7",
   "metadata": {},
   "outputs": [],
   "source": [
    "#10 exmaples of type function"
   ]
  },
  {
   "cell_type": "code",
   "execution_count": 136,
   "id": "1cf330f4-562f-4d52-964e-a913e88182fe",
   "metadata": {},
   "outputs": [
    {
     "name": "stdout",
     "output_type": "stream",
     "text": [
      "<class 'float'>\n"
     ]
    }
   ],
   "source": [
    "x = 3.6\n",
    "print(type(x))"
   ]
  },
  {
   "cell_type": "code",
   "execution_count": 179,
   "id": "18f83f16-08b6-4550-9e4e-15755a0b8ce3",
   "metadata": {},
   "outputs": [
    {
     "name": "stdout",
     "output_type": "stream",
     "text": [
      "<class 'int'>\n"
     ]
    }
   ],
   "source": [
    "y = 3\n",
    "print(type(y))"
   ]
  },
  {
   "cell_type": "code",
   "execution_count": 181,
   "id": "282c2a3d-27dc-4352-98b2-f179cce52067",
   "metadata": {},
   "outputs": [
    {
     "name": "stdout",
     "output_type": "stream",
     "text": [
      "<class 'int'>\n"
     ]
    }
   ],
   "source": [
    "sam = 25\n",
    "print(type(sam))"
   ]
  },
  {
   "cell_type": "code",
   "execution_count": 189,
   "id": "6d0e6fc3-4bc1-47a3-b04c-fa0137563f2e",
   "metadata": {},
   "outputs": [
    {
     "name": "stdout",
     "output_type": "stream",
     "text": [
      "<class 'bool'>\n"
     ]
    }
   ],
   "source": [
    "a = True\n",
    "print(type(a))"
   ]
  },
  {
   "cell_type": "code",
   "execution_count": 191,
   "id": "72dc9bef-a07a-4a6a-8f91-de8687a87fc5",
   "metadata": {},
   "outputs": [
    {
     "name": "stdout",
     "output_type": "stream",
     "text": [
      "<class 'complex'>\n"
     ]
    }
   ],
   "source": [
    "we = 2+1j\n",
    "print(type(we))"
   ]
  },
  {
   "cell_type": "code",
   "execution_count": 193,
   "id": "794725d3-1e24-4c84-9d5a-d1f11b2c760b",
   "metadata": {},
   "outputs": [
    {
     "name": "stdout",
     "output_type": "stream",
     "text": [
      "<class 'int'>\n"
     ]
    }
   ],
   "source": [
    "a = -1\n",
    "print(type(a))"
   ]
  },
  {
   "cell_type": "code",
   "execution_count": 195,
   "id": "e83864aa-0bbb-43a6-9c32-bea0609ea16f",
   "metadata": {},
   "outputs": [
    {
     "name": "stdout",
     "output_type": "stream",
     "text": [
      "<class 'float'>\n"
     ]
    }
   ],
   "source": [
    "b= 0.001\n",
    "print(type(b))"
   ]
  },
  {
   "cell_type": "code",
   "execution_count": null,
   "id": "1d7ebd3f-422d-4b09-ae34-691eb4871ea8",
   "metadata": {},
   "outputs": [],
   "source": [
    "x = 1"
   ]
  }
 ],
 "metadata": {
  "kernelspec": {
   "display_name": "Python [conda env:base] *",
   "language": "python",
   "name": "conda-base-py"
  },
  "language_info": {
   "codemirror_mode": {
    "name": "ipython",
    "version": 3
   },
   "file_extension": ".py",
   "mimetype": "text/x-python",
   "name": "python",
   "nbconvert_exporter": "python",
   "pygments_lexer": "ipython3",
   "version": "3.12.7"
  }
 },
 "nbformat": 4,
 "nbformat_minor": 5
}

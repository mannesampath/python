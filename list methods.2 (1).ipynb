{
 "cells": [
  {
   "cell_type": "markdown",
   "id": "6c9315fe-f721-4138-8c4c-623bb6101ef6",
   "metadata": {},
   "source": [
    "# LIST METHODS"
   ]
  },
  {
   "cell_type": "markdown",
   "id": "93bf7cc1-9347-4046-ab9f-a6116916aabf",
   "metadata": {},
   "source": [
    "# 1) APPEND: TO ADD A ELEMENT AT THE END OF THE LIST."
   ]
  },
  {
   "cell_type": "code",
   "execution_count": 9,
   "id": "4a5643dd-9d17-4468-9ec8-749b70028e3b",
   "metadata": {},
   "outputs": [
    {
     "name": "stdout",
     "output_type": "stream",
     "text": [
      "[1, 2, 3, 4, 5, 6]\n"
     ]
    }
   ],
   "source": [
    "a = [1,2,3,4,5]\n",
    "a.append(6)\n",
    "print(a)"
   ]
  },
  {
   "cell_type": "markdown",
   "id": "9e879efc-3e5c-4301-a1e0-75eaea6eb23e",
   "metadata": {},
   "source": [
    "# 2)EXTEND: TO ADD MULTIPLE ELEMENTS."
   ]
  },
  {
   "cell_type": "code",
   "execution_count": 16,
   "id": "49ad5182-626d-4d0f-954d-8479daa7f885",
   "metadata": {},
   "outputs": [
    {
     "name": "stdout",
     "output_type": "stream",
     "text": [
      "[1, 2, 3, 4, 5, 6, 7, 8]\n"
     ]
    }
   ],
   "source": [
    "a = [1,2,3,4]\n",
    "b = [5,6,7,8]\n",
    "a.extend(b)\n",
    "print(a)"
   ]
  },
  {
   "cell_type": "markdown",
   "id": "408c3ce3-8310-4000-8717-50ace8efa155",
   "metadata": {},
   "source": [
    "# 3)POP : TO REMOVE A ELEMENT FROM A LIST."
   ]
  },
  {
   "cell_type": "code",
   "execution_count": 24,
   "id": "ccba0af3-b12d-439b-a2e6-7e9a88d323d3",
   "metadata": {},
   "outputs": [
    {
     "name": "stdout",
     "output_type": "stream",
     "text": [
      "[1, 2, 4, 5]\n"
     ]
    }
   ],
   "source": [
    "a = [1,2,3,4,5]\n",
    "a.pop(2)\n",
    "print(a)"
   ]
  },
  {
   "cell_type": "code",
   "execution_count": 28,
   "id": "9d5b2c24-1b64-4068-9dcd-8ca1a246f99b",
   "metadata": {},
   "outputs": [
    {
     "name": "stdout",
     "output_type": "stream",
     "text": [
      "['p', 'y', 't', 'h', 'n']\n"
     ]
    }
   ],
   "source": [
    "word = ['p','y','t','h','o','n']\n",
    "word.pop(4)\n",
    "print(word)"
   ]
  },
  {
   "cell_type": "markdown",
   "id": "4ac681a3-54cd-4f62-8cb4-3e5deeb00ea7",
   "metadata": {},
   "source": [
    "# 4)INSERT : TO ADD A ELEMENT AT A PARTICULAR POSITION."
   ]
  },
  {
   "cell_type": "code",
   "execution_count": 31,
   "id": "f8dc7465-8361-4f9e-b4a5-62fede7fb494",
   "metadata": {},
   "outputs": [
    {
     "name": "stdout",
     "output_type": "stream",
     "text": [
      "[1, 2, 3, 4, 5, 7, 6]\n"
     ]
    }
   ],
   "source": [
    "a = [1,2,3,4,5,6]\n",
    "a.insert(5,7)\n",
    "print(a)"
   ]
  },
  {
   "cell_type": "markdown",
   "id": "5d7c95d2-594a-41cd-a375-be6a82648c4d",
   "metadata": {},
   "source": [
    "# 5)LENGTH(LEN): TO KNOW LENGTH OF LIST OF ELEMENTS."
   ]
  },
  {
   "cell_type": "code",
   "execution_count": 44,
   "id": "5a4a747b-a4c1-46b3-b533-cf8fe1af1263",
   "metadata": {},
   "outputs": [
    {
     "data": {
      "text/plain": [
       "7"
      ]
     },
     "execution_count": 44,
     "metadata": {},
     "output_type": "execute_result"
    }
   ],
   "source": [
    "a = ['i','am','was','playing','with','my','friend']\n",
    "len(a)"
   ]
  },
  {
   "cell_type": "markdown",
   "id": "8c51efbc-f80d-4c51-9b36-082fcd1332ba",
   "metadata": {},
   "source": [
    "# 6) COUNT: TO COUNT THE FREQUENCY OF AN ELEMENT"
   ]
  },
  {
   "cell_type": "code",
   "execution_count": 51,
   "id": "a9ee7606-280c-4ecc-867b-c711e62a8c2e",
   "metadata": {},
   "outputs": [
    {
     "data": {
      "text/plain": [
       "2"
      ]
     },
     "execution_count": 51,
     "metadata": {},
     "output_type": "execute_result"
    }
   ],
   "source": [
    "a = ['i','am','was','playing','with','my','friend','and','i']\n",
    "a.count('i')"
   ]
  },
  {
   "cell_type": "markdown",
   "id": "951bdc4d-b841-4a61-ab31-40475cec62f3",
   "metadata": {},
   "source": [
    "# 7)SORT (): TP ARRANGE THE DATA IN THE ASCENDING ORDER"
   ]
  },
  {
   "cell_type": "code",
   "execution_count": 58,
   "id": "34eaf741-ad18-481c-acf3-eef3f854a2b4",
   "metadata": {},
   "outputs": [],
   "source": [
    "x = [1,5,6,7,8,3,49,0]\n",
    "x.sort()"
   ]
  },
  {
   "cell_type": "code",
   "execution_count": 60,
   "id": "a06e9160-0cb8-4ed5-b7e4-2c0b1d821a6f",
   "metadata": {},
   "outputs": [
    {
     "data": {
      "text/plain": [
       "[0, 1, 3, 5, 6, 7, 8, 49]"
      ]
     },
     "execution_count": 60,
     "metadata": {},
     "output_type": "execute_result"
    }
   ],
   "source": [
    "x"
   ]
  },
  {
   "cell_type": "markdown",
   "id": "350681c1-c24d-42ab-b9b3-c7295b02f59b",
   "metadata": {},
   "source": [
    "# example with characters"
   ]
  },
  {
   "cell_type": "code",
   "execution_count": 72,
   "id": "eda4b387-283d-48be-a151-21dfb7a7f3cd",
   "metadata": {},
   "outputs": [],
   "source": [
    "STR = ['Apple','banana','Cherry','dog']\n",
    "STR.sort()"
   ]
  },
  {
   "cell_type": "code",
   "execution_count": 74,
   "id": "21bcc7cc-59a7-4453-9d94-5a71f8fa26a3",
   "metadata": {},
   "outputs": [
    {
     "data": {
      "text/plain": [
       "['Apple', 'Cherry', 'banana', 'dog']"
      ]
     },
     "execution_count": 74,
     "metadata": {},
     "output_type": "execute_result"
    }
   ],
   "source": [
    "STR"
   ]
  },
  {
   "cell_type": "markdown",
   "id": "33c86fb1-f463-4a2f-a37c-48eb1b284085",
   "metadata": {},
   "source": [
    "# 8) REVERSE (): TO REVERSE THE ENTIRE LIST"
   ]
  },
  {
   "cell_type": "code",
   "execution_count": 83,
   "id": "27cc7be6-227a-4b3a-adf7-b58a530c56a4",
   "metadata": {},
   "outputs": [],
   "source": [
    "a = [0, 1, 3, 5, 6, 7, 8, 49]\n",
    "a.reverse()"
   ]
  },
  {
   "cell_type": "code",
   "execution_count": 85,
   "id": "14d02eb0-0654-4517-b558-86539bf7ea2d",
   "metadata": {},
   "outputs": [
    {
     "data": {
      "text/plain": [
       "[49, 8, 7, 6, 5, 3, 1, 0]"
      ]
     },
     "execution_count": 85,
     "metadata": {},
     "output_type": "execute_result"
    }
   ],
   "source": [
    "a"
   ]
  },
  {
   "cell_type": "markdown",
   "id": "c17bbb69-7a29-43c9-b02c-4707d80fb88a",
   "metadata": {},
   "source": [
    "# 9)DESCENDING ORDER : TO CHANGE OR ARRANGE THE LIST IN DESCENDING ORDER"
   ]
  },
  {
   "cell_type": "code",
   "execution_count": 92,
   "id": "c3a2402a-5a35-4d61-a1bd-f9d32726c79f",
   "metadata": {},
   "outputs": [],
   "source": [
    "x = [0, 1, 3, 5, 6, 7, 8, 49]\n",
    "x.sort()"
   ]
  },
  {
   "cell_type": "code",
   "execution_count": 94,
   "id": "415a7e91-ac75-47ff-b6dd-669e97e5cca7",
   "metadata": {},
   "outputs": [
    {
     "data": {
      "text/plain": [
       "[0, 1, 3, 5, 6, 7, 8, 49]"
      ]
     },
     "execution_count": 94,
     "metadata": {},
     "output_type": "execute_result"
    }
   ],
   "source": [
    "x"
   ]
  },
  {
   "cell_type": "code",
   "execution_count": 100,
   "id": "91b69f22-c902-451a-9b14-2180ddf9ef5a",
   "metadata": {},
   "outputs": [],
   "source": [
    "x.reverse()"
   ]
  },
  {
   "cell_type": "code",
   "execution_count": 102,
   "id": "c85ffe2b-ccdd-4b7d-a9f9-6c585bbfcb27",
   "metadata": {},
   "outputs": [
    {
     "data": {
      "text/plain": [
       "[49, 8, 7, 6, 5, 3, 1, 0]"
      ]
     },
     "execution_count": 102,
     "metadata": {},
     "output_type": "execute_result"
    }
   ],
   "source": [
    "x"
   ]
  },
  {
   "cell_type": "code",
   "execution_count": null,
   "id": "f14421ac-b81e-46c9-9f2a-ca0e90d09e4a",
   "metadata": {},
   "outputs": [],
   "source": []
  }
 ],
 "metadata": {
  "kernelspec": {
   "display_name": "Python [conda env:base] *",
   "language": "python",
   "name": "conda-base-py"
  },
  "language_info": {
   "codemirror_mode": {
    "name": "ipython",
    "version": 3
   },
   "file_extension": ".py",
   "mimetype": "text/x-python",
   "name": "python",
   "nbconvert_exporter": "python",
   "pygments_lexer": "ipython3",
   "version": "3.12.7"
  }
 },
 "nbformat": 4,
 "nbformat_minor": 5
}

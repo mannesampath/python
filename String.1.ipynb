{
 "cells": [
  {
   "cell_type": "markdown",
   "id": "cdac5468-22ea-4ed7-9592-7ebcd1481312",
   "metadata": {},
   "source": [
    "# STRING:"
   ]
  },
  {
   "cell_type": "markdown",
   "id": "ae5686d0-18f5-4f5d-8c97-8c4efc5d2811",
   "metadata": {},
   "source": [
    "STRING IS SEQUENCE OF A CHARACTER\n",
    "\n",
    "IT CAN BE REPRENTED BY USING THE '' OR \" \" OR \"' \"'\n",
    "\n",
    "\"' \"' WE ALSO CALL THIS AS DOC.STRING,AND ALSO WORKS AS COMMENT\n",
    "\n",
    "EACH AND EVERY ELEMENT IS DIVIDED BY USING ','\n"
   ]
  },
  {
   "cell_type": "markdown",
   "id": "661fa116-b3cb-4493-b708-f3fcbb118dc1",
   "metadata": {},
   "source": [
    "EXAMPLE\n",
    "\n",
    "a = 'python'\n",
    "\n",
    "b = \"python\"\n",
    "\n",
    "c = \"' python\"'"
   ]
  },
  {
   "cell_type": "code",
   "execution_count": 7,
   "id": "7d88c07a-05cc-4ca3-af53-8cab5e9805d8",
   "metadata": {},
   "outputs": [
    {
     "data": {
      "text/plain": [
       "'s'"
      ]
     },
     "execution_count": 7,
     "metadata": {},
     "output_type": "execute_result"
    }
   ],
   "source": [
    "word = \"data science\"\n",
    "word[5]"
   ]
  },
  {
   "cell_type": "code",
   "execution_count": 11,
   "id": "57333653-f3c6-4974-ba27-eb322df590c6",
   "metadata": {},
   "outputs": [
    {
     "data": {
      "text/plain": [
       "'i'"
      ]
     },
     "execution_count": 11,
     "metadata": {},
     "output_type": "execute_result"
    }
   ],
   "source": [
    "word[7]"
   ]
  },
  {
   "cell_type": "code",
   "execution_count": 13,
   "id": "9f2cc1e7-d067-4bfa-8392-28121825034f",
   "metadata": {},
   "outputs": [
    {
     "data": {
      "text/plain": [
       "'a'"
      ]
     },
     "execution_count": 13,
     "metadata": {},
     "output_type": "execute_result"
    }
   ],
   "source": [
    "word[-9]\n"
   ]
  },
  {
   "cell_type": "code",
   "execution_count": 15,
   "id": "0e0a3487-53f5-4d75-88b6-1814baff8a7a",
   "metadata": {},
   "outputs": [
    {
     "data": {
      "text/plain": [
       "'ata scien'"
      ]
     },
     "execution_count": 15,
     "metadata": {},
     "output_type": "execute_result"
    }
   ],
   "source": [
    "word[1:10]"
   ]
  },
  {
   "cell_type": "code",
   "execution_count": 19,
   "id": "9f278a4c-c53f-45ee-93c8-69a26507163a",
   "metadata": {},
   "outputs": [
    {
     "data": {
      "text/plain": [
       "'data scien'"
      ]
     },
     "execution_count": 19,
     "metadata": {},
     "output_type": "execute_result"
    }
   ],
   "source": [
    "word[-12:-2]"
   ]
  },
  {
   "cell_type": "markdown",
   "id": "1ca99420-1791-4cc3-b1f2-7ea0e93124f9",
   "metadata": {},
   "source": [
    "# STRING FORMAT"
   ]
  },
  {
   "cell_type": "markdown",
   "id": "44b314d6-ffb7-48e0-9709-97ddc68ffb3c",
   "metadata": {},
   "source": [
    "# 1).FORMAT METHOD:"
   ]
  },
  {
   "cell_type": "code",
   "execution_count": 25,
   "id": "30216837-a265-496c-b9dc-34f0dfeec575",
   "metadata": {},
   "outputs": [
    {
     "name": "stdout",
     "output_type": "stream",
     "text": [
      "my name is sam and i am 20 years old\n"
     ]
    }
   ],
   "source": [
    "name = \"sam\"\n",
    "age = 20\n",
    "print('my name is {} and i am {} years old'.format(name,age))"
   ]
  },
  {
   "cell_type": "markdown",
   "id": "fa118695-1d44-47e0-a195-c48c4b166fbe",
   "metadata": {},
   "source": [
    "# 2)F-STRING METHOD :"
   ]
  },
  {
   "cell_type": "code",
   "execution_count": 28,
   "id": "5f4f7db5-7724-4cd5-9b36-4d1835152e10",
   "metadata": {},
   "outputs": [
    {
     "name": "stdout",
     "output_type": "stream",
     "text": [
      "my name is sam and i am 20 years old\n"
     ]
    }
   ],
   "source": [
    "name = \"sam\"\n",
    "age = 20\n",
    "print(f'my name is {name} and i am {age} years old')"
   ]
  },
  {
   "cell_type": "markdown",
   "id": "60119efc-2242-4624-a34d-4877b321a96b",
   "metadata": {},
   "source": [
    "# 3) CONCATENATION :"
   ]
  },
  {
   "cell_type": "code",
   "execution_count": 37,
   "id": "2ac22448-07b6-4c4d-98d6-734872943f24",
   "metadata": {},
   "outputs": [
    {
     "name": "stdout",
     "output_type": "stream",
     "text": [
      "hello world\n"
     ]
    }
   ],
   "source": [
    "a = 'hello'\n",
    "b = 'world'\n",
    "c = a +' '+ b\n",
    "print(c)"
   ]
  },
  {
   "cell_type": "code",
   "execution_count": null,
   "id": "3cd0dce8-1d7e-4f88-b80d-03d080cf6061",
   "metadata": {},
   "outputs": [],
   "source": [
    "# 4)REPE"
   ]
  }
 ],
 "metadata": {
  "kernelspec": {
   "display_name": "Python [conda env:base] *",
   "language": "python",
   "name": "conda-base-py"
  },
  "language_info": {
   "codemirror_mode": {
    "name": "ipython",
    "version": 3
   },
   "file_extension": ".py",
   "mimetype": "text/x-python",
   "name": "python",
   "nbconvert_exporter": "python",
   "pygments_lexer": "ipython3",
   "version": "3.12.7"
  }
 },
 "nbformat": 4,
 "nbformat_minor": 5
}

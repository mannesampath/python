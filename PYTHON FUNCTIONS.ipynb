{
 "cells": [
  {
   "cell_type": "markdown",
   "id": "7a77907a-9e96-46e9-ac5a-d014467a3777",
   "metadata": {},
   "source": [
    "# FUNCTIONS"
   ]
  },
  {
   "cell_type": "markdown",
   "id": "9be8c85b-51bb-4b5c-a2b0-504923ee5b71",
   "metadata": {},
   "source": [
    "1)Functions are blocks of reusable code that perform a specific task.\n",
    "\n",
    "2)They make the code more modular, readable, and efficient.\n",
    "\n",
    "3)We have two types in functions:\n",
    "   # a)Built-in Function: \n",
    "   That are ready to use.\n",
    "  # b)User define functions:\n",
    "  are created by the programmer for specific tasks."
   ]
  },
  {
   "cell_type": "code",
   "execution_count": 27,
   "id": "c5766797-b948-49b4-9b18-388106cfa3da",
   "metadata": {},
   "outputs": [],
   "source": [
    "#syntax\n",
    "def function_name (parameters):\n",
    "    \n",
    "  statement(s)\n",
    "    \n",
    "  # return (#optional)"
   ]
  },
  {
   "cell_type": "code",
   "execution_count": 29,
   "id": "3d64f3ca-34dd-42a2-a194-f90205974332",
   "metadata": {},
   "outputs": [
    {
     "name": "stdin",
     "output_type": "stream",
     "text": [
      "Enter a number:  2\n",
      "Enter a number:  4\n"
     ]
    },
    {
     "data": {
      "text/plain": [
       "(6, -2, 8, 0.5, 2)"
      ]
     },
     "execution_count": 29,
     "metadata": {},
     "output_type": "execute_result"
    }
   ],
   "source": [
    "a = int(input(\"Enter a number: \"))\n",
    "b = int(input(\"Enter a number: \"))\n",
    "def arth(a,b):\n",
    "  sum = a+b\n",
    "  sub = a-b\n",
    "  mul = a*b\n",
    "  div = a/b\n",
    "  mod = a%b\n",
    "  return sum,sub,mul,div,mod\n",
    "arth(a,b)"
   ]
  },
  {
   "cell_type": "markdown",
   "id": "5bbe960d-98b8-4437-83ed-dd186037283a",
   "metadata": {},
   "source": [
    "# RETURN FUNCTION"
   ]
  },
  {
   "cell_type": "markdown",
   "id": "1f8c1da8-069b-43a4-8c4d-d0a08452dc51",
   "metadata": {},
   "source": [
    "1)The return statement gives back a value from a function\n",
    "\n",
    "2)It stops the function and sends a result back to where it was called.\n",
    "\n",
    "3)Can return multiple values as a tuple.\n",
    "\n",
    "4)A function can have multiple return statements but executes only one."
   ]
  },
  {
   "cell_type": "code",
   "execution_count": 56,
   "id": "74a588e5-2e0e-4077-9e0c-7a01ee2f2889",
   "metadata": {},
   "outputs": [
    {
     "data": {
      "text/plain": [
       "6"
      ]
     },
     "execution_count": 56,
     "metadata": {},
     "output_type": "execute_result"
    }
   ],
   "source": [
    "def mul(a,b):\n",
    "  mul=a*b\n",
    "  return mul\n",
    "mul(2,3)"
   ]
  },
  {
   "cell_type": "code",
   "execution_count": 83,
   "id": "1f143a91-677f-43ca-a333-f6eaa1f1f860",
   "metadata": {},
   "outputs": [
    {
     "data": {
      "text/plain": [
       "7"
      ]
     },
     "execution_count": 83,
     "metadata": {},
     "output_type": "execute_result"
    }
   ],
   "source": [
    "def add(a,b):\n",
    "    add = a+b\n",
    "    return add\n",
    "add(2,5)"
   ]
  },
  {
   "cell_type": "markdown",
   "id": "86a694e7-9c57-4549-ba1d-c4304db93640",
   "metadata": {},
   "source": [
    "# LAMBDA VARIABLE"
   ]
  },
  {
   "cell_type": "markdown",
   "id": "a1603aa7-f8bf-4d92-9691-a26e9bc9f7ec",
   "metadata": {},
   "source": [
    "1)They can take multiple arguments but must have only one expression.\n",
    "\n",
    "2)They don’t require a def keyword or a function name."
   ]
  },
  {
   "cell_type": "code",
   "execution_count": 1,
   "id": "af2574f4-208d-4f11-9089-0719f0d5228a",
   "metadata": {},
   "outputs": [
    {
     "name": "stdout",
     "output_type": "stream",
     "text": [
      "105\n"
     ]
    }
   ],
   "source": [
    "f = lambda y : y+100\n",
    "print (f(5))"
   ]
  },
  {
   "cell_type": "code",
   "execution_count": 90,
   "id": "98128868-c578-45db-8f54-87781a10ef2a",
   "metadata": {},
   "outputs": [
    {
     "name": "stdout",
     "output_type": "stream",
     "text": [
      "8\n"
     ]
    }
   ],
   "source": [
    "mul = lambda x,y:x*y\n",
    "print(mul(4,2))"
   ]
  },
  {
   "cell_type": "markdown",
   "id": "cfc08629-2a8e-4df9-b546-561ecacc465b",
   "metadata": {},
   "source": [
    "# GLOBAL VARIABLE"
   ]
  },
  {
   "cell_type": "markdown",
   "id": "e9100c40-6ce6-4c77-a92b-eeedc4a4b0b4",
   "metadata": {},
   "source": [
    "Used to declare a variable as global inside a function.\n",
    "\n",
    "Allows modifying a global variable inside a function.\n",
    "\n",
    "Declared using the global keyword."
   ]
  },
  {
   "cell_type": "markdown",
   "id": "7e34f376-1ce2-4efb-81ad-622dcca0a5ad",
   "metadata": {},
   "source": [
    "# LOCAL VARIABLE"
   ]
  },
  {
   "cell_type": "markdown",
   "id": "4f8606f3-f196-4ac4-af5b-42d39759de2e",
   "metadata": {},
   "source": [
    "Variables created inside a function are local to that function.\n",
    "\n",
    "They cannot be accessed outside the function.\n",
    "\n",
    "Automatically deleted after the function finishes execution."
   ]
  },
  {
   "cell_type": "code",
   "execution_count": 113,
   "id": "08aff4dd-7afc-447d-bbd2-f2ca3762f644",
   "metadata": {},
   "outputs": [],
   "source": [
    "global_var = \"Hello_World\"    #global function\n",
    "\n",
    "def local():\n",
    "  local_var = \"this is local function\"\n",
    "  print(local_var)\n"
   ]
  },
  {
   "cell_type": "code",
   "execution_count": 97,
   "id": "9a5980e0-54cf-4bb4-9bba-0ed800ec5cd4",
   "metadata": {},
   "outputs": [
    {
     "name": "stdout",
     "output_type": "stream",
     "text": [
      "this is local function\n"
     ]
    }
   ],
   "source": [
    "local()"
   ]
  },
  {
   "cell_type": "code",
   "execution_count": 108,
   "id": "2fd929a6-41d1-4027-8c3e-4fe9e23f17d6",
   "metadata": {},
   "outputs": [
    {
     "name": "stdout",
     "output_type": "stream",
     "text": [
      "Hello_World\n"
     ]
    }
   ],
   "source": [
    "print(global_var)"
   ]
  }
 ],
 "metadata": {
  "kernelspec": {
   "display_name": "Python [conda env:base] *",
   "language": "python",
   "name": "conda-base-py"
  },
  "language_info": {
   "codemirror_mode": {
    "name": "ipython",
    "version": 3
   },
   "file_extension": ".py",
   "mimetype": "text/x-python",
   "name": "python",
   "nbconvert_exporter": "python",
   "pygments_lexer": "ipython3",
   "version": "3.12.7"
  }
 },
 "nbformat": 4,
 "nbformat_minor": 5
}

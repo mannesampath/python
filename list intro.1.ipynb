{
 "cells": [
  {
   "cell_type": "markdown",
   "id": "354b1cf8-b6be-402f-85b9-4e2d6a29eef1",
   "metadata": {},
   "source": [
    "# LIST"
   ]
  },
  {
   "cell_type": "markdown",
   "id": "adc500ca-5de7-424c-9777-0e21bb721eab",
   "metadata": {},
   "source": [
    "A list is a versatile and fundamental data structure that allows you to store an ordered collection of items,\n",
    "\n",
    "that can hold various types of data, such as numbers, strings, or even other lists.\n",
    "\n",
    "it can be represented by using the square brackets[ ]\n",
    "\n",
    "each & every element is divided by using ' ,'\n",
    "\n",
    "list is mutable (can change,modify and update)"
   ]
  },
  {
   "cell_type": "code",
   "execution_count": 17,
   "id": "1ffccfbf-e488-4d3f-abf8-6040743834a6",
   "metadata": {},
   "outputs": [],
   "source": [
    "age = [1,2,3,4]"
   ]
  },
  {
   "cell_type": "code",
   "execution_count": 19,
   "id": "ed9a7c03-0efc-4519-a995-447bf43b6379",
   "metadata": {},
   "outputs": [],
   "source": [
    "char = ['a','b','c','d']"
   ]
  },
  {
   "cell_type": "markdown",
   "id": "bc056c6f-4ea0-4596-b106-96932ab99f18",
   "metadata": {},
   "source": [
    "mul = [24,35.5,True,3+1j,'teks']"
   ]
  },
  {
   "cell_type": "code",
   "execution_count": 22,
   "id": "2699d83d-579b-4231-a80c-1d538db09f2e",
   "metadata": {},
   "outputs": [],
   "source": [
    "ranks = [\"2\", \"3\", \"4\", \"5\", \"6\", \"7\", \"8\", \"9\", \"10\", \"Jack\", \"Queen\", \"King\", \"Ace\"]"
   ]
  },
  {
   "cell_type": "code",
   "execution_count": 24,
   "id": "0b9399a1-c908-40ec-bb8e-77472d8b5693",
   "metadata": {},
   "outputs": [],
   "source": [
    "student_scores = [85, 92, 78, 95, 88]"
   ]
  },
  {
   "cell_type": "code",
   "execution_count": 26,
   "id": "b4369e52-6889-4a97-a930-ebc638424d45",
   "metadata": {},
   "outputs": [],
   "source": [
    "x = [1,2,3.5,False]"
   ]
  },
  {
   "cell_type": "markdown",
   "id": "21df9caf-5877-4601-a574-c058a4dcce7e",
   "metadata": {},
   "source": [
    "# INDEX"
   ]
  },
  {
   "cell_type": "markdown",
   "id": "06591ffb-c5d7-4537-9a84-847c326ef660",
   "metadata": {},
   "source": [
    "To Access single element from a list we use index\n",
    "\n",
    "index is divided into two types \n",
    "\n",
    "1.Positive index: starts from 0 to infinity and calculated from left to right.\n",
    "\n",
    "2.Negative index: starts from -1 to -infinity and calculated from right to left."
   ]
  },
  {
   "cell_type": "markdown",
   "id": "82fa8af9-b5c9-44b5-a5ca-e9105649b0e9",
   "metadata": {},
   "source": [
    "# examples"
   ]
  },
  {
   "cell_type": "code",
   "execution_count": 52,
   "id": "611009be-5c92-4421-9a8f-3314a5dfc20f",
   "metadata": {},
   "outputs": [
    {
     "data": {
      "text/plain": [
       "3"
      ]
     },
     "execution_count": 52,
     "metadata": {},
     "output_type": "execute_result"
    }
   ],
   "source": [
    "mam = [1,2,3,4,5]\n",
    "mam[2]"
   ]
  },
  {
   "cell_type": "code",
   "execution_count": 48,
   "id": "756ddb4b-c548-42bd-8f03-ac7379956b12",
   "metadata": {},
   "outputs": [
    {
     "data": {
      "text/plain": [
       "'padma'"
      ]
     },
     "execution_count": 48,
     "metadata": {},
     "output_type": "execute_result"
    }
   ],
   "source": [
    "index = ['sam','nikitha','nandu','padma','anju']\n",
    "index[-2]"
   ]
  },
  {
   "cell_type": "code",
   "execution_count": 50,
   "id": "d5647799-6bbe-4ff4-b557-c2e2601bedfe",
   "metadata": {},
   "outputs": [
    {
     "data": {
      "text/plain": [
       "8"
      ]
     },
     "execution_count": 50,
     "metadata": {},
     "output_type": "execute_result"
    }
   ],
   "source": [
    "sam = [1,3.2,8,9,5]\n",
    "sam[2]"
   ]
  },
  {
   "cell_type": "code",
   "execution_count": 54,
   "id": "f4f26196-aa8b-4b20-b58d-dcbd4bf31a8a",
   "metadata": {},
   "outputs": [
    {
     "data": {
      "text/plain": [
       "50"
      ]
     },
     "execution_count": 54,
     "metadata": {},
     "output_type": "execute_result"
    }
   ],
   "source": [
    "prices = [20,30,50,49,38]\n",
    "prices[-3]"
   ]
  },
  {
   "cell_type": "code",
   "execution_count": 56,
   "id": "7ee9ddfd-6a57-4311-bf3e-4ee689f0ec0c",
   "metadata": {},
   "outputs": [
    {
     "data": {
      "text/plain": [
       "67"
      ]
     },
     "execution_count": 56,
     "metadata": {},
     "output_type": "execute_result"
    }
   ],
   "source": [
    "student2 = [89,45,67,98,45,78,89]\n",
    "student2[2]"
   ]
  },
  {
   "cell_type": "markdown",
   "id": "12110e39-223c-4752-aff6-2d572549eebb",
   "metadata": {},
   "source": [
    "# SLICING"
   ]
  },
  {
   "cell_type": "markdown",
   "id": "6a6d119d-b2a8-4617-bfaf-ac17b47bc409",
   "metadata": {},
   "source": [
    "To Access more than two element from a list we use slicing\n",
    "\n",
    "ending index is calculated as n-1\n",
    "\n",
    "example : [1,2,3,4,5,6,7,8]\n",
    "\n",
    "syntax = letter[starting index : ending index]\n",
    "\n",
    "ending index [n-1]"
   ]
  },
  {
   "cell_type": "markdown",
   "id": "993a5585-a109-43a9-8947-5331f61e133c",
   "metadata": {},
   "source": [
    "# examples"
   ]
  },
  {
   "cell_type": "code",
   "execution_count": 3,
   "id": "2209371d-b578-4940-a0df-b54660e07664",
   "metadata": {},
   "outputs": [
    {
     "data": {
      "text/plain": [
       "[2, 3, 4, 5, 6, 7]"
      ]
     },
     "execution_count": 3,
     "metadata": {},
     "output_type": "execute_result"
    }
   ],
   "source": [
    "letter = [1,2,3,4,5,6,7,8]\n",
    "letter[1:7]"
   ]
  },
  {
   "cell_type": "code",
   "execution_count": 7,
   "id": "adf3f51e-82af-48e3-8746-1d8ca4f9828f",
   "metadata": {},
   "outputs": [
    {
     "data": {
      "text/plain": [
       "[2, 3, 4, 5, 6, 7, 8]"
      ]
     },
     "execution_count": 7,
     "metadata": {},
     "output_type": "execute_result"
    }
   ],
   "source": [
    "letter [1:]"
   ]
  },
  {
   "cell_type": "code",
   "execution_count": 9,
   "id": "ceb2de0a-9cc0-4c6e-b967-56e05b0e18d5",
   "metadata": {},
   "outputs": [
    {
     "data": {
      "text/plain": [
       "[1, 2, 3, 4, 5, 6, 7, 8]"
      ]
     },
     "execution_count": 9,
     "metadata": {},
     "output_type": "execute_result"
    }
   ],
   "source": [
    "letter[:]"
   ]
  },
  {
   "cell_type": "code",
   "execution_count": 11,
   "id": "669e3731-04b0-4430-b03f-aa169ef97685",
   "metadata": {},
   "outputs": [
    {
     "data": {
      "text/plain": [
       "[1, 2, 3, 4, 5, 6]"
      ]
     },
     "execution_count": 11,
     "metadata": {},
     "output_type": "execute_result"
    }
   ],
   "source": [
    "letter[-8:-2]"
   ]
  },
  {
   "cell_type": "code",
   "execution_count": null,
   "id": "b326f3d3-b23f-4d18-8b27-29dd8b154cdd",
   "metadata": {},
   "outputs": [],
   "source": []
  }
 ],
 "metadata": {
  "kernelspec": {
   "display_name": "Python [conda env:base] *",
   "language": "python",
   "name": "conda-base-py"
  },
  "language_info": {
   "codemirror_mode": {
    "name": "ipython",
    "version": 3
   },
   "file_extension": ".py",
   "mimetype": "text/x-python",
   "name": "python",
   "nbconvert_exporter": "python",
   "pygments_lexer": "ipython3",
   "version": "3.12.7"
  }
 },
 "nbformat": 4,
 "nbformat_minor": 5
}

{
 "cells": [
  {
   "cell_type": "markdown",
   "id": "e5b65a37-4b79-4fff-986c-564924032277",
   "metadata": {},
   "source": [
    "# OOPS :\n",
    "By using this blueprint we can create multiple objects"
   ]
  },
  {
   "cell_type": "markdown",
   "id": "40963191-faca-4b62-b7ca-44c728db5195",
   "metadata": {},
   "source": [
    "In Python, \"OOPs\" stands for Object-Oriented Programming. It’s a way of writing code using \"objects\" to represent things (like a car or a person) and their actions. Think of it like organizing your code into reusable blocks (called classes) that can have properties (like color) and behaviors (like drive). It makes coding simpler and more structured!"
   ]
  },
  {
   "cell_type": "markdown",
   "id": "18241924-3bd4-4fd4-b75a-44397662ebf7",
   "metadata": {},
   "source": [
    "CLASS:"
   ]
  },
  {
   "cell_type": "markdown",
   "id": "4c06cdfd-daff-45f2-b280-2dbca43707a4",
   "metadata": {},
   "source": [
    "Class is simply known as a blue print\n",
    "\n",
    "we can define class by using class keyword"
   ]
  },
  {
   "cell_type": "markdown",
   "id": "f04318fe-e26e-49ff-b4c9-3aea635529a7",
   "metadata": {},
   "source": [
    "ex 1:"
   ]
  },
  {
   "cell_type": "code",
   "execution_count": 33,
   "id": "e7744bf7-8212-4b9b-8a6b-1c5c0f9108ed",
   "metadata": {},
   "outputs": [],
   "source": [
    "class myclass:\n",
    "    x = 7"
   ]
  },
  {
   "cell_type": "code",
   "execution_count": 23,
   "id": "8ea1d715-cfff-4e13-b654-16bca0f23b68",
   "metadata": {},
   "outputs": [
    {
     "data": {
      "text/plain": [
       "7"
      ]
     },
     "execution_count": 23,
     "metadata": {},
     "output_type": "execute_result"
    }
   ],
   "source": [
    "obj = myclass()\n",
    "obj.x"
   ]
  },
  {
   "cell_type": "code",
   "execution_count": 29,
   "id": "635232b2-320b-4614-80b2-b8bb1490ad42",
   "metadata": {},
   "outputs": [
    {
     "data": {
      "text/plain": [
       "7"
      ]
     },
     "execution_count": 29,
     "metadata": {},
     "output_type": "execute_result"
    }
   ],
   "source": [
    "obj1 = myclass()\n",
    "obj1.x"
   ]
  },
  {
   "cell_type": "markdown",
   "id": "7ac30d12-4d5e-4fce-8faa-521e99384b61",
   "metadata": {},
   "source": [
    "ex 2:"
   ]
  },
  {
   "cell_type": "code",
   "execution_count": 129,
   "id": "1406cc52-17d5-4213-afaa-03042bf621d1",
   "metadata": {},
   "outputs": [],
   "source": [
    "class ac:\n",
    "    def __init__(self,name,age):\n",
    "        self.name = name\n",
    "        self.age = age"
   ]
  },
  {
   "cell_type": "code",
   "execution_count": 131,
   "id": "f0043180-2717-4cc8-8e78-9e0d363da38f",
   "metadata": {},
   "outputs": [],
   "source": [
    "obj = ac(\"lg\",3)"
   ]
  },
  {
   "cell_type": "code",
   "execution_count": 133,
   "id": "1ff6a2a4-76e8-4a0d-8028-6fbeed2998b3",
   "metadata": {},
   "outputs": [
    {
     "data": {
      "text/plain": [
       "'lg'"
      ]
     },
     "execution_count": 133,
     "metadata": {},
     "output_type": "execute_result"
    }
   ],
   "source": [
    "obj.name"
   ]
  },
  {
   "cell_type": "code",
   "execution_count": 135,
   "id": "333ddfea-b7e0-4c7a-8f23-40b5c4bab492",
   "metadata": {},
   "outputs": [
    {
     "data": {
      "text/plain": [
       "3"
      ]
     },
     "execution_count": 135,
     "metadata": {},
     "output_type": "execute_result"
    }
   ],
   "source": [
    "obj.age"
   ]
  },
  {
   "cell_type": "code",
   "execution_count": 139,
   "id": "88e1d2ca-fe39-4024-b01c-9c6ab048ec02",
   "metadata": {},
   "outputs": [],
   "source": [
    "obj1 = ac(\"samsung\",4)"
   ]
  },
  {
   "cell_type": "code",
   "execution_count": 141,
   "id": "4feef461-4293-47af-8eab-3fac4c81481b",
   "metadata": {},
   "outputs": [
    {
     "data": {
      "text/plain": [
       "'samsung'"
      ]
     },
     "execution_count": 141,
     "metadata": {},
     "output_type": "execute_result"
    }
   ],
   "source": [
    "obj1.name"
   ]
  },
  {
   "cell_type": "code",
   "execution_count": 143,
   "id": "7f031da2-a625-4171-891c-8152ecb8dff5",
   "metadata": {},
   "outputs": [
    {
     "data": {
      "text/plain": [
       "4"
      ]
     },
     "execution_count": 143,
     "metadata": {},
     "output_type": "execute_result"
    }
   ],
   "source": [
    "obj1.age"
   ]
  },
  {
   "cell_type": "markdown",
   "id": "ba000c39-b154-4715-8aa3-3936ab4feb61",
   "metadata": {},
   "source": [
    "ex 3:"
   ]
  },
  {
   "cell_type": "code",
   "execution_count": 177,
   "id": "f65a2942-e3d6-49e9-99a9-e0de78d0ed89",
   "metadata": {},
   "outputs": [],
   "source": [
    "class bike:\n",
    "    def __init__(self,name,model):\n",
    "        self.name = name\n",
    "        self.model = model\n",
    "        \n",
    "    def prize(self):\n",
    "            print(\" prize is too high\")"
   ]
  },
  {
   "cell_type": "code",
   "execution_count": 179,
   "id": "b8032ec6-d59d-4715-b61f-e9f9765da7e4",
   "metadata": {},
   "outputs": [],
   "source": [
    "bike1 = bike(\"honda\",\"activa\")"
   ]
  },
  {
   "cell_type": "code",
   "execution_count": 181,
   "id": "c900742c-edfd-4354-9b7e-c32a2849c9e3",
   "metadata": {},
   "outputs": [
    {
     "name": "stdout",
     "output_type": "stream",
     "text": [
      " prize is too high\n"
     ]
    }
   ],
   "source": [
    "bike1.prize()"
   ]
  },
  {
   "cell_type": "code",
   "execution_count": 322,
   "id": "013906d0-a998-4bf2-9244-23c335b7bf03",
   "metadata": {},
   "outputs": [
    {
     "data": {
      "text/plain": [
       "'honda'"
      ]
     },
     "execution_count": 322,
     "metadata": {},
     "output_type": "execute_result"
    }
   ],
   "source": [
    "bike1.name"
   ]
  },
  {
   "cell_type": "code",
   "execution_count": 324,
   "id": "5aa82732-9db0-4620-89eb-c2b410f2f9f6",
   "metadata": {},
   "outputs": [
    {
     "data": {
      "text/plain": [
       "'activa'"
      ]
     },
     "execution_count": 324,
     "metadata": {},
     "output_type": "execute_result"
    }
   ],
   "source": [
    "bike1.model"
   ]
  },
  {
   "cell_type": "markdown",
   "id": "970a6b84-ac72-45db-9769-bf18dfb06da2",
   "metadata": {},
   "source": [
    "# 1) INHERITANCE:\n",
    "Inheritance in Python lets one class (the child) take on the properties and methods of another class (the parent). It’s like a kid inheriting traits from a parent, but for code. This helps reuse code and build relationships between classes easily."
   ]
  },
  {
   "cell_type": "code",
   "execution_count": 189,
   "id": "af672676-1f30-48f2-a20d-c3ddfaf3566c",
   "metadata": {},
   "outputs": [],
   "source": [
    "class animal:\n",
    "    def eat(self):\n",
    "        print(\"i can eat\")\n",
    "    def sleep(self):\n",
    "        print(\"i will sleep\")\n",
    "class child1(animal):\n",
    "            def swim(self):\n",
    "                print(\"i can swim\")\n",
    "class child2(animal):\n",
    "                    def run(self):\n",
    "                        print(\"i can run\")"
   ]
  },
  {
   "cell_type": "code",
   "execution_count": 87,
   "id": "bb150a1d-5c15-4e7f-9271-dbf23700f702",
   "metadata": {},
   "outputs": [],
   "source": [
    "cat = animal()"
   ]
  },
  {
   "cell_type": "code",
   "execution_count": 89,
   "id": "99814e4d-5ca5-4cbd-8dab-a565003b342a",
   "metadata": {},
   "outputs": [
    {
     "name": "stdout",
     "output_type": "stream",
     "text": [
      "i can eat\n"
     ]
    }
   ],
   "source": [
    "cat.eat()"
   ]
  },
  {
   "cell_type": "code",
   "execution_count": 91,
   "id": "ef22b7c2-975f-4bca-bd26-b0a294a1df9c",
   "metadata": {},
   "outputs": [
    {
     "name": "stdout",
     "output_type": "stream",
     "text": [
      "i will sleep\n"
     ]
    }
   ],
   "source": [
    "cat.sleep()"
   ]
  },
  {
   "cell_type": "code",
   "execution_count": 104,
   "id": "372f6aac-168c-4494-b31d-951711bb86f1",
   "metadata": {},
   "outputs": [],
   "source": [
    "dog = child1()"
   ]
  },
  {
   "cell_type": "code",
   "execution_count": 106,
   "id": "e9cb056e-9024-4b4b-a8fe-2ba83fc793f0",
   "metadata": {},
   "outputs": [
    {
     "name": "stdout",
     "output_type": "stream",
     "text": [
      "i can swim\n"
     ]
    }
   ],
   "source": [
    "dog.swim()"
   ]
  },
  {
   "cell_type": "code",
   "execution_count": 114,
   "id": "1c70faa0-6359-48aa-aef5-23dbc40bcf91",
   "metadata": {},
   "outputs": [],
   "source": [
    "monkey = child2()"
   ]
  },
  {
   "cell_type": "code",
   "execution_count": 187,
   "id": "f4d188b6-ec9c-4069-aff8-e69377fa1185",
   "metadata": {},
   "outputs": [],
   "source": [
    "class transport:\n",
    "    def distance(self):\n",
    "        print(\"distance is too high\")\n",
    "\n",
    "def location(slef):\n",
    "    print(\"this is my location\")\n",
    "\n",
    "class bike(transport):\n",
    "    def model(self):\n",
    "        print(\"this is my new bike model\")\n",
    "        class car(transport):\n",
    "            def colour(self):\n",
    "                print(\"this is my new car colour\")\n",
    "                class plane(transport):\n",
    "                    def speed(self):\n",
    "                        print(\"this is my new plane speed\")"
   ]
  },
  {
   "cell_type": "markdown",
   "id": "4ddf421e-9179-49e2-adbc-fdbda6adf864",
   "metadata": {},
   "source": [
    "# 25/02/2025"
   ]
  },
  {
   "cell_type": "markdown",
   "id": "8b967c9d-32d6-4ff1-8b00-f27ac8619ee5",
   "metadata": {},
   "source": [
    "# 2) ENCAPSULATION:\n",
    "Encapsulation in Python is about bundling data and methods together in a class.\n",
    "\n",
    "It helps hide the inner details and control access to them, like keeping some things private.\n",
    "\n",
    "Think of it as putting your stuff in a box with a lock, where only certain keys (methods) can open it!"
   ]
  },
  {
   "cell_type": "markdown",
   "id": "47b6a361-5197-4d96-b9b8-5533bfd2f6fe",
   "metadata": {},
   "source": [
    "# ex : 1"
   ]
  },
  {
   "cell_type": "code",
   "execution_count": 245,
   "id": "3ac336ed-36d0-4233-9a28-4b8095858f3c",
   "metadata": {},
   "outputs": [],
   "source": [
    "class animal:\n",
    "    def __init__(self,name,age):\n",
    "        self.__name = name\n",
    "        self._age = age\n",
    "        \n",
    "    def get_name(self):\n",
    "        return self.__name"
   ]
  },
  {
   "cell_type": "code",
   "execution_count": 247,
   "id": "85aedc2b-ce0c-4c7b-ade1-a5d390f63ca2",
   "metadata": {},
   "outputs": [],
   "source": [
    "animal1 = animal(\"dog\",2)"
   ]
  },
  {
   "cell_type": "code",
   "execution_count": 249,
   "id": "e55dae07-0ae7-48bf-baa7-3257730517f2",
   "metadata": {},
   "outputs": [
    {
     "data": {
      "text/plain": [
       "'dog'"
      ]
     },
     "execution_count": 249,
     "metadata": {},
     "output_type": "execute_result"
    }
   ],
   "source": [
    "animal1.get_name()"
   ]
  },
  {
   "cell_type": "markdown",
   "id": "eb2f69c7-2a90-43a6-ac05-ac28069f06f1",
   "metadata": {},
   "source": [
    "# ex : 2"
   ]
  },
  {
   "cell_type": "code",
   "execution_count": 323,
   "id": "8ee40f4a-a4ce-459e-a3ac-cab648f1e71e",
   "metadata": {},
   "outputs": [],
   "source": [
    "class animal:\n",
    "    def __init__(self,name,age):\n",
    "        self.__name = name\n",
    "        self._age = age\n",
    "        \n",
    "    def get_name(self):\n",
    "        return self.__name\n",
    "        \n",
    "class cat(animal):\n",
    "    def walk(self):\n",
    "     print(self._age)"
   ]
  },
  {
   "cell_type": "code",
   "execution_count": 325,
   "id": "b4d8035e-f17f-4852-905c-3e4d256091fd",
   "metadata": {},
   "outputs": [],
   "source": [
    "animal = cat('cat',2)"
   ]
  },
  {
   "cell_type": "code",
   "execution_count": 327,
   "id": "1c0ed0ec-a453-4e97-890e-d10f97760ee5",
   "metadata": {},
   "outputs": [
    {
     "name": "stdout",
     "output_type": "stream",
     "text": [
      "2\n"
     ]
    }
   ],
   "source": [
    "animal.walk()"
   ]
  },
  {
   "cell_type": "code",
   "execution_count": 329,
   "id": "7deeaed6-b065-4b3c-8555-e5d2b3b1adf8",
   "metadata": {},
   "outputs": [
    {
     "data": {
      "text/plain": [
       "'cat'"
      ]
     },
     "execution_count": 329,
     "metadata": {},
     "output_type": "execute_result"
    }
   ],
   "source": [
    "animal.get_name()"
   ]
  },
  {
   "cell_type": "markdown",
   "id": "18ec61d6-5418-4a6e-829e-d83edfd1d0a8",
   "metadata": {},
   "source": [
    "# ex : 3"
   ]
  },
  {
   "cell_type": "code",
   "execution_count": 337,
   "id": "af5978ef-8f55-45b1-9bb5-ca53063b392b",
   "metadata": {},
   "outputs": [],
   "source": [
    "class animal:\n",
    "    def __init__(self,name,age):\n",
    "        self.__name = name\n",
    "        self._age = age\n",
    "        \n",
    "    def get_name(self):\n",
    "        return self.__name\n",
    "        \n",
    "class cat(animal):\n",
    "    def walk(self):\n",
    "     print(self.__name)"
   ]
  },
  {
   "cell_type": "code",
   "execution_count": 339,
   "id": "f65e61d4-5bf4-45a7-8bb8-435fe3875dbb",
   "metadata": {},
   "outputs": [],
   "source": [
    "animal = cat(\"cat\",3)"
   ]
  },
  {
   "cell_type": "code",
   "execution_count": 343,
   "id": "a809160c-8159-4661-b351-b45c594ca852",
   "metadata": {},
   "outputs": [
    {
     "ename": "AttributeError",
     "evalue": "'cat' object has no attribute '_cat__name'",
     "output_type": "error",
     "traceback": [
      "\u001b[0;31m---------------------------------------------------------------------------\u001b[0m",
      "\u001b[0;31mAttributeError\u001b[0m                            Traceback (most recent call last)",
      "Cell \u001b[0;32mIn[343], line 1\u001b[0m\n\u001b[0;32m----> 1\u001b[0m animal\u001b[38;5;241m.\u001b[39mwalk()\n",
      "Cell \u001b[0;32mIn[337], line 11\u001b[0m, in \u001b[0;36mcat.walk\u001b[0;34m(self)\u001b[0m\n\u001b[1;32m     10\u001b[0m \u001b[38;5;28;01mdef\u001b[39;00m \u001b[38;5;21mwalk\u001b[39m(\u001b[38;5;28mself\u001b[39m):\n\u001b[0;32m---> 11\u001b[0m  \u001b[38;5;28mprint\u001b[39m(\u001b[38;5;28mself\u001b[39m\u001b[38;5;241m.\u001b[39m__name)\n",
      "\u001b[0;31mAttributeError\u001b[0m: 'cat' object has no attribute '_cat__name'"
     ]
    }
   ],
   "source": [
    "animal.walk()"
   ]
  },
  {
   "cell_type": "code",
   "execution_count": null,
   "id": "e46daed7-dd2b-43cb-96a8-c1f2f2735a42",
   "metadata": {},
   "outputs": [],
   "source": []
  },
  {
   "cell_type": "markdown",
   "id": "6ca16411-cdca-402c-bc69-724ec6709ca3",
   "metadata": {},
   "source": [
    "# 3) POLYMORPHISM :\n",
    "Polymorphism in Python means \"many forms.\" It lets different objects use the same method name but behave in their own way.\n",
    "\n",
    "For example, a Dog can \"bark\" and a Cat can \"meow\" when both use a speak method. \n",
    "\n",
    "(BY CREATING A SINGLE FUNCTION AND USING IT FOR MULTIPLE FORMATS IS KNOWN AS POLYMORPHISM)"
   ]
  },
  {
   "cell_type": "markdown",
   "id": "f87c8ec9-7d7d-45d6-8891-45c67e517092",
   "metadata": {},
   "source": [
    "# EX : 1"
   ]
  },
  {
   "cell_type": "code",
   "execution_count": 365,
   "id": "93972051-557b-4697-a9ae-7ce3e3e60ab4",
   "metadata": {},
   "outputs": [],
   "source": [
    "class num:\n",
    "    def __init__(self,a,b):\n",
    "        sum = a+b\n",
    "        print(sum)"
   ]
  },
  {
   "cell_type": "code",
   "execution_count": 367,
   "id": "a2181d12-1bff-4db6-800e-a64246f3ba79",
   "metadata": {},
   "outputs": [
    {
     "name": "stdout",
     "output_type": "stream",
     "text": [
      "5\n"
     ]
    }
   ],
   "source": [
    "poly = num(3,2)"
   ]
  },
  {
   "cell_type": "code",
   "execution_count": 369,
   "id": "d642e119-fe1f-4d36-8753-9086b583b00a",
   "metadata": {},
   "outputs": [
    {
     "name": "stdout",
     "output_type": "stream",
     "text": [
      "78.8\n"
     ]
    }
   ],
   "source": [
    "poly1 = num(3.5,75.3)"
   ]
  },
  {
   "cell_type": "code",
   "execution_count": 371,
   "id": "5c3a43c3-e7b2-40b0-8bcb-3a685b40ffc0",
   "metadata": {},
   "outputs": [
    {
     "name": "stdout",
     "output_type": "stream",
     "text": [
      "nandusampath\n"
     ]
    }
   ],
   "source": [
    "poly3 = num(\"nandu\",\"sampath\")"
   ]
  },
  {
   "cell_type": "code",
   "execution_count": 373,
   "id": "626e6d81-f8fd-42cd-bc38-51848292258e",
   "metadata": {},
   "outputs": [
    {
     "name": "stdout",
     "output_type": "stream",
     "text": [
      "(10+8j)\n"
     ]
    }
   ],
   "source": [
    "poly4 = num(2+5j,8+3j)"
   ]
  },
  {
   "cell_type": "code",
   "execution_count": 375,
   "id": "2d76b511-f56a-48d8-bb49-d8bb40e3b0a5",
   "metadata": {},
   "outputs": [
    {
     "name": "stdout",
     "output_type": "stream",
     "text": [
      "[1, 2, 3, 4, 5, 6]\n"
     ]
    }
   ],
   "source": [
    "poly5 = num([1,2,3],[4,5,6])"
   ]
  },
  {
   "cell_type": "code",
   "execution_count": 377,
   "id": "c8a22892-02b1-45b6-ad25-8cbb2c2e6f35",
   "metadata": {},
   "outputs": [
    {
     "name": "stdout",
     "output_type": "stream",
     "text": [
      "(1, 2, 3, 4, 5, 6)\n"
     ]
    }
   ],
   "source": [
    "poly6 = num((1,2,3),(4,5,6))"
   ]
  },
  {
   "cell_type": "markdown",
   "id": "51210b3e-30c4-414f-ab74-ae95ab6bb002",
   "metadata": {},
   "source": [
    "# 4) ABSTRACTION"
   ]
  },
  {
   "cell_type": "markdown",
   "id": "16d356ea-190a-4ffb-9033-5ca2fc24b9a9",
   "metadata": {},
   "source": [
    "Abstraction in Python means hiding complicated details and showing only the simple, necessary parts to the user. It’s like using a TV remote—you press buttons to change channels without knowing how it works inside. In code, it’s often done with abstract classes that set rules for other classes to follow."
   ]
  },
  {
   "cell_type": "code",
   "execution_count": 386,
   "id": "dd94bef9-2044-488f-b5cd-877e1c26e6a6",
   "metadata": {},
   "outputs": [],
   "source": [
    "class car:\n",
    "    def start_engine(self):\n",
    "        pass"
   ]
  },
  {
   "cell_type": "code",
   "execution_count": null,
   "id": "5c28b560-50e7-4c60-8aaf-af4f49319894",
   "metadata": {},
   "outputs": [],
   "source": []
  },
  {
   "cell_type": "code",
   "execution_count": null,
   "id": "cac5fc18-e716-4fb8-b266-b4be88006e34",
   "metadata": {},
   "outputs": [],
   "source": []
  },
  {
   "cell_type": "markdown",
   "id": "901e9bd8-d922-43fa-b79e-990c1651b2f5",
   "metadata": {},
   "source": [
    "# FILE HANDLING:\n",
    "• File handling in Python involves performing operations like reading from and writing to files. "
   ]
  },
  {
   "cell_type": "markdown",
   "id": "033e6b99-5d78-4e91-a536-a1b62aac060e",
   "metadata": {},
   "source": [
    "# OPENING A FILE"
   ]
  },
  {
   "cell_type": "raw",
   "id": "a23081ba-4910-44f2-9319-586b22bfe713",
   "metadata": {},
   "source": [
    "•To open a file, use the open() function. \n",
    "•This function requires at least one argument: the name of the file to be opened. \n",
    "•You can also specify the mode in which the file should be opened. \n",
    "•Common modes include: \n",
    "•'r' Read (default mode) \n",
    "•'w' Write (creates a new file or truncates the existing file) \n",
    "•'a' Append (adds content to the end of the file) \n",
    "•'b' Binary mode (e.g., 'rb' or 'wb' for reading/writing binary files) \n",
    "•'t' Text mode (default, e.g., 'rt' or 'wt' for reading/writing text files) "
   ]
  },
  {
   "cell_type": "code",
   "execution_count": 564,
   "id": "c1c55f8b-1a8e-428c-bb6a-c44818bb2723",
   "metadata": {},
   "outputs": [],
   "source": [
    "file = open(\"example.txt\",'r')"
   ]
  },
  {
   "cell_type": "code",
   "execution_count": 566,
   "id": "a276decf-8fa7-4bb1-8427-297b066d9ca4",
   "metadata": {},
   "outputs": [
    {
     "name": "stdout",
     "output_type": "stream",
     "text": [
      "sampath yadav\n",
      "sam\n",
      "manoj\n"
     ]
    }
   ],
   "source": [
    "content = file.read()\n",
    "print(content)"
   ]
  },
  {
   "cell_type": "markdown",
   "id": "d140616a-1d9b-44c3-9792-0d1f508a065a",
   "metadata": {},
   "source": [
    "# WRITING:"
   ]
  },
  {
   "cell_type": "markdown",
   "id": "0a19662f-4cf3-4b42-9f79-ebc153013776",
   "metadata": {},
   "source": [
    "To write to a file, open it in write ('w'), append ('a'), or binary write ('wb') mode. Use the write() or writelines() method. "
   ]
  },
  {
   "cell_type": "code",
   "execution_count": 570,
   "id": "3550dbab-9201-4512-8bbf-5ecdfe4b1e9f",
   "metadata": {},
   "outputs": [],
   "source": [
    "file = open(\"example.txt\",'w')"
   ]
  },
  {
   "cell_type": "code",
   "execution_count": 614,
   "id": "f737cdac-de5e-41f7-a59f-f661d321096e",
   "metadata": {},
   "outputs": [
    {
     "data": {
      "text/plain": [
       "14"
      ]
     },
     "execution_count": 614,
     "metadata": {},
     "output_type": "execute_result"
    }
   ],
   "source": [
    "file.write(\"hello,sampath\\n\")"
   ]
  },
  {
   "cell_type": "markdown",
   "id": "267313d8-b7ce-4e9a-819d-30d4cfd17582",
   "metadata": {},
   "source": [
    "# APPEND"
   ]
  },
  {
   "cell_type": "markdown",
   "id": "d2b08a85-05da-4075-8a33-0616752746fc",
   "metadata": {},
   "source": [
    " Append (adds content to the end of the file) "
   ]
  },
  {
   "cell_type": "code",
   "execution_count": 612,
   "id": "73301199-58f0-41d7-818b-1b30bd1e9bb8",
   "metadata": {},
   "outputs": [],
   "source": [
    "file = open(\"example.txt\",'a')\n",
    "file.write(\"nandu\\n\")\n",
    "file.write('Hello, data Analyst \\n') \n",
    "lines=[\"Hello DA\",\"Hello BA\",\"hello Power BI Developer\\n\"] \n",
    "file.writelines(lines) "
   ]
  },
  {
   "cell_type": "code",
   "execution_count": null,
   "id": "41a762b0-044d-46a3-9110-dd02d03d9fea",
   "metadata": {},
   "outputs": [],
   "source": []
  },
  {
   "cell_type": "markdown",
   "id": "ad1a8648-f41c-4ec1-8418-2af7efa0dc07",
   "metadata": {},
   "source": [
    "# CLOSING A FILE"
   ]
  },
  {
   "cell_type": "markdown",
   "id": "e9cb7c03-4ea4-4269-93d8-e2832715e84b",
   "metadata": {},
   "source": [
    "Always close a file after completing operations to free up system resources. "
   ]
  },
  {
   "cell_type": "code",
   "execution_count": 620,
   "id": "6e9deb96-b69e-4f20-9a1e-e02b3fe7332e",
   "metadata": {},
   "outputs": [],
   "source": [
    "file.close()"
   ]
  },
  {
   "cell_type": "code",
   "execution_count": null,
   "id": "b1929eee-d1ad-431b-99ef-6270aa7b510d",
   "metadata": {},
   "outputs": [],
   "source": []
  },
  {
   "cell_type": "code",
   "execution_count": null,
   "id": "987291c9-be7e-4081-bbb2-32cdfe595851",
   "metadata": {},
   "outputs": [],
   "source": []
  },
  {
   "cell_type": "markdown",
   "id": "80893b36-988c-46e8-b6fe-c43f27ef7151",
   "metadata": {},
   "source": [
    "# EXCEPTION HANDLING:"
   ]
  },
  {
   "cell_type": "markdown",
   "id": "edbaad89-62ce-4a54-b9bf-f7e520a26998",
   "metadata": {},
   "source": [
    "Exception handling in Python is a way to manage errors that might crash your program. \n",
    "\n",
    "You use try to run risky code,except to catch and handle specific problems,\n",
    "\n",
    "and finally to clean up no matter what.It’s like having a safety net to keep things running smoothly even when something goes wrong."
   ]
  },
  {
   "cell_type": "markdown",
   "id": "a06a3450-2f6a-457b-a439-5ff6b7735cd4",
   "metadata": {},
   "source": [
    "ex 1:"
   ]
  },
  {
   "cell_type": "code",
   "execution_count": 646,
   "id": "5f967871-b07d-404b-8a8d-bfd432ba43cc",
   "metadata": {},
   "outputs": [
    {
     "name": "stdout",
     "output_type": "stream",
     "text": [
      "sampath yadav\n",
      "sam\n",
      "manojnanduhello sampath\n",
      "hello,sampath\n",
      "nandu\n",
      "Hello, data Analyst \n",
      "Hello DAHello BAhello Power BI Developer\n",
      "Hello DAHello BAhello Power BI Developer\n",
      "nandu\n",
      "Hello, data Analyst \n",
      "Hello DAHello BAhello Power BI Developer\n",
      "nandu\n",
      "Hello, data Analyst \n",
      "Hello DAHello BAhello Power BI Developer\n",
      "nandu\n",
      "Hello, data Analyst \n",
      "Hello DAHello BAhello Power BI Developer\n",
      "hello,sampath\n",
      "\n"
     ]
    }
   ],
   "source": [
    "try:\n",
    "    file1 = open(\"example.txt\",'r')\n",
    "    read_content = file1.read()\n",
    "    print(read_content)\n",
    "    \n",
    "finally:\n",
    "    file1.close()"
   ]
  },
  {
   "cell_type": "markdown",
   "id": "a2134cb6-d05a-4797-a291-f1999b2b553b",
   "metadata": {},
   "source": [
    "ex: 2 "
   ]
  },
  {
   "cell_type": "code",
   "execution_count": 669,
   "id": "4cc12c4f-89c1-420e-a18a-32aaaf741bfe",
   "metadata": {},
   "outputs": [
    {
     "name": "stdin",
     "output_type": "stream",
     "text": [
      "enter your number 98\n",
      "enter your number 0\n"
     ]
    }
   ],
   "source": [
    "num = int(input(\"enter your number\"))\n",
    "den = int(input(\"enter your number\"))"
   ]
  },
  {
   "cell_type": "code",
   "execution_count": 671,
   "id": "ea538cd5-ee21-4347-af07-b7288827f65f",
   "metadata": {},
   "outputs": [
    {
     "name": "stdout",
     "output_type": "stream",
     "text": [
      "given den is zero\n"
     ]
    }
   ],
   "source": [
    "try :\n",
    "    result = num/den\n",
    "    print(result)\n",
    "    \n",
    "except:\n",
    "    print(\"given den is zero\")"
   ]
  }
 ],
 "metadata": {
  "kernelspec": {
   "display_name": "Python [conda env:base] *",
   "language": "python",
   "name": "conda-base-py"
  },
  "language_info": {
   "codemirror_mode": {
    "name": "ipython",
    "version": 3
   },
   "file_extension": ".py",
   "mimetype": "text/x-python",
   "name": "python",
   "nbconvert_exporter": "python",
   "pygments_lexer": "ipython3",
   "version": "3.12.7"
  }
 },
 "nbformat": 4,
 "nbformat_minor": 5
}

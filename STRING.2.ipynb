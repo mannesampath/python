{
 "cells": [
  {
   "cell_type": "markdown",
   "id": "f6b4c4e1-6748-4363-b5b8-7f5e7c69963c",
   "metadata": {},
   "source": [
    "# STRING METHODS/FUNCTIIONS:"
   ]
  },
  {
   "cell_type": "markdown",
   "id": "27365259-575f-427d-b20b-8c6472892dd3",
   "metadata": {},
   "source": [
    "# 1)LENGTH: TO CALCULATE/COUNT THE LENGTH OF THE CHARACTERS"
   ]
  },
  {
   "cell_type": "code",
   "execution_count": 10,
   "id": "08785b4b-cd7c-46ce-914b-2912a6991a32",
   "metadata": {},
   "outputs": [
    {
     "data": {
      "text/plain": [
       "6"
      ]
     },
     "execution_count": 10,
     "metadata": {},
     "output_type": "execute_result"
    }
   ],
   "source": [
    "a = \"python\"\n",
    "len(a)"
   ]
  },
  {
   "cell_type": "markdown",
   "id": "7418464f-ea0a-451d-817d-9682ff2dd5c8",
   "metadata": {},
   "source": [
    "# 2)UPPER : TO CONVERT SMALL ALPHABETS INTO BIG ALPHABETS"
   ]
  },
  {
   "cell_type": "code",
   "execution_count": 13,
   "id": "4002c29e-8892-41d8-96d5-30ef679ee8a1",
   "metadata": {},
   "outputs": [
    {
     "data": {
      "text/plain": [
       "'SAMPATH'"
      ]
     },
     "execution_count": 13,
     "metadata": {},
     "output_type": "execute_result"
    }
   ],
   "source": [
    "a = \"sampath\"\n",
    "a.upper()"
   ]
  },
  {
   "cell_type": "markdown",
   "id": "10a673cb-af9c-4fe8-b2a3-b709dea1190b",
   "metadata": {},
   "source": [
    "\n",
    "# 3)LOWER : TO CONVERT BIG ALPHABETS INTO SMALL ALPHABETS¶"
   ]
  },
  {
   "cell_type": "code",
   "execution_count": 16,
   "id": "9ce7d6b6-5a47-40fa-925c-5df1b648c563",
   "metadata": {},
   "outputs": [
    {
     "data": {
      "text/plain": [
       "'sampath'"
      ]
     },
     "execution_count": 16,
     "metadata": {},
     "output_type": "execute_result"
    }
   ],
   "source": [
    "a = \"SAMPATH\"\n",
    "a.lower()"
   ]
  },
  {
   "cell_type": "markdown",
   "id": "53273a06-1a89-40ca-92a8-a94ab7c2360c",
   "metadata": {},
   "source": [
    "# 4)COUNT : TO COUNT THE FREQUENCY OF AN ELEMENT"
   ]
  },
  {
   "cell_type": "code",
   "execution_count": 25,
   "id": "a24371fd-fd03-44ee-ab73-fa0acbd8875a",
   "metadata": {},
   "outputs": [
    {
     "data": {
      "text/plain": [
       "2"
      ]
     },
     "execution_count": 25,
     "metadata": {},
     "output_type": "execute_result"
    }
   ],
   "source": [
    "c = \"nandini\"\n",
    "c.count('i')"
   ]
  },
  {
   "cell_type": "markdown",
   "id": "54331117-1b71-43ad-9a40-16aeb18c489e",
   "metadata": {},
   "source": [
    "# 5)SPLIT():IT WILL DIVIDE THE DATA"
   ]
  },
  {
   "cell_type": "code",
   "execution_count": 30,
   "id": "d10be0c0-44e4-46a5-96fe-9efeb58b0a1f",
   "metadata": {},
   "outputs": [
    {
     "data": {
      "text/plain": [
       "['i', 'am', 'playing', 'cricket']"
      ]
     },
     "execution_count": 30,
     "metadata": {},
     "output_type": "execute_result"
    }
   ],
   "source": [
    "a = \"i am playing cricket\"\n",
    "a.split()"
   ]
  },
  {
   "cell_type": "markdown",
   "id": "2f054561-b976-445b-b61a-3501aa4d0c9a",
   "metadata": {},
   "source": [
    "# 6)STRIP():IT WILL REMOVE THE BEGINNING AND END SPACES"
   ]
  },
  {
   "cell_type": "code",
   "execution_count": 33,
   "id": "d2796516-a268-4529-ba0c-9932b23a32e3",
   "metadata": {},
   "outputs": [
    {
     "data": {
      "text/plain": [
       "'sampath yadav'"
      ]
     },
     "execution_count": 33,
     "metadata": {},
     "output_type": "execute_result"
    }
   ],
   "source": [
    "x = \"  sampath yadav  \"\n",
    "x.strip()"
   ]
  },
  {
   "cell_type": "code",
   "execution_count": null,
   "id": "7badd1ec-5a66-4f87-a6e3-10609c6eb99e",
   "metadata": {},
   "outputs": [],
   "source": []
  }
 ],
 "metadata": {
  "kernelspec": {
   "display_name": "Python [conda env:base] *",
   "language": "python",
   "name": "conda-base-py"
  },
  "language_info": {
   "codemirror_mode": {
    "name": "ipython",
    "version": 3
   },
   "file_extension": ".py",
   "mimetype": "text/x-python",
   "name": "python",
   "nbconvert_exporter": "python",
   "pygments_lexer": "ipython3",
   "version": "3.12.7"
  }
 },
 "nbformat": 4,
 "nbformat_minor": 5
}

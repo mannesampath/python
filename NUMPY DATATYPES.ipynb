{
 "cells": [
  {
   "cell_type": "markdown",
   "id": "81ab4f44-d870-4e09-bdca-5836bf845cfc",
   "metadata": {},
   "source": [
    "# NUMPY DATATYPES:"
   ]
  },
  {
   "cell_type": "raw",
   "id": "a9a3a76f-5212-4d9c-a4a4-0021eab29463",
   "metadata": {},
   "source": [
    "NumPy has some extra data types, and refer to data types with one character, like i for integers, u for unsigned integers etc. \n",
    "\n",
    "Below is a list of all data types in NumPy and the characters used to represent them. \n",
    "\n",
    "i integer \n",
    "b boolean \n",
    "f float \n",
    "C complex float \n",
    "M datetime \n",
    "O object \n",
    "s string "
   ]
  },
  {
   "cell_type": "code",
   "execution_count": 4,
   "id": "86f8c6fa-f711-42a5-b923-7f7d753f9b9b",
   "metadata": {},
   "outputs": [],
   "source": [
    "import numpy as np"
   ]
  },
  {
   "cell_type": "code",
   "execution_count": 10,
   "id": "60dca779-4de5-458b-b243-7c11a335bbea",
   "metadata": {},
   "outputs": [
    {
     "name": "stdout",
     "output_type": "stream",
     "text": [
      "[1. 2. 3. 4.]\n",
      "float32\n"
     ]
    }
   ],
   "source": [
    "arr = np.array([1,2,3,4],dtype = 'f')\n",
    "\n",
    "print(arr)\n",
    "print(arr.dtype)"
   ]
  },
  {
   "cell_type": "code",
   "execution_count": 12,
   "id": "bcff2d1f-25ab-41a1-af3b-b5e2acc4822a",
   "metadata": {},
   "outputs": [
    {
     "name": "stdout",
     "output_type": "stream",
     "text": [
      "[1 3 4 6 4]\n",
      "int32\n"
     ]
    }
   ],
   "source": [
    "#integer\n",
    "arr = np.array([1.2,3.2,4.5,6.3,4.89],dtype = 'i')\n",
    "print(arr)\n",
    "print(arr.dtype)"
   ]
  },
  {
   "cell_type": "code",
   "execution_count": 14,
   "id": "66a31401-b766-43bf-a575-61bbc0a38a41",
   "metadata": {},
   "outputs": [
    {
     "name": "stdout",
     "output_type": "stream",
     "text": [
      "[1 3 4 6 4]\n",
      "int32\n"
     ]
    }
   ],
   "source": [
    "# changing datatype from float to int by using 'i' as a parameter value:\n",
    "arr = np.array([1.2,3.2,4.5,6.3,4.89],dtype = 'i')\n",
    "new = arr.astype('i')\n",
    "print(new)\n",
    "print(new.dtype)"
   ]
  },
  {
   "cell_type": "code",
   "execution_count": 18,
   "id": "767bae5b-29f8-4a2d-8adc-7c38f83cb418",
   "metadata": {},
   "outputs": [],
   "source": [
    "# change datatype from integer to boolean:"
   ]
  },
  {
   "cell_type": "code",
   "execution_count": 24,
   "id": "7c7dc9f4-2e7e-4bd9-b6b0-30ee29f8792f",
   "metadata": {},
   "outputs": [
    {
     "name": "stdout",
     "output_type": "stream",
     "text": [
      "[ True False  True  True  True  True  True False  True  True]\n",
      "bool\n"
     ]
    }
   ],
   "source": [
    "arr = np.array([4,0,5,6,-3,6,98,0,32,72])\n",
    "new = arr.astype(bool)\n",
    "print(new)\n",
    "print(new.dtype)"
   ]
  },
  {
   "cell_type": "markdown",
   "id": "1c57d994-815f-4a71-ac7e-2fc45343da62",
   "metadata": {},
   "source": [
    "# copy method : imp***"
   ]
  },
  {
   "cell_type": "code",
   "execution_count": 29,
   "id": "67e55154-e502-48ae-8427-27dd91a12af4",
   "metadata": {},
   "outputs": [
    {
     "name": "stdout",
     "output_type": "stream",
     "text": [
      "[ 7  8 28 36 45 56]\n",
      "[ 7  8 24 36 45 56]\n"
     ]
    }
   ],
   "source": [
    "arr = np.array([7,8,24,36,45,56])\n",
    "x = arr.copy()\n",
    "arr[2]=28\n",
    "print(arr)\n",
    "print(x)"
   ]
  },
  {
   "cell_type": "markdown",
   "id": "b57d3d53-5eda-4a2e-bb23-f59519a5e103",
   "metadata": {},
   "source": [
    "# view method :"
   ]
  },
  {
   "cell_type": "code",
   "execution_count": 32,
   "id": "8cf45908-e14e-4629-9da9-37f99b4b4d5b",
   "metadata": {},
   "outputs": [
    {
     "name": "stdout",
     "output_type": "stream",
     "text": [
      "[12 32 43 24 56]\n",
      "[12 32 43 24 56]\n"
     ]
    }
   ],
   "source": [
    "arr = np.array([12,32,43,34,56])\n",
    "x = arr.view()\n",
    "arr[-2] = 24\n",
    "print(arr)\n",
    "print(x)"
   ]
  },
  {
   "cell_type": "code",
   "execution_count": null,
   "id": "6d8f5669-62d4-46b1-94b9-5682a811b7bd",
   "metadata": {},
   "outputs": [],
   "source": []
  },
  {
   "cell_type": "markdown",
   "id": "7bf1d5c8-88bc-4524-b725-b68248c5b650",
   "metadata": {},
   "source": [
    "# RESHAPING ARRAYS:\n",
    "Reshaping arrays means changing the structure or dimensions of an array (like rows and columns) without altering its data. For example, in Python with NumPy, you can turn a flat list of numbers into a grid, like rearranging 12 items into 3 rows of 4. It’s like reorganizing a pile of blocks into a new shape while keeping the same blocks."
   ]
  },
  {
   "cell_type": "code",
   "execution_count": 39,
   "id": "68abfe6b-fbba-4ca5-9a4a-607b39b8d6b9",
   "metadata": {},
   "outputs": [],
   "source": [
    "#Convert the following 1-0 array with 12 elements into a 2D array. \n",
    "arr=np.array([1, 2, 3, 4, 5, 6, 7, 8, 9, 10, 11, 12]) "
   ]
  },
  {
   "cell_type": "code",
   "execution_count": 45,
   "id": "4beb0a31-c9f0-47f8-924f-f4f1853a37ab",
   "metadata": {},
   "outputs": [
    {
     "name": "stdout",
     "output_type": "stream",
     "text": [
      "12\n",
      "[[ 1  2  3  4]\n",
      " [ 5  6  7  8]\n",
      " [ 9 10 11 12]]\n"
     ]
    }
   ],
   "source": [
    "print(arr.size)\n",
    "newarr = arr.reshape(3,4)\n",
    "print(newarr)"
   ]
  },
  {
   "cell_type": "code",
   "execution_count": 49,
   "id": "f84cde90-a627-43cf-a3ef-8970efce7d58",
   "metadata": {},
   "outputs": [],
   "source": [
    "#Convert the following 1-0 array with 12 elements into a 3D array. \n",
    "arr = np.array([1, 2, 3, 4, 5, 6, 7, 8, 9, 10, 11, 12]) "
   ]
  },
  {
   "cell_type": "code",
   "execution_count": 53,
   "id": "b446c99a-d306-4c91-8b5f-575be555d8d3",
   "metadata": {},
   "outputs": [
    {
     "name": "stdout",
     "output_type": "stream",
     "text": [
      "12\n",
      "[[[ 1  2  3]\n",
      "  [ 4  5  6]]\n",
      "\n",
      " [[ 7  8  9]\n",
      "  [10 11 12]]]\n"
     ]
    }
   ],
   "source": [
    "print(arr.size)\n",
    "newarr = arr.reshape(2,2,3) #(shape,row,column)\n",
    "print(newarr)"
   ]
  },
  {
   "cell_type": "code",
   "execution_count": null,
   "id": "758f47a9-13b9-4104-a9ab-729618639cf0",
   "metadata": {},
   "outputs": [],
   "source": []
  },
  {
   "cell_type": "markdown",
   "id": "34bdba0e-6c9c-4bdf-916c-4966fa810269",
   "metadata": {},
   "source": [
    "# Sorting Array:\n",
    "Sorting arrays in Python means arranging a list of items (like numbers or words) in a specific order, like smallest to largest. Python makes it easy with the .sort() method for lists or the sorted() function, which can work on any iterable and give you a new sorted list. For example, [3, 1, 2].sort() turns into [1, 2, 3]."
   ]
  },
  {
   "cell_type": "code",
   "execution_count": 57,
   "id": "6cfb87ec-d386-4fa5-9714-194dcb540083",
   "metadata": {},
   "outputs": [
    {
     "name": "stdout",
     "output_type": "stream",
     "text": [
      "[ 2 45 45 45 63 76 86]\n"
     ]
    }
   ],
   "source": [
    "arr = np.array([2,45,63,45,86,45,76])\n",
    "print(np.sort(arr))"
   ]
  },
  {
   "cell_type": "code",
   "execution_count": null,
   "id": "4cf1360a-0f71-47fe-8492-f0905e8b4cbf",
   "metadata": {},
   "outputs": [],
   "source": []
  },
  {
   "cell_type": "code",
   "execution_count": 62,
   "id": "9d8f3f5a-6c50-48fe-b942-4b582f3cb0c6",
   "metadata": {},
   "outputs": [],
   "source": [
    "x = np.array([[1,2],[3,4]])\n",
    "y = np.array([[5,6],[7,8]])"
   ]
  },
  {
   "cell_type": "code",
   "execution_count": 64,
   "id": "21f3d41f-1e58-4317-9d8c-47bfb486d7d3",
   "metadata": {},
   "outputs": [
    {
     "name": "stdout",
     "output_type": "stream",
     "text": [
      "[[ 6  8]\n",
      " [10 12]]\n"
     ]
    }
   ],
   "source": [
    "#ADDITION OF TWO RAYS:\n",
    "print(np.add(x,y))"
   ]
  },
  {
   "cell_type": "code",
   "execution_count": 68,
   "id": "46827a8a-70f2-4417-8d4a-a2b731c344a9",
   "metadata": {},
   "outputs": [
    {
     "name": "stdout",
     "output_type": "stream",
     "text": [
      "[[-4 -4]\n",
      " [-4 -4]]\n"
     ]
    }
   ],
   "source": [
    "#SUBTRACTION OF THE ELEMENTS:\n",
    "print(np.subtract(x,y))"
   ]
  },
  {
   "cell_type": "code",
   "execution_count": 74,
   "id": "483db123-ec26-4a6b-921b-bf9343c4b823",
   "metadata": {},
   "outputs": [
    {
     "name": "stdout",
     "output_type": "stream",
     "text": [
      "[[ 5 12]\n",
      " [21 32]]\n"
     ]
    }
   ],
   "source": [
    "# MULTIPLICATION OR PRODUCT:\n",
    "print(np.multiply(x,y))"
   ]
  },
  {
   "cell_type": "code",
   "execution_count": 80,
   "id": "c2e80caa-9929-4df9-bb9c-c510b782fffa",
   "metadata": {},
   "outputs": [
    {
     "name": "stdout",
     "output_type": "stream",
     "text": [
      "[[0.2        0.33333333]\n",
      " [0.42857143 0.5       ]]\n"
     ]
    }
   ],
   "source": [
    "# DIVISION:\n",
    "print(np.divide(x,y))"
   ]
  },
  {
   "cell_type": "code",
   "execution_count": 92,
   "id": "9432929b-c7f7-41aa-9cbb-d56ac467e7ca",
   "metadata": {},
   "outputs": [
    {
     "name": "stdout",
     "output_type": "stream",
     "text": [
      "[[1.         1.41421356]\n",
      " [1.73205081 2.        ]]\n",
      "[[2.23606798 2.44948974]\n",
      " [2.64575131 2.82842712]]\n"
     ]
    }
   ],
   "source": [
    "#sqare root:\n",
    "print(np.sqrt(x))\n",
    "print(np.sqrt(y))"
   ]
  },
  {
   "cell_type": "markdown",
   "id": "e1bf873e-b4d7-462f-8a44-abfe9a1a1530",
   "metadata": {},
   "source": [
    "# SLICING ARRAYS:"
   ]
  },
  {
   "cell_type": "raw",
   "id": "a794721e-04e2-43a4-9c88-a87b53a6ae49",
   "metadata": {},
   "source": [
    "Slicing in python means taking elements from one given index to another given index. \n",
    "We pass slice instead of index like this: [start:end]. \n",
    "We can also define the step, like this: [start:end:step]. \n",
    "If we don't pass start its considered 0 \n",
    "If we don't pass end its considered length of array in that dimension "
   ]
  },
  {
   "cell_type": "code",
   "execution_count": 101,
   "id": "3bba130f-cec0-449a-8a9c-a6039cbbbbc8",
   "metadata": {},
   "outputs": [
    {
     "name": "stdout",
     "output_type": "stream",
     "text": [
      "[2 3 4 5 6 7]\n"
     ]
    }
   ],
   "source": [
    "#SLice elements from index 1 to index 5 from the following array: \n",
    "arr=np.array([1, 2, 3, 4, 5, 6, 7]) \n",
    "print(arr[1:12]) "
   ]
  },
  {
   "cell_type": "code",
   "execution_count": 105,
   "id": "6a000a90-a472-422b-bf3d-f21d10b2f194",
   "metadata": {},
   "outputs": [
    {
     "name": "stdout",
     "output_type": "stream",
     "text": [
      "[5 6 7]\n"
     ]
    }
   ],
   "source": [
    "#SLice elements from index 4 to the end of the array: \n",
    "arr=np.array([1, 2, 3, 4, 5, 6, 7]) \n",
    "print(arr[4:]) "
   ]
  },
  {
   "cell_type": "code",
   "execution_count": 111,
   "id": "66a1ad6f-3bc1-423b-beb0-79b2191db463",
   "metadata": {},
   "outputs": [
    {
     "name": "stdout",
     "output_type": "stream",
     "text": [
      "[1 2 3 4 5 6]\n"
     ]
    }
   ],
   "source": [
    "#SLice elements from the beginning to index 4 (not included): \n",
    "arr=np.array([1, 2, 3, 4, 5, 6, 7]) \n",
    "print(arr[:6]) "
   ]
  },
  {
   "cell_type": "markdown",
   "id": "10dc7cc0-12fd-4deb-b231-c887bbfd7b26",
   "metadata": {},
   "source": [
    "# NEGATIVE SLICING:"
   ]
  },
  {
   "cell_type": "code",
   "execution_count": 116,
   "id": "41b285e0-b781-467a-a910-d5bafec3c00f",
   "metadata": {},
   "outputs": [
    {
     "name": "stdout",
     "output_type": "stream",
     "text": [
      "[5 6]\n"
     ]
    }
   ],
   "source": [
    "#SLice from the index 3 from the end to index 1 from the end: \n",
    "arr=np.array([1, 2, 3, 4, 5, 6, 7]) \n",
    "print(arr[-3:-1]) "
   ]
  },
  {
   "cell_type": "code",
   "execution_count": 130,
   "id": "fd6050d0-70b0-4b1b-b2ee-e0c485e2a5b5",
   "metadata": {},
   "outputs": [
    {
     "name": "stdout",
     "output_type": "stream",
     "text": [
      "[1 3 5 7 9 1 3]\n"
     ]
    }
   ],
   "source": [
    "#Use the step value to determine the step of the slicing: \n",
    "arr=np.array([1, 2, 3, 4, 5, 6, 7, 8, 9, 4, 1, 5,3,6,2,7,21]) \n",
    "print(arr[0:13:2]) #step is apply Like step-1 \n"
   ]
  },
  {
   "cell_type": "code",
   "execution_count": 142,
   "id": "dff0bd41-7a55-4f81-99b0-f7cd1d7abece",
   "metadata": {},
   "outputs": [
    {
     "name": "stdout",
     "output_type": "stream",
     "text": [
      "[1 4 7]\n"
     ]
    },
    {
     "data": {
      "text/plain": [
       "[147]"
      ]
     },
     "execution_count": 142,
     "metadata": {},
     "output_type": "execute_result"
    }
   ],
   "source": [
    "#Return every other element from the entire array: \n",
    "arr=np.array([1, 2, 3, 4, 5, 6, 7]) \n",
    "print(arr[::3]) \n",
    "[147] "
   ]
  },
  {
   "cell_type": "code",
   "execution_count": 158,
   "id": "61ff7f47-3d90-4912-b169-54352002363e",
   "metadata": {},
   "outputs": [
    {
     "name": "stdout",
     "output_type": "stream",
     "text": [
      "[4 3]\n"
     ]
    }
   ],
   "source": [
    "#Slicing 2-D Arrays \n",
    "#From the second element, slice elements from index 1 to index 4 (not included): \n",
    "arr=np.array([[1, 2, 3, 4, 5],\n",
    "             [1, 2, 32, 14, 5], \n",
    "             [1, 4, 3, 34, 51],\n",
    "             [6, 7, 8, 49, 10]]) \n",
    "print(arr[2, 1:3]) "
   ]
  },
  {
   "cell_type": "code",
   "execution_count": 166,
   "id": "c212c2ab-d345-419c-b8ae-6577555f6b18",
   "metadata": {},
   "outputs": [
    {
     "name": "stdout",
     "output_type": "stream",
     "text": [
      "[2 7 7 7]\n"
     ]
    }
   ],
   "source": [
    "#return both element index 3 \n",
    "arr=np.array([[1, 2, 3, 4, 5], #0 \n",
    "              [6, 7, 8, 9, 10], #1\n",
    "              [6, 7, 8, 9, 10], #2 ID \n",
    "              [6, 7, 8, 9, 10]]) #3 1D \n",
    "print(arr[0:8, 1]) #(10, element) "
   ]
  },
  {
   "cell_type": "code",
   "execution_count": 170,
   "id": "de7213b8-ec34-472d-b4be-41d8c518603d",
   "metadata": {},
   "outputs": [
    {
     "name": "stdout",
     "output_type": "stream",
     "text": [
      "[6 2 2]\n"
     ]
    }
   ],
   "source": [
    "t=np.array([[2,4,6,2], #0 \n",
    "            [5,7,2,8], #1 \n",
    "            [9,4,2,4]]) #2  \n",
    "print(t[0:4,2]) "
   ]
  },
  {
   "cell_type": "code",
   "execution_count": 182,
   "id": "cb9bf775-61ef-4191-85f4-8a772aa5ab14",
   "metadata": {},
   "outputs": [
    {
     "ename": "SyntaxError",
     "evalue": "closing parenthesis ')' does not match opening parenthesis '[' (3811416494.py, line 4)",
     "output_type": "error",
     "traceback": [
      "\u001b[0;36m  Cell \u001b[0;32mIn[182], line 4\u001b[0;36m\u001b[0m\n\u001b[0;31m    print(t[0:2, 0:3))\u001b[0m\n\u001b[0m                    ^\u001b[0m\n\u001b[0;31mSyntaxError\u001b[0m\u001b[0;31m:\u001b[0m closing parenthesis ')' does not match opening parenthesis '['\n"
     ]
    }
   ],
   "source": [
    "t=np.array([[2,4,6,2], #0 \n",
    "            [5,7,2,8], #1 \n",
    "            [9,4,2,4]]) #2 \n",
    "print(t[0:2, 0:3))"
   ]
  },
  {
   "cell_type": "code",
   "execution_count": null,
   "id": "f58ea908-0738-47d9-a529-0badeea30596",
   "metadata": {},
   "outputs": [],
   "source": [
    "t \n",
    "np.array([[2,4,6,2), #0 \n",
    "[5,7,2,8), #1 \n",
    "[9,4,2,4]]) #2 \n",
    "[19]: \n",
    "print(t[0:4,2]) \n",
    "[622] \n",
    "[34]: t \n",
    "np.array([[2,4,6,2], #0 \n",
    "[5,7,2,8), #1 \n",
    "[9,4,2,4]]) #2 \n",
    "print(t[0:2, 0:31) "
   ]
  }
 ],
 "metadata": {
  "kernelspec": {
   "display_name": "Python [conda env:base] *",
   "language": "python",
   "name": "conda-base-py"
  },
  "language_info": {
   "codemirror_mode": {
    "name": "ipython",
    "version": 3
   },
   "file_extension": ".py",
   "mimetype": "text/x-python",
   "name": "python",
   "nbconvert_exporter": "python",
   "pygments_lexer": "ipython3",
   "version": "3.12.7"
  }
 },
 "nbformat": 4,
 "nbformat_minor": 5
}

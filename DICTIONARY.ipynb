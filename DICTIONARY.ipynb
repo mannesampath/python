{
 "cells": [
  {
   "cell_type": "markdown",
   "id": "29920c73-558d-481d-b0e4-01838ae6f76b",
   "metadata": {},
   "source": [
    "# DICTIONARY"
   ]
  },
  {
   "cell_type": "markdown",
   "id": "3606ecda-59e0-443c-96ee-f64490bd61f4",
   "metadata": {},
   "source": [
    "COLLECTION OF KEY AND VALUES\n",
    "\n",
    "(KEY:VALUE)-ITEM\n",
    "\n",
    "(1:\"SAM\")\n",
    "\n",
    "IT CAN BE REPRESENTED BY {}\n",
    "\n",
    "EACH AND EVERY ITEM SEPERATED BY USING ','\n",
    "\n",
    "WE CAN ACCESS THE DATA ONLY BY KEYS"
   ]
  },
  {
   "cell_type": "code",
   "execution_count": 4,
   "id": "bb46377a-6fa0-474c-86ef-8aebc9d9fbad",
   "metadata": {},
   "outputs": [
    {
     "data": {
      "text/plain": [
       "'dosa'"
      ]
     },
     "execution_count": 4,
     "metadata": {},
     "output_type": "execute_result"
    }
   ],
   "source": [
    "a = {1 : \"dosa\", 2 : \"puri\", 3 : \"idly\" , 4 : \"wada\"}\n",
    "a[1]"
   ]
  },
  {
   "cell_type": "code",
   "execution_count": 6,
   "id": "46215faa-74a4-49cf-80af-873a07e8d586",
   "metadata": {},
   "outputs": [
    {
     "data": {
      "text/plain": [
       "'idly'"
      ]
     },
     "execution_count": 6,
     "metadata": {},
     "output_type": "execute_result"
    }
   ],
   "source": [
    "a[3]"
   ]
  },
  {
   "cell_type": "code",
   "execution_count": 8,
   "id": "86f9d981-f1c9-46d7-87e7-57db8f8b5d85",
   "metadata": {},
   "outputs": [
    {
     "data": {
      "text/plain": [
       "'puri'"
      ]
     },
     "execution_count": 8,
     "metadata": {},
     "output_type": "execute_result"
    }
   ],
   "source": [
    "a[2]"
   ]
  },
  {
   "cell_type": "markdown",
   "id": "99d1b37d-47ad-439a-a304-aedc984bef56",
   "metadata": {},
   "source": [
    "# FUNCTIONS OR METHODS "
   ]
  },
  {
   "cell_type": "markdown",
   "id": "454b30f1-4f87-41fd-bb93-788cb419b348",
   "metadata": {},
   "source": [
    "# 1) POP : TO REMOVE ANY PARTICULAR ELEMENT"
   ]
  },
  {
   "cell_type": "code",
   "execution_count": 42,
   "id": "afe4383d-787f-4c40-ba84-5679ec3f8a11",
   "metadata": {},
   "outputs": [
    {
     "data": {
      "text/plain": [
       "'dosa'"
      ]
     },
     "execution_count": 42,
     "metadata": {},
     "output_type": "execute_result"
    }
   ],
   "source": [
    "a = {1 : \"dosa\", 2 : \"puri\", 3 : \"idly\" , 4 : \"wada\"}\n",
    "a.pop(1)"
   ]
  },
  {
   "cell_type": "code",
   "execution_count": 44,
   "id": "7afe2f11-3e6a-4706-94a4-c171d600a612",
   "metadata": {},
   "outputs": [
    {
     "data": {
      "text/plain": [
       "{2: 'puri', 3: 'idly', 4: 'wada'}"
      ]
     },
     "execution_count": 44,
     "metadata": {},
     "output_type": "execute_result"
    }
   ],
   "source": [
    "a"
   ]
  },
  {
   "cell_type": "markdown",
   "id": "cab2cc87-5ee7-4d89-8434-d19eea8e1bcc",
   "metadata": {},
   "source": [
    "# 2) UPDATE : TO REPLACE ANY ITEM WITH OTHER"
   ]
  },
  {
   "cell_type": "code",
   "execution_count": 47,
   "id": "472013a5-f60b-4bdf-8e82-ed2c89177cc8",
   "metadata": {},
   "outputs": [],
   "source": [
    "a = {\"name\":\"sam\",\"age\":20,\"location\":\"mdk\"}\n",
    "b = {\"name\":\"sam\",\"age\":25}\n",
    "a.update(b)"
   ]
  },
  {
   "cell_type": "code",
   "execution_count": 19,
   "id": "493c8305-a919-408e-9e3b-3a30912eb89d",
   "metadata": {},
   "outputs": [
    {
     "data": {
      "text/plain": [
       "{'name': 'sam', 'age': 25, 'location': 'mdk'}"
      ]
     },
     "execution_count": 19,
     "metadata": {},
     "output_type": "execute_result"
    }
   ],
   "source": [
    "a"
   ]
  },
  {
   "cell_type": "markdown",
   "id": "68020232-dec8-44e5-a7aa-0a331b34b7b9",
   "metadata": {},
   "source": [
    "# 3) POPITEM: TO REMOVE ONLY LAST ITEM"
   ]
  },
  {
   "cell_type": "code",
   "execution_count": 22,
   "id": "51d74918-196e-4eba-a198-758660d15a98",
   "metadata": {},
   "outputs": [
    {
     "data": {
      "text/plain": [
       "(4, 'wada')"
      ]
     },
     "execution_count": 22,
     "metadata": {},
     "output_type": "execute_result"
    }
   ],
   "source": [
    "a = {1 : \"dosa\", 2 : \"puri\", 3 : \"idly\" , 4 : \"wada\"}\n",
    "a.popitem()"
   ]
  },
  {
   "cell_type": "code",
   "execution_count": 24,
   "id": "0e67134f-23e6-4d67-a17f-3087c1d3315f",
   "metadata": {},
   "outputs": [
    {
     "data": {
      "text/plain": [
       "{1: 'dosa', 2: 'puri', 3: 'idly'}"
      ]
     },
     "execution_count": 24,
     "metadata": {},
     "output_type": "execute_result"
    }
   ],
   "source": [
    "a"
   ]
  },
  {
   "cell_type": "markdown",
   "id": "d1401b04-1f7b-4afe-acbd-55cd58523f88",
   "metadata": {},
   "source": [
    "# 4).keys(): TO ACCESS THE ONLY KEYS"
   ]
  },
  {
   "cell_type": "code",
   "execution_count": 31,
   "id": "37944373-e8a6-4ee8-862a-64baa979de75",
   "metadata": {},
   "outputs": [
    {
     "data": {
      "text/plain": [
       "dict_keys(['name', 'age', 'location'])"
      ]
     },
     "execution_count": 31,
     "metadata": {},
     "output_type": "execute_result"
    }
   ],
   "source": [
    "a = {\"name\":\"sam\",\"age\":20,\"location\":\"mdk\"}\n",
    "a.keys()"
   ]
  },
  {
   "cell_type": "markdown",
   "id": "17d9ef99-a04f-4cb5-a0b2-76e06a7f639a",
   "metadata": {},
   "source": [
    "# 5).values()"
   ]
  },
  {
   "cell_type": "code",
   "execution_count": 37,
   "id": "ebb51ead-0027-4ba6-b6d2-504be3673167",
   "metadata": {},
   "outputs": [
    {
     "data": {
      "text/plain": [
       "dict_values(['sam', 20, 'mdk'])"
      ]
     },
     "execution_count": 37,
     "metadata": {},
     "output_type": "execute_result"
    }
   ],
   "source": [
    "a = {\"name\":\"sam\",\"age\":20,\"location\":\"mdk\"}\n",
    "a.values()"
   ]
  },
  {
   "cell_type": "markdown",
   "id": "ea35b67e-afa4-4cbf-b553-76eb9f10aacb",
   "metadata": {},
   "source": [
    "# 6) ITEMS"
   ]
  },
  {
   "cell_type": "code",
   "execution_count": 40,
   "id": "4f8e3641-4e1b-4b72-b623-41ec650698c6",
   "metadata": {},
   "outputs": [
    {
     "data": {
      "text/plain": [
       "dict_items([('name', 'sam'), ('age', 20), ('location', 'mdk')])"
      ]
     },
     "execution_count": 40,
     "metadata": {},
     "output_type": "execute_result"
    }
   ],
   "source": [
    "a = {\"name\":\"sam\",\"age\":20,\"location\":\"mdk\"}\n",
    "a.items()"
   ]
  },
  {
   "cell_type": "code",
   "execution_count": null,
   "id": "99dfa0eb-a937-44df-b975-c092f0c433f4",
   "metadata": {},
   "outputs": [],
   "source": []
  }
 ],
 "metadata": {
  "kernelspec": {
   "display_name": "Python [conda env:base] *",
   "language": "python",
   "name": "conda-base-py"
  },
  "language_info": {
   "codemirror_mode": {
    "name": "ipython",
    "version": 3
   },
   "file_extension": ".py",
   "mimetype": "text/x-python",
   "name": "python",
   "nbconvert_exporter": "python",
   "pygments_lexer": "ipython3",
   "version": "3.12.7"
  }
 },
 "nbformat": 4,
 "nbformat_minor": 5
}

{
 "cells": [
  {
   "cell_type": "markdown",
   "id": "4ef848a3-8af2-4939-b578-b0a9df6ded9d",
   "metadata": {},
   "source": [
    "# what is python?\n",
    "- python is a high level programming language\n",
    "- that is used to build software,websites,machine learning modules,games & conduct data analysis. \n"
   ]
  },
  {
   "cell_type": "markdown",
   "id": "0013a605-2e1c-473f-92cf-75f97a9b78ef",
   "metadata": {},
   "source": [
    "# why python?\n",
    "- python is easy to uderstand \n",
    "- python is easy to connect with database\n",
    "- and it is easy to write syntax"
   ]
  },
  {
   "cell_type": "markdown",
   "id": "7121f358-adc0-4248-94d2-e08b80483a03",
   "metadata": {},
   "source": [
    "# applications of python\n",
    "-Web Development: Python is used for building websites and web applications. Frameworks like Django and Flask simplify the development process.\n",
    "- Data Science: Python's libraries like NumPy, Pandas, and Scikit-learn make it a popular choice for data analysis, manipulation, and visualization.\n",
    "- Machine Learning: Python is extensively used in machine learning for developing algorithms, training models, and building AI applications.\n",
    "- Automation: Python scripts can automate repetitive tasks, making it useful for system administration, file management, and task scheduling.\n",
    "- Game Development: Python libraries like Pygame are used for creating 2D and 3D games.\n",
    "- Desktop GUI Development: Python can be used to create graphical user interfaces for desktop applications using libraries like Tkinter and PyQt.\n",
    "- Software Development: Python is used for building software applications, prototypes, and for software testing.\n",
    "- Scripting: Python is used for writing scripts to automate tasks, perform batch processing, and interact with other programs.\n",
    "- Education: Python's easy-to-learn syntax makes it a popular language for teaching programming to beginners.\n",
    "- Scientific Computing: Python is used in scientific research for simulations, data analysis, and visualization."
   ]
  },
  {
   "cell_type": "markdown",
   "id": "8176e641-4ee7-43ce-9373-fb844edaf803",
   "metadata": {},
   "source": [
    "# explain about comments with example?\n",
    "- Comments in Python are lines of code that are ignored by the interpreter. They're used to explain what the code does, making it easier to understand.  They're crucial for readability and maintainability.\n",
    "- example : a=1,b=2 # a&b are 2 sellers"
   ]
  },
  {
   "cell_type": "markdown",
   "id": "ead30826-cfc1-496a-a1bc-7cf2a7289a77",
   "metadata": {},
   "source": [
    "# explain about keywords?\n",
    "- Keywords in computer programming are like the reserved words of a language. They have a special, predefined meaning to the compiler or interpreter. You can't use them for anything else, like naming variables or functions.\n",
    "- ex: if,False,not,pass,lambda"
   ]
  },
  {
   "cell_type": "markdown",
   "id": "618f2ebf-cf42-4541-8372-a8a554f8355f",
   "metadata": {},
   "source": [
    "# explain about variable?\n",
    "- (storing of an element/value/item)\n",
    "- A Varioable is a named storage location in memory that holds a value, which can be changed during program execution.\n",
    "- ex: a = 10"
   ]
  }
 ],
 "metadata": {
  "kernelspec": {
   "display_name": "Python [conda env:base] *",
   "language": "python",
   "name": "conda-base-py"
  },
  "language_info": {
   "codemirror_mode": {
    "name": "ipython",
    "version": 3
   },
   "file_extension": ".py",
   "mimetype": "text/x-python",
   "name": "python",
   "nbconvert_exporter": "python",
   "pygments_lexer": "ipython3",
   "version": "3.12.7"
  }
 },
 "nbformat": 4,
 "nbformat_minor": 5
}

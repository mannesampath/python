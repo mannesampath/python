{
 "cells": [
  {
   "cell_type": "markdown",
   "id": "a91290b1-f446-46a8-8f8f-baf6b0d91100",
   "metadata": {},
   "source": [
    "# TUPLE :"
   ]
  },
  {
   "cell_type": "markdown",
   "id": "5e9216df-fd06-491d-b882-4cd9fd1a8f39",
   "metadata": {},
   "source": [
    "TUPLE MEANS COLLECTION OF ELEMENTS OR ORDER OF ELEMENTS\n",
    "\n",
    "IT CAN BE REPRESENTED BY USING ROUND BRACKETS()\n",
    "\n",
    "EACH AND EVERY ELEMENT IS DIVIDED BY USING \",\"\n",
    "\n",
    "TUPLE IS IMMUTABLE (WE CAN'T CHANGE,MODIFY OR UPDATE)"
   ]
  },
  {
   "cell_type": "code",
   "execution_count": 5,
   "id": "ba07c774-5ccc-46f5-b80f-e52b191bff36",
   "metadata": {},
   "outputs": [
    {
     "data": {
      "text/plain": [
       "tuple"
      ]
     },
     "execution_count": 5,
     "metadata": {},
     "output_type": "execute_result"
    }
   ],
   "source": [
    "a = (1,2,3,4)\n",
    "type(a)"
   ]
  },
  {
   "cell_type": "code",
   "execution_count": 7,
   "id": "1d48dc2f-8749-4422-b4fd-9336b2662f6a",
   "metadata": {},
   "outputs": [
    {
     "data": {
      "text/plain": [
       "tuple"
      ]
     },
     "execution_count": 7,
     "metadata": {},
     "output_type": "execute_result"
    }
   ],
   "source": [
    "b = ('p','y','t','h','o','n')\n",
    "type(b)"
   ]
  },
  {
   "cell_type": "code",
   "execution_count": 9,
   "id": "a2934f4a-c2b6-4634-99de-cc4d351357c5",
   "metadata": {},
   "outputs": [
    {
     "data": {
      "text/plain": [
       "tuple"
      ]
     },
     "execution_count": 9,
     "metadata": {},
     "output_type": "execute_result"
    }
   ],
   "source": [
    "c = (2,3.8,1+2j,True,\"teks\")\n",
    "type(c)"
   ]
  },
  {
   "cell_type": "markdown",
   "id": "757b8613-478c-4dd1-994d-19a48b8929e0",
   "metadata": {},
   "source": [
    "# TUPLE FUNCTIONS/METHODS:"
   ]
  },
  {
   "cell_type": "code",
   "execution_count": null,
   "id": "7382e3b8-6aee-41e8-84e7-556ced8f5277",
   "metadata": {},
   "outputs": [],
   "source": [
    "word = ('i','am','playing','cricket')\n",
    "letter = ('p','y','t','h','o','n')"
   ]
  },
  {
   "cell_type": "markdown",
   "id": "937f6161-4d93-4879-a8e9-b62654ce67d3",
   "metadata": {},
   "source": [
    "# 1)LENGTH(LEN):"
   ]
  },
  {
   "cell_type": "code",
   "execution_count": 15,
   "id": "a1685c9d-73f3-4288-b6b4-e6ae9ed6c67a",
   "metadata": {},
   "outputs": [
    {
     "data": {
      "text/plain": [
       "4"
      ]
     },
     "execution_count": 15,
     "metadata": {},
     "output_type": "execute_result"
    }
   ],
   "source": [
    "word = ('i','am','playing','cricket')\n",
    "len(word)"
   ]
  },
  {
   "cell_type": "markdown",
   "id": "71c04185-180a-4668-b9e9-b9cccda94000",
   "metadata": {},
   "source": [
    "# 2)COUNT :"
   ]
  },
  {
   "cell_type": "code",
   "execution_count": 4,
   "id": "704e6244-1fbf-4721-8ad9-737cef7f51d5",
   "metadata": {},
   "outputs": [
    {
     "data": {
      "text/plain": [
       "2"
      ]
     },
     "execution_count": 4,
     "metadata": {},
     "output_type": "execute_result"
    }
   ],
   "source": [
    "X = (\"sampath\")\n",
    "X.count('a')"
   ]
  },
  {
   "cell_type": "markdown",
   "id": "f71ea11c-ebd0-458c-80ef-2aab04fff0d6",
   "metadata": {},
   "source": [
    "# 3)INDEX :"
   ]
  },
  {
   "cell_type": "code",
   "execution_count": 29,
   "id": "f1521800-cfde-4baa-9752-17d453257ea8",
   "metadata": {},
   "outputs": [
    {
     "data": {
      "text/plain": [
       "2"
      ]
     },
     "execution_count": 29,
     "metadata": {},
     "output_type": "execute_result"
    }
   ],
   "source": [
    "letter = ('p','y','t','h','o','n')\n",
    "letter.index('t')"
   ]
  },
  {
   "cell_type": "markdown",
   "id": "26381d20-114e-40e9-a620-8d73c8571550",
   "metadata": {},
   "source": [
    "# 4) CONCATENATION:"
   ]
  },
  {
   "cell_type": "code",
   "execution_count": 32,
   "id": "620a440c-5b1a-4808-b427-1dd165aa6889",
   "metadata": {},
   "outputs": [
    {
     "data": {
      "text/plain": [
       "('i', 'am', 'playing', 'cricket', 'p', 'y', 't', 'h', 'o', 'n')"
      ]
     },
     "execution_count": 32,
     "metadata": {},
     "output_type": "execute_result"
    }
   ],
   "source": [
    "word = ('i','am','playing','cricket')\n",
    "letter = ('p','y','t','h','o','n')\n",
    "word + letter"
   ]
  },
  {
   "cell_type": "markdown",
   "id": "834c6108-d94e-4f40-81b7-f12d751ae089",
   "metadata": {},
   "source": [
    "# 5)REPETATION:"
   ]
  },
  {
   "cell_type": "code",
   "execution_count": 36,
   "id": "c251883c-60b2-44a8-a7f1-fb99c4da2b08",
   "metadata": {},
   "outputs": [
    {
     "data": {
      "text/plain": [
       "('i',\n",
       " 'am',\n",
       " 'playing',\n",
       " 'cricket',\n",
       " 'i',\n",
       " 'am',\n",
       " 'playing',\n",
       " 'cricket',\n",
       " 'i',\n",
       " 'am',\n",
       " 'playing',\n",
       " 'cricket',\n",
       " 'i',\n",
       " 'am',\n",
       " 'playing',\n",
       " 'cricket',\n",
       " 'i',\n",
       " 'am',\n",
       " 'playing',\n",
       " 'cricket')"
      ]
     },
     "execution_count": 36,
     "metadata": {},
     "output_type": "execute_result"
    }
   ],
   "source": [
    "word = ('i','am','playing','cricket')\n",
    "word*5"
   ]
  },
  {
   "cell_type": "code",
   "execution_count": null,
   "id": "f9ee45dc-288a-47ce-a8b9-7cf23fc211be",
   "metadata": {},
   "outputs": [],
   "source": []
  }
 ],
 "metadata": {
  "kernelspec": {
   "display_name": "Python [conda env:base] *",
   "language": "python",
   "name": "conda-base-py"
  },
  "language_info": {
   "codemirror_mode": {
    "name": "ipython",
    "version": 3
   },
   "file_extension": ".py",
   "mimetype": "text/x-python",
   "name": "python",
   "nbconvert_exporter": "python",
   "pygments_lexer": "ipython3",
   "version": "3.12.7"
  }
 },
 "nbformat": 4,
 "nbformat_minor": 5
}

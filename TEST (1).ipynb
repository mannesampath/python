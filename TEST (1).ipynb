{
 "cells": [
  {
   "cell_type": "markdown",
   "id": "2dd759a7-b48c-40de-a7e4-0bf7a02ad603",
   "metadata": {},
   "source": [
    "# 1)What is Python?"
   ]
  },
  {
   "cell_type": "markdown",
   "id": "db64040f-3508-4c81-b228-3e13db3a6fd0",
   "metadata": {},
   "source": [
    "python is a high level programming langauge that is used to\n",
    "build software applications,games,websites,\n",
    "\n",
    "machine learning modules and also to conduct data analysis"
   ]
  },
  {
   "cell_type": "markdown",
   "id": "3cedabf3-86fc-48fd-a9f3-84fe73cefc45",
   "metadata": {},
   "source": [
    "# 2) what are the key features of python?"
   ]
  },
  {
   "cell_type": "markdown",
   "id": "b0ec2e02-3dc6-468d-9699-a52f8350ecff",
   "metadata": {},
   "source": [
    "1)easy to read and write\n",
    "\n",
    "2)supports big programs\n",
    "\n",
    "3)easy to connect with database\n",
    "\n",
    "4)more interactive\n",
    "\n",
    "5)easy to write syntax"
   ]
  },
  {
   "cell_type": "markdown",
   "id": "2bd40175-a09c-4d43-ac8f-e075c285001e",
   "metadata": {},
   "source": [
    "# 3) how is python different from other programmimg languages?"
   ]
  },
  {
   "cell_type": "markdown",
   "id": "987a244f-34c1-41cb-95e5-39397384e337",
   "metadata": {},
   "source": [
    "1) we can write the syntax easily\n",
    "2) quickly we can learn the language\n",
    "3) community support: most people use python so it's a benefit to interact with them.\n",
    "4) beginners friendly language\n",
    "5) we can easily understand the code"
   ]
  },
  {
   "cell_type": "markdown",
   "id": "7dc39616-c232-485a-ab3a-c00dd922bd63",
   "metadata": {},
   "source": [
    "# 4) what are python data types?"
   ]
  },
  {
   "cell_type": "markdown",
   "id": "27469db3-3c77-4353-9159-40725c0abd17",
   "metadata": {},
   "source": [
    "# A)basic data types\n",
    "a)integers: an integer is a whole number that can be positive,negative or zero\n",
    "\n",
    "b)float:used to represent floating point number\n",
    "\n",
    "c)complex numbers:combination of real numbers and imaginary numbers\n",
    "\n",
    "d)boolean:used to represent the output true or false"
   ]
  },
  {
   "cell_type": "markdown",
   "id": "7d1213c9-28f2-4f48-bdc2-c78095537e4e",
   "metadata": {},
   "source": [
    "# B)advance data types"
   ]
  },
  {
   "cell_type": "markdown",
   "id": "75a9cc03-f9be-4a2e-8531-438bfe1b4c51",
   "metadata": {},
   "source": [
    "a)lists: collection of elements,represented in[],every element seperated by ',' and list is mutable\n",
    "\n",
    "b)string: sequence of a character,represented in'',\"\",\"'\"' and seperated by ','.\n",
    "\n",
    "c)tupls: collection of elements,represented in(),every element seperated by ',' and tuple is immutable\n",
    "\n",
    "d)dictionary: collection of key andvalues,represented in{},every element seperated by ','.\n",
    "\n",
    "e)sets:  collection of unique elements,represented in{},every element seperated by ',' and tuple is mutable,also does to allows the duplicates."
   ]
  },
  {
   "cell_type": "markdown",
   "id": "0652c325-8d25-47d8-837d-9879135a71e9",
   "metadata": {},
   "source": [
    "# 5) what is the difference between list and tuple?"
   ]
  },
  {
   "cell_type": "markdown",
   "id": "04cd7e3a-cd08-485d-8d8d-ff595afd074b",
   "metadata": {},
   "source": [
    "lists: collection of elements,represented in[],every element seperated by ',' and list is mutable\n",
    "\n",
    "ex:[1,2,3,4,5]\n",
    "\n",
    "tupls: order of elements,represented in(),every element seperated by ',' and tuple is immutable\n",
    "\n",
    "ex:(\"apple\",\"banana\",\"cherry\")\n"
   ]
  },
  {
   "cell_type": "markdown",
   "id": "f4c63a28-6b2b-4373-974a-e1196b2d630f",
   "metadata": {},
   "source": [
    "# 6)how do you comment in python?"
   ]
  },
  {
   "cell_type": "markdown",
   "id": "190b0ac2-71c6-480d-826d-3a54945bc1ec",
   "metadata": {},
   "source": [
    "1) we use hashtag key in python to comment\n",
    "2) They're used to explain what the code does, making it easier to understand.\n",
    "3) it can be represent by '#'"
   ]
  },
  {
   "cell_type": "markdown",
   "id": "aaf4e61a-e5ba-476a-9caa-17c63fc849e9",
   "metadata": {},
   "source": [
    "# 7) what is the difference between break,continue and pass"
   ]
  },
  {
   "cell_type": "markdown",
   "id": "81d1850c-d246-4ddc-854b-6465dec3442d",
   "metadata": {},
   "source": [
    "break : Exits the loop entirely\n",
    "continue : Skips to the next iteration\n",
    "pass : just skips prensent and Does nothing, continues normally"
   ]
  },
  {
   "cell_type": "markdown",
   "id": "499b0e00-f116-45c7-921a-6e733d617b7e",
   "metadata": {},
   "source": [
    "# 8)What is the difference between is and ==?"
   ]
  },
  {
   "cell_type": "markdown",
   "id": "39dc555d-8fd3-45c6-8996-98e3824e0213",
   "metadata": {},
   "source": [
    "is and = both are comparison operators but\n",
    "\n",
    "is used to test for identify object wheather both the variables are related to the same object in memory \n",
    "\n",
    "= is used to test wheather two objects have the same quantity values or not"
   ]
  },
  {
   "cell_type": "markdown",
   "id": "d9c41273-33ef-4194-8c1a-c3b30229d31e",
   "metadata": {},
   "source": [
    "# 9) How do you define a function in Python?"
   ]
  },
  {
   "cell_type": "markdown",
   "id": "490f30f1-8704-4b20-9ee5-32b200623b90",
   "metadata": {},
   "source": [
    "function is of two types\n",
    "1) inbuilt function: bydefault the python had this fuctions\n",
    "2) user define function: the user will define this functions"
   ]
  },
  {
   "cell_type": "markdown",
   "id": "de4ea78a-aa03-435f-b3c6-3503873446e3",
   "metadata": {},
   "source": [
    "# 10) What is a class and an object in Python?"
   ]
  },
  {
   "cell_type": "markdown",
   "id": "505cd149-0080-4324-af54-2c18038eedce",
   "metadata": {},
   "source": [
    "Class is a template, and an object is an instance of that template with actual values."
   ]
  },
  {
   "cell_type": "markdown",
   "id": "931b2320-e9a9-4c21-b783-35a94fcbe4a4",
   "metadata": {},
   "source": [
    "# 11) What is inheritance in Python?"
   ]
  },
  {
   "cell_type": "markdown",
   "id": "54fac3d3-3afc-48ed-81fe-fbd77df38e5c",
   "metadata": {},
   "source": [
    "inheritance enables code reuse and the creation of a class hierarchy, \n",
    "\n",
    "where a child class can inherit from one or more parent classes."
   ]
  },
  {
   "cell_type": "markdown",
   "id": "4ffc830d-5251-4284-a89d-6a5efc6adb6c",
   "metadata": {},
   "source": [
    "# 12) How do you handle exceptions in Python?"
   ]
  },
  {
   "cell_type": "markdown",
   "id": "9c16deff-ebf9-4e7e-88f2-03ac39de79cf",
   "metadata": {},
   "source": [
    "try: Code that might raise an exception is placed inside the try block.\n",
    "\n",
    "except: If an exception occurs in the try block, it is caught and handled by the except block.\n",
    "\n",
    "else: Code inside the else block runs if no exception occurs in the try block.\n",
    "\n",
    "finally: Code in the finally block runs regardless of whether an exception occurred or not (usually used for cleanup)."
   ]
  },
  {
   "cell_type": "markdown",
   "id": "454a459b-ab11-4f3f-a380-e098eb73f1b5",
   "metadata": {},
   "source": [
    "# 1) Python code to Reverse a String"
   ]
  },
  {
   "cell_type": "code",
   "execution_count": 90,
   "id": "4f69e8d9-4168-434d-b20c-4bcd62da6b2c",
   "metadata": {},
   "outputs": [
    {
     "name": "stdout",
     "output_type": "stream",
     "text": [
      "dlrow olleh\n"
     ]
    }
   ],
   "source": [
    "x=\"hello world\"[::-1]\n",
    "print(x)"
   ]
  },
  {
   "cell_type": "markdown",
   "id": "7d2544e4-eb54-434a-a6bb-c86863b8b3b7",
   "metadata": {},
   "source": [
    "# 2) Check if a Number is Even or Odd"
   ]
  },
  {
   "cell_type": "code",
   "execution_count": 93,
   "id": "6bab3150-5249-46c1-80c5-e66c2fbdd011",
   "metadata": {},
   "outputs": [
    {
     "name": "stdin",
     "output_type": "stream",
     "text": [
      "enter a number: 5\n"
     ]
    },
    {
     "name": "stdout",
     "output_type": "stream",
     "text": [
      "odd number\n"
     ]
    }
   ],
   "source": [
    "x=int(input(\"enter a number:\"))\n",
    "if x%2==0:\n",
    "  print(\"even number\")\n",
    "else:\n",
    "  print(\"odd number\")"
   ]
  },
  {
   "cell_type": "markdown",
   "id": "4f665c66-c009-4e7c-abe8-ecb1b9c66924",
   "metadata": {},
   "source": [
    "# 3) Check if a String is a Palindrome"
   ]
  },
  {
   "cell_type": "code",
   "execution_count": 96,
   "id": "7a461e5d-0dfd-4d2b-ad54-0f4395aca408",
   "metadata": {},
   "outputs": [
    {
     "name": "stdin",
     "output_type": "stream",
     "text": [
      "enter a string: \"python\"\n"
     ]
    },
    {
     "name": "stdout",
     "output_type": "stream",
     "text": [
      "not a palindrome\n"
     ]
    }
   ],
   "source": [
    "u=input(\"enter a string:\")\n",
    "if u==u[::-1]:\n",
    "  print(\"palindrome\")\n",
    "else:\n",
    "  print(\"not a palindrome\")"
   ]
  },
  {
   "cell_type": "markdown",
   "id": "8a5fdb5c-a0db-4f96-8445-0e732240bcdf",
   "metadata": {},
   "source": [
    "# 4) Calculate the Factorial of a Number"
   ]
  },
  {
   "cell_type": "code",
   "execution_count": 99,
   "id": "f3780651-c390-46ef-b42a-e6520cd15239",
   "metadata": {},
   "outputs": [
    {
     "name": "stdin",
     "output_type": "stream",
     "text": [
      "Enter a number:  6\n"
     ]
    },
    {
     "name": "stdout",
     "output_type": "stream",
     "text": [
      "The factorial of 6 is 720\n"
     ]
    }
   ],
   "source": [
    "a= int(input(\"Enter a number: \"))\n",
    "\n",
    "f = 1\n",
    "for i in range(1, a + 1):\n",
    "    f *= i\n",
    "print(f\"The factorial of {a} is {f}\")"
   ]
  },
  {
   "cell_type": "markdown",
   "id": "1bf8fa40-0bc6-4003-b518-88c7b3a5fb33",
   "metadata": {},
   "source": [
    "# 5) Find the GCD of Two Numbers"
   ]
  },
  {
   "cell_type": "code",
   "execution_count": 102,
   "id": "9aceff81-567d-4772-a8a5-398dcaf9f72b",
   "metadata": {},
   "outputs": [
    {
     "data": {
      "text/plain": [
       "5"
      ]
     },
     "execution_count": 102,
     "metadata": {},
     "output_type": "execute_result"
    }
   ],
   "source": [
    "import math\n",
    "math.gcd(25,5)"
   ]
  },
  {
   "cell_type": "markdown",
   "id": "857650b5-81ae-4439-ac27-05a972bbffcb",
   "metadata": {},
   "source": [
    "# 6) Remove Duplicates from a List"
   ]
  },
  {
   "cell_type": "code",
   "execution_count": 107,
   "id": "246c4646-f7c0-46fe-854b-0ba05db691eb",
   "metadata": {},
   "outputs": [
    {
     "name": "stdout",
     "output_type": "stream",
     "text": [
      "{40, 10, 50, 20, 30}\n"
     ]
    }
   ],
   "source": [
    "a=[10,20,30,40,10,20,50]\n",
    "b=set(a)\n",
    "print(b)"
   ]
  },
  {
   "cell_type": "markdown",
   "id": "cd40d9b9-c000-4877-94af-5db3707e22b6",
   "metadata": {},
   "source": [
    "# 7) Find the Common Elements in Two Lists"
   ]
  },
  {
   "cell_type": "code",
   "execution_count": 111,
   "id": "6f26191b-397b-4c62-952a-78418079fce6",
   "metadata": {},
   "outputs": [
    {
     "data": {
      "text/plain": [
       "{3, 4, 5, 6, 7}"
      ]
     },
     "execution_count": 111,
     "metadata": {},
     "output_type": "execute_result"
    }
   ],
   "source": [
    "a=[1,2,3,4,5,6,7]\n",
    "b=[3,4,5,6,7,8,9]\n",
    "set(a) & set(b)\n"
   ]
  }
 ],
 "metadata": {
  "kernelspec": {
   "display_name": "Python [conda env:base] *",
   "language": "python",
   "name": "conda-base-py"
  },
  "language_info": {
   "codemirror_mode": {
    "name": "ipython",
    "version": 3
   },
   "file_extension": ".py",
   "mimetype": "text/x-python",
   "name": "python",
   "nbconvert_exporter": "python",
   "pygments_lexer": "ipython3",
   "version": "3.12.7"
  }
 },
 "nbformat": 4,
 "nbformat_minor": 5
}
